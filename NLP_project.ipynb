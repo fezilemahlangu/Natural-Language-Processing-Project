{
  "nbformat": 4,
  "nbformat_minor": 0,
  "metadata": {
    "colab": {
      "provenance": [],
      "mount_file_id": "https://github.com/fezilemahlangu/Natural-Language-Processing-Project/blob/main/NLP_project.ipynb",
      "authorship_tag": "ABX9TyMJNH08T0AbCZkpRPm5B31B",
      "include_colab_link": true
    },
    "kernelspec": {
      "name": "python3",
      "display_name": "Python 3"
    },
    "language_info": {
      "name": "python"
    }
  },
  "cells": [
    {
      "cell_type": "markdown",
      "metadata": {
        "id": "view-in-github",
        "colab_type": "text"
      },
      "source": [
        "<a href=\"https://colab.research.google.com/github/fezilemahlangu/Natural-Language-Processing-Project/blob/main/NLP_project.ipynb\" target=\"_parent\"><img src=\"https://colab.research.google.com/assets/colab-badge.svg\" alt=\"Open In Colab\"/></a>"
      ]
    },
    {
      "cell_type": "markdown",
      "source": [
        "#Fezile Mahlangu \n",
        "\n",
        "#2089676\n",
        "\n",
        "#NLP Project 2022 \n",
        "\n",
        "\n",
        "---\n",
        "\n",
        "Project: Spam Classification Using Naive Bayes\n",
        "\n",
        "Aim: Train and optimize a spam classifier using Naive Bayes classification model\n",
        "\n",
        "Tasks:\n",
        "- [x] Implement a Naive Bayes Model\n",
        "- [x] Investigate the effect of using different features \n",
        "- [x] Evaluate the performance of different models\n",
        "- [x] Optimize the model for better performance\n",
        "\n",
        "\n"
      ],
      "metadata": {
        "id": "0Y1HgjYg_FCE"
      }
    },
    {
      "cell_type": "markdown",
      "source": [
        "\n",
        "\n",
        "---\n",
        "\n"
      ],
      "metadata": {
        "id": "qb81hvjKNksD"
      }
    },
    {
      "cell_type": "markdown",
      "source": [
        "# Imports"
      ],
      "metadata": {
        "id": "hCYvB5ipLtJ3"
      }
    },
    {
      "cell_type": "code",
      "execution_count": 81,
      "metadata": {
        "id": "S33aocZe-etl",
        "colab": {
          "base_uri": "https://localhost:8080/"
        },
        "outputId": "978137f3-413b-4cce-882b-b1ddd81f900d"
      },
      "outputs": [
        {
          "output_type": "stream",
          "name": "stderr",
          "text": [
            "[nltk_data] Downloading package stopwords to /root/nltk_data...\n",
            "[nltk_data]   Package stopwords is already up-to-date!\n",
            "[nltk_data] Downloading package wordnet to /root/nltk_data...\n",
            "[nltk_data]   Package wordnet is already up-to-date!\n",
            "[nltk_data] Downloading package omw-1.4 to /root/nltk_data...\n",
            "[nltk_data]   Package omw-1.4 is already up-to-date!\n"
          ]
        }
      ],
      "source": [
        "import numpy as np\n",
        "import pandas as pd\n",
        "import nltk\n",
        "import copy\n",
        "nltk.download('stopwords')\n",
        "from nltk.tokenize import word_tokenize, wordpunct_tokenize\n",
        "nltk.download(\"wordnet\")\n",
        "from nltk.stem.wordnet import WordNetLemmatizer \n",
        "from nltk.tokenize import RegexpTokenizer\n",
        "nltk.download('omw-1.4')\n",
        "\n",
        "from sklearn.naive_bayes import MultinomialNB\n",
        "from sklearn.feature_extraction.text import CountVectorizer\n",
        "from sklearn.metrics import accuracy_score, precision_recall_fscore_support, confusion_matrix,f1_score\n",
        "from sklearn.metrics import ConfusionMatrixDisplay\n",
        "from collections import Counter\n",
        "from sklearn.metrics import classification_report,confusion_matrix\n",
        "from sklearn.feature_extraction.text import TfidfVectorizer"
      ]
    },
    {
      "cell_type": "markdown",
      "source": [
        "# Loading data"
      ],
      "metadata": {
        "id": "yEImhTNLLwU7"
      }
    },
    {
      "cell_type": "code",
      "source": [
        "#loading data -> Remember to remove drive path and use normal path\n",
        "\n",
        "train_df = pd.read_csv(\"/content/drive/MyDrive/NLP/train.csv\")\n",
        "val_df = pd.read_csv(\"/content/drive/MyDrive/NLP/val.csv\")\n",
        "test_df = pd.read_csv(\"/content/drive/MyDrive/NLP/test.csv\")\n",
        "display(train_df)"
      ],
      "metadata": {
        "colab": {
          "base_uri": "https://localhost:8080/",
          "height": 424
        },
        "id": "GCpy9615-sCa",
        "outputId": "c96f2367-74bf-4f56-ac0c-13dc753d33fc"
      },
      "execution_count": 2,
      "outputs": [
        {
          "output_type": "display_data",
          "data": {
            "text/plain": [
              "                                                   text  label\n",
              "0     Subject: thank you\\r\\nami and daren , , , ,\\r\\...      0\n",
              "1     Subject: spot or firm tickets\\r\\nvance ,\\r\\nth...      0\n",
              "2     Subject: software\\r\\nmicrosoft windows xp prof...      1\n",
              "3     Subject: noms / actual flow for 2 / 27\\r\\nwe a...      0\n",
              "4     Subject: superb so . ftware\\r\\nyoull discover ...      1\n",
              "...                                                 ...    ...\n",
              "3097  Subject: \\r\\n( envelope - from 20040929124340 ...      1\n",
              "3098  Subject: re : intraday eastrans nomination cha...      0\n",
              "3099  Subject: meter 1601\\r\\ndaren - meter 1601 has ...      0\n",
              "3100  Subject: need legal help ?\\r\\nto unsubscribe f...      1\n",
              "3101  Subject: re : tuesday , december 26 th\\r\\nmary...      0\n",
              "\n",
              "[3102 rows x 2 columns]"
            ],
            "text/html": [
              "\n",
              "  <div id=\"df-9fd028c1-3a70-4512-ae9d-06b2bea1b85e\">\n",
              "    <div class=\"colab-df-container\">\n",
              "      <div>\n",
              "<style scoped>\n",
              "    .dataframe tbody tr th:only-of-type {\n",
              "        vertical-align: middle;\n",
              "    }\n",
              "\n",
              "    .dataframe tbody tr th {\n",
              "        vertical-align: top;\n",
              "    }\n",
              "\n",
              "    .dataframe thead th {\n",
              "        text-align: right;\n",
              "    }\n",
              "</style>\n",
              "<table border=\"1\" class=\"dataframe\">\n",
              "  <thead>\n",
              "    <tr style=\"text-align: right;\">\n",
              "      <th></th>\n",
              "      <th>text</th>\n",
              "      <th>label</th>\n",
              "    </tr>\n",
              "  </thead>\n",
              "  <tbody>\n",
              "    <tr>\n",
              "      <th>0</th>\n",
              "      <td>Subject: thank you\\r\\nami and daren , , , ,\\r\\...</td>\n",
              "      <td>0</td>\n",
              "    </tr>\n",
              "    <tr>\n",
              "      <th>1</th>\n",
              "      <td>Subject: spot or firm tickets\\r\\nvance ,\\r\\nth...</td>\n",
              "      <td>0</td>\n",
              "    </tr>\n",
              "    <tr>\n",
              "      <th>2</th>\n",
              "      <td>Subject: software\\r\\nmicrosoft windows xp prof...</td>\n",
              "      <td>1</td>\n",
              "    </tr>\n",
              "    <tr>\n",
              "      <th>3</th>\n",
              "      <td>Subject: noms / actual flow for 2 / 27\\r\\nwe a...</td>\n",
              "      <td>0</td>\n",
              "    </tr>\n",
              "    <tr>\n",
              "      <th>4</th>\n",
              "      <td>Subject: superb so . ftware\\r\\nyoull discover ...</td>\n",
              "      <td>1</td>\n",
              "    </tr>\n",
              "    <tr>\n",
              "      <th>...</th>\n",
              "      <td>...</td>\n",
              "      <td>...</td>\n",
              "    </tr>\n",
              "    <tr>\n",
              "      <th>3097</th>\n",
              "      <td>Subject: \\r\\n( envelope - from 20040929124340 ...</td>\n",
              "      <td>1</td>\n",
              "    </tr>\n",
              "    <tr>\n",
              "      <th>3098</th>\n",
              "      <td>Subject: re : intraday eastrans nomination cha...</td>\n",
              "      <td>0</td>\n",
              "    </tr>\n",
              "    <tr>\n",
              "      <th>3099</th>\n",
              "      <td>Subject: meter 1601\\r\\ndaren - meter 1601 has ...</td>\n",
              "      <td>0</td>\n",
              "    </tr>\n",
              "    <tr>\n",
              "      <th>3100</th>\n",
              "      <td>Subject: need legal help ?\\r\\nto unsubscribe f...</td>\n",
              "      <td>1</td>\n",
              "    </tr>\n",
              "    <tr>\n",
              "      <th>3101</th>\n",
              "      <td>Subject: re : tuesday , december 26 th\\r\\nmary...</td>\n",
              "      <td>0</td>\n",
              "    </tr>\n",
              "  </tbody>\n",
              "</table>\n",
              "<p>3102 rows × 2 columns</p>\n",
              "</div>\n",
              "      <button class=\"colab-df-convert\" onclick=\"convertToInteractive('df-9fd028c1-3a70-4512-ae9d-06b2bea1b85e')\"\n",
              "              title=\"Convert this dataframe to an interactive table.\"\n",
              "              style=\"display:none;\">\n",
              "        \n",
              "  <svg xmlns=\"http://www.w3.org/2000/svg\" height=\"24px\"viewBox=\"0 0 24 24\"\n",
              "       width=\"24px\">\n",
              "    <path d=\"M0 0h24v24H0V0z\" fill=\"none\"/>\n",
              "    <path d=\"M18.56 5.44l.94 2.06.94-2.06 2.06-.94-2.06-.94-.94-2.06-.94 2.06-2.06.94zm-11 1L8.5 8.5l.94-2.06 2.06-.94-2.06-.94L8.5 2.5l-.94 2.06-2.06.94zm10 10l.94 2.06.94-2.06 2.06-.94-2.06-.94-.94-2.06-.94 2.06-2.06.94z\"/><path d=\"M17.41 7.96l-1.37-1.37c-.4-.4-.92-.59-1.43-.59-.52 0-1.04.2-1.43.59L10.3 9.45l-7.72 7.72c-.78.78-.78 2.05 0 2.83L4 21.41c.39.39.9.59 1.41.59.51 0 1.02-.2 1.41-.59l7.78-7.78 2.81-2.81c.8-.78.8-2.07 0-2.86zM5.41 20L4 18.59l7.72-7.72 1.47 1.35L5.41 20z\"/>\n",
              "  </svg>\n",
              "      </button>\n",
              "      \n",
              "  <style>\n",
              "    .colab-df-container {\n",
              "      display:flex;\n",
              "      flex-wrap:wrap;\n",
              "      gap: 12px;\n",
              "    }\n",
              "\n",
              "    .colab-df-convert {\n",
              "      background-color: #E8F0FE;\n",
              "      border: none;\n",
              "      border-radius: 50%;\n",
              "      cursor: pointer;\n",
              "      display: none;\n",
              "      fill: #1967D2;\n",
              "      height: 32px;\n",
              "      padding: 0 0 0 0;\n",
              "      width: 32px;\n",
              "    }\n",
              "\n",
              "    .colab-df-convert:hover {\n",
              "      background-color: #E2EBFA;\n",
              "      box-shadow: 0px 1px 2px rgba(60, 64, 67, 0.3), 0px 1px 3px 1px rgba(60, 64, 67, 0.15);\n",
              "      fill: #174EA6;\n",
              "    }\n",
              "\n",
              "    [theme=dark] .colab-df-convert {\n",
              "      background-color: #3B4455;\n",
              "      fill: #D2E3FC;\n",
              "    }\n",
              "\n",
              "    [theme=dark] .colab-df-convert:hover {\n",
              "      background-color: #434B5C;\n",
              "      box-shadow: 0px 1px 3px 1px rgba(0, 0, 0, 0.15);\n",
              "      filter: drop-shadow(0px 1px 2px rgba(0, 0, 0, 0.3));\n",
              "      fill: #FFFFFF;\n",
              "    }\n",
              "  </style>\n",
              "\n",
              "      <script>\n",
              "        const buttonEl =\n",
              "          document.querySelector('#df-9fd028c1-3a70-4512-ae9d-06b2bea1b85e button.colab-df-convert');\n",
              "        buttonEl.style.display =\n",
              "          google.colab.kernel.accessAllowed ? 'block' : 'none';\n",
              "\n",
              "        async function convertToInteractive(key) {\n",
              "          const element = document.querySelector('#df-9fd028c1-3a70-4512-ae9d-06b2bea1b85e');\n",
              "          const dataTable =\n",
              "            await google.colab.kernel.invokeFunction('convertToInteractive',\n",
              "                                                     [key], {});\n",
              "          if (!dataTable) return;\n",
              "\n",
              "          const docLinkHtml = 'Like what you see? Visit the ' +\n",
              "            '<a target=\"_blank\" href=https://colab.research.google.com/notebooks/data_table.ipynb>data table notebook</a>'\n",
              "            + ' to learn more about interactive tables.';\n",
              "          element.innerHTML = '';\n",
              "          dataTable['output_type'] = 'display_data';\n",
              "          await google.colab.output.renderOutput(dataTable, element);\n",
              "          const docLink = document.createElement('div');\n",
              "          docLink.innerHTML = docLinkHtml;\n",
              "          element.appendChild(docLink);\n",
              "        }\n",
              "      </script>\n",
              "    </div>\n",
              "  </div>\n",
              "  "
            ]
          },
          "metadata": {}
        }
      ]
    },
    {
      "cell_type": "code",
      "source": [
        "\n",
        "train = [train_df[train_df.label==0].count()[0],train_df[train_df.label==1].count()[0]]\n",
        "test = [test_df[test_df.label==0].count()[0],test_df[test_df.label==1].count()[0]]\n",
        "val = [val_df[val_df.label==0].count()[0],val_df[val_df.label==1].count()[0]]\n",
        "\n",
        "index = ['0', '1']\n",
        "df = pd.DataFrame({'train': train,\n",
        "                   'val': val, 'test':test}, index=index)\n",
        "ax = df.plot.bar(rot=0,title=\"Number of records per class\")\n",
        "ax.set_xlabel(\"class\")\n",
        "ax.set_ylabel(\"number of records\")\n"
      ],
      "metadata": {
        "colab": {
          "base_uri": "https://localhost:8080/",
          "height": 312
        },
        "id": "eDCHvHPgHmrL",
        "outputId": "68893b8d-04e9-4659-ddc8-3ca9c1179663"
      },
      "execution_count": 92,
      "outputs": [
        {
          "output_type": "execute_result",
          "data": {
            "text/plain": [
              "Text(0, 0.5, 'number of records')"
            ]
          },
          "metadata": {},
          "execution_count": 92
        },
        {
          "output_type": "display_data",
          "data": {
            "text/plain": [
              "<Figure size 432x288 with 1 Axes>"
            ],
            "image/png": "[encoded data removed]"
          },
          "metadata": {
            "needs_background": "light"
          }
        }
      ]
    },
    {
      "cell_type": "markdown",
      "source": [
        "# 1. Preprocessing of data\n",
        "\n",
        "The text will be tokenized and there will be a list of words for each sentence "
      ],
      "metadata": {
        "id": "RzdMP6ioIwVw"
      }
    },
    {
      "cell_type": "code",
      "source": [
        "train_df.head()"
      ],
      "metadata": {
        "colab": {
          "base_uri": "https://localhost:8080/",
          "height": 206
        },
        "id": "8AYW_3jUqRBu",
        "outputId": "68a81a44-1789-4b11-e236-91bbe5b49d2d"
      },
      "execution_count": null,
      "outputs": [
        {
          "output_type": "execute_result",
          "data": {
            "text/plain": [
              "                                                text  label\n",
              "0  Subject: thank you\\r\\nami and daren , , , ,\\r\\...      0\n",
              "1  Subject: spot or firm tickets\\r\\nvance ,\\r\\nth...      0\n",
              "2  Subject: software\\r\\nmicrosoft windows xp prof...      1\n",
              "3  Subject: noms / actual flow for 2 / 27\\r\\nwe a...      0\n",
              "4  Subject: superb so . ftware\\r\\nyoull discover ...      1"
            ],
            "text/html": [
              "\n",
              "  <div id=\"df-dc83a57d-38f5-414b-812c-95fee9caa960\">\n",
              "    <div class=\"colab-df-container\">\n",
              "      <div>\n",
              "<style scoped>\n",
              "    .dataframe tbody tr th:only-of-type {\n",
              "        vertical-align: middle;\n",
              "    }\n",
              "\n",
              "    .dataframe tbody tr th {\n",
              "        vertical-align: top;\n",
              "    }\n",
              "\n",
              "    .dataframe thead th {\n",
              "        text-align: right;\n",
              "    }\n",
              "</style>\n",
              "<table border=\"1\" class=\"dataframe\">\n",
              "  <thead>\n",
              "    <tr style=\"text-align: right;\">\n",
              "      <th></th>\n",
              "      <th>text</th>\n",
              "      <th>label</th>\n",
              "    </tr>\n",
              "  </thead>\n",
              "  <tbody>\n",
              "    <tr>\n",
              "      <th>0</th>\n",
              "      <td>Subject: thank you\\r\\nami and daren , , , ,\\r\\...</td>\n",
              "      <td>0</td>\n",
              "    </tr>\n",
              "    <tr>\n",
              "      <th>1</th>\n",
              "      <td>Subject: spot or firm tickets\\r\\nvance ,\\r\\nth...</td>\n",
              "      <td>0</td>\n",
              "    </tr>\n",
              "    <tr>\n",
              "      <th>2</th>\n",
              "      <td>Subject: software\\r\\nmicrosoft windows xp prof...</td>\n",
              "      <td>1</td>\n",
              "    </tr>\n",
              "    <tr>\n",
              "      <th>3</th>\n",
              "      <td>Subject: noms / actual flow for 2 / 27\\r\\nwe a...</td>\n",
              "      <td>0</td>\n",
              "    </tr>\n",
              "    <tr>\n",
              "      <th>4</th>\n",
              "      <td>Subject: superb so . ftware\\r\\nyoull discover ...</td>\n",
              "      <td>1</td>\n",
              "    </tr>\n",
              "  </tbody>\n",
              "</table>\n",
              "</div>\n",
              "      <button class=\"colab-df-convert\" onclick=\"convertToInteractive('df-dc83a57d-38f5-414b-812c-95fee9caa960')\"\n",
              "              title=\"Convert this dataframe to an interactive table.\"\n",
              "              style=\"display:none;\">\n",
              "        \n",
              "  <svg xmlns=\"http://www.w3.org/2000/svg\" height=\"24px\"viewBox=\"0 0 24 24\"\n",
              "       width=\"24px\">\n",
              "    <path d=\"M0 0h24v24H0V0z\" fill=\"none\"/>\n",
              "    <path d=\"M18.56 5.44l.94 2.06.94-2.06 2.06-.94-2.06-.94-.94-2.06-.94 2.06-2.06.94zm-11 1L8.5 8.5l.94-2.06 2.06-.94-2.06-.94L8.5 2.5l-.94 2.06-2.06.94zm10 10l.94 2.06.94-2.06 2.06-.94-2.06-.94-.94-2.06-.94 2.06-2.06.94z\"/><path d=\"M17.41 7.96l-1.37-1.37c-.4-.4-.92-.59-1.43-.59-.52 0-1.04.2-1.43.59L10.3 9.45l-7.72 7.72c-.78.78-.78 2.05 0 2.83L4 21.41c.39.39.9.59 1.41.59.51 0 1.02-.2 1.41-.59l7.78-7.78 2.81-2.81c.8-.78.8-2.07 0-2.86zM5.41 20L4 18.59l7.72-7.72 1.47 1.35L5.41 20z\"/>\n",
              "  </svg>\n",
              "      </button>\n",
              "      \n",
              "  <style>\n",
              "    .colab-df-container {\n",
              "      display:flex;\n",
              "      flex-wrap:wrap;\n",
              "      gap: 12px;\n",
              "    }\n",
              "\n",
              "    .colab-df-convert {\n",
              "      background-color: #E8F0FE;\n",
              "      border: none;\n",
              "      border-radius: 50%;\n",
              "      cursor: pointer;\n",
              "      display: none;\n",
              "      fill: #1967D2;\n",
              "      height: 32px;\n",
              "      padding: 0 0 0 0;\n",
              "      width: 32px;\n",
              "    }\n",
              "\n",
              "    .colab-df-convert:hover {\n",
              "      background-color: #E2EBFA;\n",
              "      box-shadow: 0px 1px 2px rgba(60, 64, 67, 0.3), 0px 1px 3px 1px rgba(60, 64, 67, 0.15);\n",
              "      fill: #174EA6;\n",
              "    }\n",
              "\n",
              "    [theme=dark] .colab-df-convert {\n",
              "      background-color: #3B4455;\n",
              "      fill: #D2E3FC;\n",
              "    }\n",
              "\n",
              "    [theme=dark] .colab-df-convert:hover {\n",
              "      background-color: #434B5C;\n",
              "      box-shadow: 0px 1px 3px 1px rgba(0, 0, 0, 0.15);\n",
              "      filter: drop-shadow(0px 1px 2px rgba(0, 0, 0, 0.3));\n",
              "      fill: #FFFFFF;\n",
              "    }\n",
              "  </style>\n",
              "\n",
              "      <script>\n",
              "        const buttonEl =\n",
              "          document.querySelector('#df-dc83a57d-38f5-414b-812c-95fee9caa960 button.colab-df-convert');\n",
              "        buttonEl.style.display =\n",
              "          google.colab.kernel.accessAllowed ? 'block' : 'none';\n",
              "\n",
              "        async function convertToInteractive(key) {\n",
              "          const element = document.querySelector('#df-dc83a57d-38f5-414b-812c-95fee9caa960');\n",
              "          const dataTable =\n",
              "            await google.colab.kernel.invokeFunction('convertToInteractive',\n",
              "                                                     [key], {});\n",
              "          if (!dataTable) return;\n",
              "\n",
              "          const docLinkHtml = 'Like what you see? Visit the ' +\n",
              "            '<a target=\"_blank\" href=https://colab.research.google.com/notebooks/data_table.ipynb>data table notebook</a>'\n",
              "            + ' to learn more about interactive tables.';\n",
              "          element.innerHTML = '';\n",
              "          dataTable['output_type'] = 'display_data';\n",
              "          await google.colab.output.renderOutput(dataTable, element);\n",
              "          const docLink = document.createElement('div');\n",
              "          docLink.innerHTML = docLinkHtml;\n",
              "          element.appendChild(docLink);\n",
              "        }\n",
              "      </script>\n",
              "    </div>\n",
              "  </div>\n",
              "  "
            ]
          },
          "metadata": {},
          "execution_count": 4
        }
      ]
    },
    {
      "cell_type": "code",
      "source": [
        "#creating x and y arrays from dataframes \n",
        "train_x = train_df.text\n",
        "train_y = train_df.label\n",
        "\n",
        "test_x = test_df.text\n",
        "test_y = test_df.label\n",
        "\n",
        "val_x = val_df.text\n",
        "val_y = val_df.label\n",
        "\n",
        "len(train_x)\n",
        "\n",
        "# https://www.kaggle.com/code/conniedeng/nlp-eron-dataset\n"
      ],
      "metadata": {
        "colab": {
          "base_uri": "https://localhost:8080/"
        },
        "id": "3gWGRy7mDkJy",
        "outputId": "386a9b11-3c55-4bff-e45c-ea7db4e51e5a"
      },
      "execution_count": 8,
      "outputs": [
        {
          "output_type": "execute_result",
          "data": {
            "text/plain": [
              "3102"
            ]
          },
          "metadata": {},
          "execution_count": 8
        }
      ]
    },
    {
      "cell_type": "code",
      "source": [
        "#turn into np arrays \n",
        "train_y = np.array(train_y)\n",
        "val_y = np.array(val_y)\n",
        "test_y = np.array(test_y)"
      ],
      "metadata": {
        "id": "Eb9D-jNmScu7"
      },
      "execution_count": 9,
      "outputs": []
    },
    {
      "cell_type": "code",
      "source": [
        "def split_row(row):\n",
        "  \"\"\"\n",
        "  Function takes in a row and splits by \"\\n\"\n",
        "  \"\"\"\n",
        "  return row.split(\"\\n\")"
      ],
      "metadata": {
        "id": "Xex94GysrZ3D"
      },
      "execution_count": 10,
      "outputs": []
    },
    {
      "cell_type": "code",
      "source": [
        "def tokenize(row):\n",
        "  \"\"\"\n",
        "  splits by white space and punctuations\n",
        "  \"\"\"\n",
        "  return wordpunct_tokenize(row)"
      ],
      "metadata": {
        "id": "Zv0rAhQfs32u"
      },
      "execution_count": 12,
      "outputs": []
    },
    {
      "cell_type": "code",
      "source": [
        "def handle_money(row):\n",
        "  #puts $5.99 back from [\"$\",\"5\",\".\",\"99\"]\n",
        "  leng = len(row)\n",
        "  i = 0\n",
        "  while leng != 0 :\n",
        "    if row[i]=='$' and row[i+2].isnumeric():\n",
        "      row = row[:i+1] + row[(i+2):]\n",
        "      leng-=1\n",
        "\n",
        "    elif (row[i] == '.' and row[i+2].isnumeric() and row[i-2].isnumeric()):\n",
        "      row = row[0:i-1] + row[i:i+1] + row[i+2:]\n",
        "      leng-=2\n",
        "    i+=1\n",
        "    leng-=1\n",
        "\n",
        "  return row\n",
        "  "
      ],
      "metadata": {
        "id": "KaPdbzTDt8hX"
      },
      "execution_count": 13,
      "outputs": []
    },
    {
      "cell_type": "code",
      "source": [
        "def remove_punct(row):\n",
        "  \"\"\"\n",
        "  Goes through row and removes punctuation marks\n",
        "  \"\"\"\n",
        "\n",
        "  return [word for word in row if word.isalpha()] \n"
      ],
      "metadata": {
        "id": "KOW_iddhKZif"
      },
      "execution_count": 14,
      "outputs": []
    },
    {
      "cell_type": "code",
      "source": [
        "stemmer = nltk.stem.porter.PorterStemmer()\n",
        "def stem_words(row):\n",
        "  \"\"\"\n",
        "  Function that performs stemming \n",
        "  removes word ending crudely -ing \n",
        "  \"\"\"\n",
        "  \n",
        "  return [stemmer.stem(i) for i in row]\n"
      ],
      "metadata": {
        "id": "O_MfO-43K49-"
      },
      "execution_count": 15,
      "outputs": []
    },
    {
      "cell_type": "code",
      "source": [
        "lemmatizer = nltk.stem.wordnet.WordNetLemmatizer()\n",
        "def lemmatize(row):\n",
        "  \"\"\"\n",
        "  performs lemmatization \n",
        "  make a word a root \n",
        "  \"\"\"\n",
        " \n",
        "  return [lemmatizer.lemmatize(i) for i in row]"
      ],
      "metadata": {
        "id": "cFU9diFRLL8c"
      },
      "execution_count": 16,
      "outputs": []
    },
    {
      "cell_type": "code",
      "source": [
        "#checking if functions work:\n",
        "\n",
        "a = [\"getting\", \"google\", \"meeting\",\"rocks\"]\n",
        "print(a)\n",
        "print(f\"Stemming:{stem_words(a)}\")\n",
        "print(f\"Lemmatization:{lemmatize(a)}\")\n"
      ],
      "metadata": {
        "colab": {
          "base_uri": "https://localhost:8080/"
        },
        "id": "iYwj9I_yNOwW",
        "outputId": "fa96fd85-e2de-4b10-8a71-4e6903ee9fd7"
      },
      "execution_count": 19,
      "outputs": [
        {
          "output_type": "stream",
          "name": "stdout",
          "text": [
            "['getting', 'google', 'meeting', 'rocks']\n",
            "Stemming:['get', 'googl', 'meet', 'rock']\n",
            "Lemmatization:['getting', 'google', 'meeting', 'rock']\n"
          ]
        }
      ]
    },
    {
      "cell_type": "code",
      "source": [
        "tokenizer = RegexpTokenizer('\\w+|\\$[\\d\\.]+|\\S+')\n",
        "\n",
        "def tokenize_with_money(row):\n",
        "  '''\n",
        "  splits by white space but doesnt split on money $\n",
        "  '''\n",
        "  return tokenizer.tokenize(row)\n"
      ],
      "metadata": {
        "id": "7XLgrj4Q_OeC"
      },
      "execution_count": 20,
      "outputs": []
    },
    {
      "cell_type": "code",
      "source": [
        "stop_words = nltk.corpus.stopwords.words('english')\n",
        "\n",
        "def remove_stop_words(row):\n",
        "  \"\"\"\n",
        "  Function that removes stop words -> really frequent words\n",
        "  \"\"\"\n",
        "  return [i for i in row if i not in stop_words]"
      ],
      "metadata": {
        "id": "ssoxShzqJZN5"
      },
      "execution_count": 21,
      "outputs": []
    },
    {
      "cell_type": "code",
      "source": [
        "def clean_x(data):\n",
        "  clean = []\n",
        "  for i in data:\n",
        "    text = tokenize_with_money(i)\n",
        "\n",
        "    text = remove_punct(text)\n",
        "\n",
        "    text = remove_stop_words(text)\n",
        "\n",
        "    text = stem_words(text)\n",
        "\n",
        "    text = lemmatize(text)\n",
        "\n",
        "    clean.append(text)\n",
        "  return clean \n",
        "\n"
      ],
      "metadata": {
        "id": "-rKPv2TWUHot"
      },
      "execution_count": 22,
      "outputs": []
    },
    {
      "cell_type": "code",
      "source": [
        "\n",
        "clean_train_x = clean_x(train_x)\n",
        "clean_val_x = clean_x(val_x)\n",
        "clean_test_x = clean_x(test_x)\n"
      ],
      "metadata": {
        "id": "4E018dbz4uui"
      },
      "execution_count": 23,
      "outputs": []
    },
    {
      "cell_type": "code",
      "source": [
        "print(\"Text before preprocessing: \\n\")\n",
        "print(train_x[0])\n",
        "print(\"----------------------------------------------------------------------------------------------------------------------------------------------------------------------\")\n",
        "print(\"Text after preprocessing: \\n\")\n",
        "print(clean_train_x[0])\n",
        "print(\"----------------------------------------------------------------------------------------------------------------------------------------------------------------------\")"
      ],
      "metadata": {
        "colab": {
          "base_uri": "https://localhost:8080/"
        },
        "id": "LOsXSKA3Mp_C",
        "outputId": "6cb4b917-2c9c-4590-aa8e-0b27c9889b53"
      },
      "execution_count": 24,
      "outputs": [
        {
          "output_type": "stream",
          "name": "stdout",
          "text": [
            "Text before preprocessing: \n",
            "\n",
            "Subject: thank you\r\n",
            "ami and daren , , , ,\r\n",
            "just wanted again to say thanks ! ! ! , for the great time at st . pete ' s beach ,\r\n",
            "fla .\r\n",
            "the company , food , fishing and yes , of coarse\r\n",
            "the drink or many drinks were great ! ! ! daren , can relate to the drinks .\r\n",
            "i enjoyed meeting everyone there .\r\n",
            "we appreciate your business and look forward to continue our business relation\r\n",
            "with enron in the future .\r\n",
            "sincerely ,\r\n",
            "tim\n",
            "----------------------------------------------------------------------------------------------------------------------------------------------------------------------\n",
            "Text after preprocessing: \n",
            "\n",
            "['subject', 'thank', 'ami', 'daren', 'want', 'say', 'thank', 'great', 'time', 'st', 'pete', 'beach', 'fla', 'compani', 'food', 'fish', 'ye', 'coars', 'drink', 'mani', 'drink', 'great', 'daren', 'relat', 'drink', 'enjoy', 'meet', 'everyon', 'appreci', 'busi', 'look', 'forward', 'continu', 'busi', 'relat', 'enron', 'futur', 'sincer', 'tim']\n",
            "----------------------------------------------------------------------------------------------------------------------------------------------------------------------\n"
          ]
        }
      ]
    },
    {
      "cell_type": "code",
      "source": [
        "print(\"Text before preprocessing: \\n\")\n",
        "print(train_x[1])\n",
        "print(\"----------------------------------------------------------------------------------------------------------------------------------------------------------------------\")\n",
        "print(\"Text after preprocessing: \\n\")\n",
        "print(clean_train_x[2])\n",
        "print(\"----------------------------------------------------------------------------------------------------------------------------------------------------------------------\")"
      ],
      "metadata": {
        "id": "oKT6DEQkZsuw"
      },
      "execution_count": null,
      "outputs": []
    },
    {
      "cell_type": "markdown",
      "source": [
        "# 2. Training a standard Naive Bayes model "
      ],
      "metadata": {
        "id": "62EkfrNSDDZi"
      }
    },
    {
      "cell_type": "code",
      "source": [
        "from sklearn.pipeline import Pipeline\n",
        "#creating a pipeline for each model \n",
        "\n",
        "pipeline1 = Pipeline([\n",
        "   ('bow',CountVectorizer()),\n",
        "    ('classifier',MultinomialNB()),\n",
        "])\n",
        "\n",
        "pipeline2 = Pipeline([\n",
        "   ('bow',CountVectorizer()),\n",
        "    ('classifier',MultinomialNB()),\n",
        "])\n",
        "\n",
        "pipeline3 = Pipeline([\n",
        "   ('bow',CountVectorizer()),\n",
        "    ('classifier',MultinomialNB()),\n",
        "])\n",
        "\n",
        "pipeline4 = Pipeline([\n",
        "   ('bow',CountVectorizer()),\n",
        "    ('classifier',MultinomialNB()),\n",
        "])\n",
        "\n",
        "pipeline4 = Pipeline([\n",
        "   ('bow',CountVectorizer()),\n",
        "    ('classifier',MultinomialNB()),\n",
        "])\n",
        "\n",
        "pipeline5 = Pipeline([\n",
        "   ('bow',CountVectorizer()),\n",
        "    ('classifier',MultinomialNB()),\n",
        "])"
      ],
      "metadata": {
        "id": "uP9FKeI5cmUV"
      },
      "execution_count": 25,
      "outputs": []
    },
    {
      "cell_type": "code",
      "source": [
        "# #scale data ?\n",
        "\n",
        "# from sklearn.preprocessing import StandardScaler\n",
        "\n",
        "# sc = StandardScaler()\n",
        "\n",
        "# x_train is after count_vector.fit \n",
        "# x_train = sc.fit_transform(x_train)\n",
        "# x_test = sc.transform(x_test)\n",
        "\n",
        "#LAPLACE SMOOTHING "
      ],
      "metadata": {
        "id": "fKTthfXA3Y5U"
      },
      "execution_count": null,
      "outputs": []
    },
    {
      "cell_type": "code",
      "source": [
        "#transforming to numeric form for MultinomialNB\n",
        "\n",
        "#old code \n",
        "    # count_vector = CountVectorizer()\n",
        "\n",
        "    # clean_train_x_join = [\" \".join(i) for i in clean_train_x] #turn to string for count_vector \n",
        "\n",
        "\n",
        "    # trans_x = count_vector.fit_transform(clean_train_x_join)\n",
        "\n",
        "    # # trans_x_dense = np.array(trans_x.todense())\n",
        "\n",
        "    # Model1 = MultinomialNB().fit(trans_x,train_y) #multi ???\n",
        "#new code\n",
        "\n",
        "clean_train_x_join = [\" \".join(i) for i in clean_train_x] #turn to string for count_vector \n",
        "Model1 = pipeline1.fit(clean_train_x_join,train_y)\n",
        "\n"
      ],
      "metadata": {
        "id": "bVVD5uQxDC4g"
      },
      "execution_count": 26,
      "outputs": []
    },
    {
      "cell_type": "code",
      "source": [
        "# trans_x[0][0]\n",
        "# https://www.kaggle.com/code/syamalakumar/spam-ham-nlp-basic-project\n",
        "\n",
        "# https://www.kaggle.com/code/dilip990/spam-ham-detection-using-naive-bayes-classifier\n",
        "\n",
        "# https://www.kaggle.com/code/conniedeng/nlp-eron-dataset\n",
        "\n",
        "\n",
        "#https://scikit-learn.org/stable/modules/generated/sklearn.naive_bayes.MultinomialNB.html\n",
        "\n",
        "# https://www.kdnuggets.com/2020/06/naive-bayes-algorithm-everything.html\n",
        "\n"
      ],
      "metadata": {
        "id": "KHdi4bjGTqln"
      },
      "execution_count": null,
      "outputs": []
    },
    {
      "cell_type": "markdown",
      "source": [
        "## 3a. Naive Bayes model using 10 most frequent words as features "
      ],
      "metadata": {
        "id": "xNL_HvDLDTr-"
      }
    },
    {
      "cell_type": "code",
      "source": [
        "#creating one big array from clean_train_x\n",
        "all_clean_x = []\n",
        "for arr in clean_train_x:\n",
        "  for i in range(1,len(arr)): #doesnt include \"subject\" from subject lien \n",
        "      all_clean_x.append(arr[i])"
      ],
      "metadata": {
        "id": "hxZLAIZ6gnNK"
      },
      "execution_count": 27,
      "outputs": []
    },
    {
      "cell_type": "code",
      "source": [
        "print(all_clean_x[0:50]) #doesnt inlcude subject"
      ],
      "metadata": {
        "colab": {
          "base_uri": "https://localhost:8080/"
        },
        "id": "x-JCtt61Xvcj",
        "outputId": "81091a18-9e57-4ae7-f3ea-b9f4ae14a244"
      },
      "execution_count": 28,
      "outputs": [
        {
          "output_type": "stream",
          "name": "stdout",
          "text": [
            "['thank', 'ami', 'daren', 'want', 'say', 'thank', 'great', 'time', 'st', 'pete', 'beach', 'fla', 'compani', 'food', 'fish', 'ye', 'coars', 'drink', 'mani', 'drink', 'great', 'daren', 'relat', 'drink', 'enjoy', 'meet', 'everyon', 'appreci', 'busi', 'look', 'forward', 'continu', 'busi', 'relat', 'enron', 'futur', 'sincer', 'tim', 'spot', 'firm', 'ticket', 'vanc', 'follow', 'nomin', 'deal', 'ticket', 'sitara', 'septemb', 'activ', 'plea']\n"
          ]
        }
      ]
    },
    {
      "cell_type": "code",
      "source": [
        "#get top 10 features using Counter \n",
        "Counter = Counter(all_clean_x)\n",
        "\n",
        "top10 = Counter.most_common(10)\n",
        "\n",
        "print(\"The top 10 features are:\")\n",
        "print(top10)\n",
        "  \n",
        "# print(most_occur)"
      ],
      "metadata": {
        "colab": {
          "base_uri": "https://localhost:8080/"
        },
        "id": "2sWD-0XnDNYf",
        "outputId": "c9461923-0882-4c55-d186-550cc94dbeff"
      },
      "execution_count": 29,
      "outputs": [
        {
          "output_type": "stream",
          "name": "stdout",
          "text": [
            "[('ect', 8343), ('hou', 4376), ('enron', 3908), ('com', 2452), ('deal', 2200), ('plea', 1892), ('ga', 1794), ('subject', 1674), ('meter', 1569), ('hpl', 1404)]\n"
          ]
        }
      ]
    },
    {
      "cell_type": "code",
      "source": [
        "#extracting words from \"top10\" given by Counter.most_common\n",
        "top_10_dictionary=[]\n",
        "for i in top10:\n",
        "  top_10_dictionary.append(i[0])\n",
        "print(top_10_dictionary)\n"
      ],
      "metadata": {
        "colab": {
          "base_uri": "https://localhost:8080/"
        },
        "id": "eiWrM3WJB2nQ",
        "outputId": "ecd58288-f95c-4606-ea91-dbba67bbfc0e"
      },
      "execution_count": 30,
      "outputs": [
        {
          "output_type": "stream",
          "name": "stdout",
          "text": [
            "['ect', 'hou', 'enron', 'com', 'deal', 'plea', 'ga', 'subject', 'meter', 'hpl']\n"
          ]
        }
      ]
    },
    {
      "cell_type": "code",
      "source": [
        "top10_train_x = []\n",
        "# top10_train_x[0]\n",
        "for arr in clean_train_x:\n",
        "  new_arr = []\n",
        "  for word in arr:\n",
        "    if word in top_10_dictionary:\n",
        "      new_arr.append(word)\n",
        "  top10_train_x.append(new_arr)\n",
        "\n",
        "\n"
      ],
      "metadata": {
        "id": "jj0MR4fmSk-v"
      },
      "execution_count": 31,
      "outputs": []
    },
    {
      "cell_type": "code",
      "source": [
        "try:\n",
        "  len(clean_train_x) == len(top10_train_x)\n",
        "except:\n",
        "  print(\"lengths do not match \")"
      ],
      "metadata": {
        "id": "XYrL4diOcUl4"
      },
      "execution_count": 32,
      "outputs": []
    },
    {
      "cell_type": "code",
      "source": [
        "print(\"First element clean:\")\n",
        "print(clean_train_x[0])\n",
        "print(\"First element with top 10 features:\")\n",
        "print(top10_train_x[0])\n",
        "print(\"--------------------------------------------------------------------\")\n",
        "print(\"Second element clean:\")\n",
        "print(clean_train_x[1])\n",
        "print(\"Second element with top 10 features:\")\n",
        "print(top10_train_x[1])\n",
        "print(\"--------------------------------------------------------------------\")\n",
        "print(\"Third element clean:\")\n",
        "print(clean_train_x[2])\n",
        "print(\"Third element with top 10 features:\")\n",
        "print(top10_train_x[2])"
      ],
      "metadata": {
        "colab": {
          "base_uri": "https://localhost:8080/"
        },
        "id": "3f9390miWm1F",
        "outputId": "5a1f1792-820e-45ec-88ae-9bc82b0887e4"
      },
      "execution_count": 33,
      "outputs": [
        {
          "output_type": "stream",
          "name": "stdout",
          "text": [
            "First element clean:\n",
            "['subject', 'thank', 'ami', 'daren', 'want', 'say', 'thank', 'great', 'time', 'st', 'pete', 'beach', 'fla', 'compani', 'food', 'fish', 'ye', 'coars', 'drink', 'mani', 'drink', 'great', 'daren', 'relat', 'drink', 'enjoy', 'meet', 'everyon', 'appreci', 'busi', 'look', 'forward', 'continu', 'busi', 'relat', 'enron', 'futur', 'sincer', 'tim']\n",
            "First element with top 10 features:\n",
            "['subject', 'enron']\n",
            "--------------------------------------------------------------------\n",
            "Second element clean:\n",
            "['subject', 'spot', 'firm', 'ticket', 'vanc', 'follow', 'nomin', 'deal', 'ticket', 'sitara', 'septemb', 'activ', 'plea', 'advis', 'whether', 'deal', 'spot', 'firm', 'daren', 'want', 'everyth', 'sitara', 'pm', 'monday', 'august', 'thank', 'bob', 'sourc', 'meter', 'sept', 'nom', 'ccgm', 'lp', 'cross', 'tex', 'cummin', 'walker', 'unk', 'dalla', 'product', 'duke', 'energi', 'trade', 'eex', 'oper', 'eog', 'resourc', 'hesco', 'gather', 'hesco', 'gather', 'ph', 'explor', 'pioneer', 'explor', 'pure', 'resourc', 'rio', 'vista', 'samson', 'lonestar', 'swift', 'energi', 'tema', 'oil', 'ga', 'tri', 'union', 'develop', 'white', 'petroleum']\n",
            "Second element with top 10 features:\n",
            "['subject', 'deal', 'plea', 'deal', 'meter', 'ga']\n",
            "--------------------------------------------------------------------\n",
            "Third element clean:\n",
            "['subject', 'softwar', 'microsoft', 'window', 'xp', 'professiozn', 'retail', 'price', 'low', 'prici', 'save', 'adob', 'photoshkop', 'retail', 'price', 'low', 'price', 'savu', 'microsoft', 'offic', 'xp', 'profession', 'retail', 'price', 'low', 'price', 'savx', 'adob', 'illustr', 'retaitl', 'price', 'low', 'price', 'savx', 'corel', 'draw', 'graphic', 'suit', 'rehtail', 'price', 'low', 'pricj', 'save', 'delphi', 'retaifl', 'price', 'low', 'price', 'save', 'cheap', 'softwar', 'oem', 'meaninag', 'get', 'box', 'manual', 'softwar', 'receivz', 'actual', 'softwar', 'uniqu', 'registr', 'code', 'softwaru', 'english', 'languag', 'pc', 'offer', 'unbeatablk', 'alway', 'updat', 'price', 'make', 'sure', 'provid', 'besft', 'possibl', 'offer', 'hurri', 'place', 'ordner', 'suppli', 'limit', 'visimt', 'u', 'http', 'cheap', 'drug', 'biz', 'oeol', 'affili', 'id', 'campaign', 'id', 'fwunrt', 'fmooetr', 'ltbi', 'nyqkgbphb', 'krgzgl', 'vbbmigb', 'zwftnqlp', 'oaohkv', 'icckmv', 'rmcetdf', 'wmlx', 'lidfxvrnk', 'tdrezc', 'hbmvxft', 'zjqdpnpd', 'ldloti', 'jbywub', 'ozaqgcf', 'czjj', 'yvcbkprnc', 'vbrekd', 'fizzjnz', 'kgfmkhmw', 'rkqumd', 'kgrnbt', 'ggejkmi', 'kyyj', 'jepyoyklp', 'wekjhw', 'pajrtqi', 'ybjlkvjj', 'gvnwte', 'ueqjbv', 'vkcrccd', 'uwut', 'uwdhtzrrf', 'mhbglw', 'jdhkydx', 'bvaeyvat', 'nvorcx', 'qvpwtx', 'yniuzlb', 'kkei', 'lziqyfqqu', 'mhlped', 'kuauryt', 'bthnutaz', 'clzkex', 'pvojiw', 'xaablvb', 'gnao', 'otxenpenr', 'qmdvju', 'qafbwcc', 'xdntfvhf', 'jxzhbn']\n",
            "Third element with top 10 features:\n",
            "['subject']\n"
          ]
        }
      ]
    },
    {
      "cell_type": "code",
      "source": [
        "# #Naive base model \n",
        "# count_vector = CountVectorizer()\n",
        "\n",
        "# top10_train_x_join = [\" \".join(i) for i in top10_train_x] #turn to string for count_vector \n",
        "\n",
        "# trans_x = count_vector.fit_transform(top10_train_x_join)\n",
        "\n",
        "# trans_x_dense = np.array(trans_x.todense())\n",
        "\n",
        "# Model2 = MultinomialNB().fit(trans_x_dense,train_y) #multi ???"
      ],
      "metadata": {
        "id": "7g52gLO71VIr"
      },
      "execution_count": null,
      "outputs": []
    },
    {
      "cell_type": "code",
      "source": [
        "top10_train_x_join = [\" \".join(i) for i in top10_train_x] #turn to string for count_vector \n",
        "Model2 = pipeline2.fit(top10_train_x_join,train_y) #fit "
      ],
      "metadata": {
        "id": "S7Gt1qBPdd4x"
      },
      "execution_count": 34,
      "outputs": []
    },
    {
      "cell_type": "markdown",
      "source": [
        "## 3b. Naive Bayes model using 100 most frequent words as features "
      ],
      "metadata": {
        "id": "GFQBM0mvDVXF"
      }
    },
    {
      "cell_type": "code",
      "source": [
        "\n",
        "\n",
        "# Counter = Counter(all_clean_x)\n",
        "\n",
        "top100 = Counter.most_common(100)\n",
        "\n",
        "print(\"The top 100 features are:\")\n",
        "print(top100)\n",
        "\n",
        "top_100_dictionary=[]\n",
        "for i in top100:\n",
        "  top_100_dictionary.append(i[0])\n",
        "print(top_100_dictionary)"
      ],
      "metadata": {
        "id": "JQadP6m3DW8Q",
        "colab": {
          "base_uri": "https://localhost:8080/"
        },
        "outputId": "d3e4c34c-def8-415d-c8e9-ffe5c57358b0"
      },
      "execution_count": 35,
      "outputs": [
        {
          "output_type": "stream",
          "name": "stdout",
          "text": [
            "[('ect', 8343), ('hou', 4376), ('enron', 3908), ('com', 2452), ('deal', 2200), ('plea', 1892), ('ga', 1794), ('subject', 1674), ('meter', 1569), ('hpl', 1404), ('cc', 1392), ('thank', 1348), ('pm', 1331), ('need', 1249), ('e', 1203), ('daren', 1120), ('forward', 1091), ('price', 1089), ('volum', 1040), ('corp', 1030), ('know', 976), ('day', 950), ('new', 898), ('get', 892), ('compani', 873), ('j', 813), ('may', 806), ('mmbtu', 802), ('product', 800), ('chang', 788), ('see', 771), ('u', 766), ('l', 763), ('http', 756), ('contract', 751), ('inform', 737), ('attach', 713), ('let', 692), ('nom', 676), ('time', 673), ('farmer', 665), ('xl', 658), ('month', 653), ('would', 641), ('sale', 639), ('nomin', 632), ('messag', 618), ('mail', 607), ('one', 603), ('th', 594), ('call', 578), ('flow', 572), ('juli', 571), ('follow', 563), ('use', 561), ('robert', 556), ('question', 551), ('email', 517), ('ticket', 516), ('file', 515), ('net', 515), ('p', 512), ('report', 503), ('want', 500), ('look', 499), ('sitara', 490), ('manag', 489), ('work', 486), ('texa', 481), ('servic', 479), ('list', 476), ('ena', 475), ('energi', 466), ('number', 455), ('also', 453), ('sent', 449), ('purchas', 443), ('www', 438), ('like', 438), ('go', 434), ('busi', 433), ('market', 423), ('x', 413), ('actual', 405), ('pec', 404), ('origin', 400), ('b', 399), ('make', 398), ('contact', 397), ('receiv', 391), ('system', 390), ('bob', 387), ('c', 384), ('order', 378), ('take', 368), ('back', 367), ('help', 363), ('schedul', 362), ('font', 362), ('effect', 359)]\n",
            "['ect', 'hou', 'enron', 'com', 'deal', 'plea', 'ga', 'subject', 'meter', 'hpl', 'cc', 'thank', 'pm', 'need', 'e', 'daren', 'forward', 'price', 'volum', 'corp', 'know', 'day', 'new', 'get', 'compani', 'j', 'may', 'mmbtu', 'product', 'chang', 'see', 'u', 'l', 'http', 'contract', 'inform', 'attach', 'let', 'nom', 'time', 'farmer', 'xl', 'month', 'would', 'sale', 'nomin', 'messag', 'mail', 'one', 'th', 'call', 'flow', 'juli', 'follow', 'use', 'robert', 'question', 'email', 'ticket', 'file', 'net', 'p', 'report', 'want', 'look', 'sitara', 'manag', 'work', 'texa', 'servic', 'list', 'ena', 'energi', 'number', 'also', 'sent', 'purchas', 'www', 'like', 'go', 'busi', 'market', 'x', 'actual', 'pec', 'origin', 'b', 'make', 'contact', 'receiv', 'system', 'bob', 'c', 'order', 'take', 'back', 'help', 'schedul', 'font', 'effect']\n"
          ]
        }
      ]
    },
    {
      "cell_type": "code",
      "source": [
        "top100_train_x = []\n",
        "# top10_train_x[0]\n",
        "for arr in clean_train_x:\n",
        "  new_arr = []\n",
        "  for word in arr:\n",
        "    if word in top_100_dictionary:\n",
        "      new_arr.append(word)\n",
        "  top100_train_x.append(new_arr)"
      ],
      "metadata": {
        "id": "tPIOwfT_iZhj"
      },
      "execution_count": 36,
      "outputs": []
    },
    {
      "cell_type": "code",
      "source": [
        "try:\n",
        "  len(clean_train_x) == len(top100_train_x)\n",
        "except:\n",
        "  print(\"lengths do not match \")"
      ],
      "metadata": {
        "id": "GTnRL9WNimVp"
      },
      "execution_count": 37,
      "outputs": []
    },
    {
      "cell_type": "code",
      "source": [
        "print(\"First element clean:\")\n",
        "print(clean_train_x[0])\n",
        "print(\"First element with top 100 features:\")\n",
        "print(top100_train_x[0])\n",
        "print(\"--------------------------------------------------------------------\")\n",
        "print(\"Second element clean:\")\n",
        "print(clean_train_x[1])\n",
        "print(\"Second element with top 100 features:\")\n",
        "print(top100_train_x[1])\n",
        "print(\"--------------------------------------------------------------------\")\n",
        "print(\"Third element clean:\")\n",
        "print(clean_train_x[2])\n",
        "print(\"Third element with top 100 features:\")\n",
        "print(top100_train_x[2])"
      ],
      "metadata": {
        "colab": {
          "base_uri": "https://localhost:8080/"
        },
        "id": "EvhhKuZpiqJo",
        "outputId": "5d1ca1a8-14a7-4e97-a14a-338630945442"
      },
      "execution_count": 38,
      "outputs": [
        {
          "output_type": "stream",
          "name": "stdout",
          "text": [
            "First element clean:\n",
            "['subject', 'thank', 'ami', 'daren', 'want', 'say', 'thank', 'great', 'time', 'st', 'pete', 'beach', 'fla', 'compani', 'food', 'fish', 'ye', 'coars', 'drink', 'mani', 'drink', 'great', 'daren', 'relat', 'drink', 'enjoy', 'meet', 'everyon', 'appreci', 'busi', 'look', 'forward', 'continu', 'busi', 'relat', 'enron', 'futur', 'sincer', 'tim']\n",
            "First element with top 100 features:\n",
            "['subject', 'thank', 'daren', 'want', 'thank', 'time', 'compani', 'daren', 'busi', 'look', 'forward', 'busi', 'enron']\n",
            "--------------------------------------------------------------------\n",
            "Second element clean:\n",
            "['subject', 'spot', 'firm', 'ticket', 'vanc', 'follow', 'nomin', 'deal', 'ticket', 'sitara', 'septemb', 'activ', 'plea', 'advis', 'whether', 'deal', 'spot', 'firm', 'daren', 'want', 'everyth', 'sitara', 'pm', 'monday', 'august', 'thank', 'bob', 'sourc', 'meter', 'sept', 'nom', 'ccgm', 'lp', 'cross', 'tex', 'cummin', 'walker', 'unk', 'dalla', 'product', 'duke', 'energi', 'trade', 'eex', 'oper', 'eog', 'resourc', 'hesco', 'gather', 'hesco', 'gather', 'ph', 'explor', 'pioneer', 'explor', 'pure', 'resourc', 'rio', 'vista', 'samson', 'lonestar', 'swift', 'energi', 'tema', 'oil', 'ga', 'tri', 'union', 'develop', 'white', 'petroleum']\n",
            "Second element with top 100 features:\n",
            "['subject', 'ticket', 'follow', 'nomin', 'deal', 'ticket', 'sitara', 'plea', 'deal', 'daren', 'want', 'sitara', 'pm', 'thank', 'bob', 'meter', 'nom', 'product', 'energi', 'energi', 'ga']\n",
            "--------------------------------------------------------------------\n",
            "Third element clean:\n",
            "['subject', 'softwar', 'microsoft', 'window', 'xp', 'professiozn', 'retail', 'price', 'low', 'prici', 'save', 'adob', 'photoshkop', 'retail', 'price', 'low', 'price', 'savu', 'microsoft', 'offic', 'xp', 'profession', 'retail', 'price', 'low', 'price', 'savx', 'adob', 'illustr', 'retaitl', 'price', 'low', 'price', 'savx', 'corel', 'draw', 'graphic', 'suit', 'rehtail', 'price', 'low', 'pricj', 'save', 'delphi', 'retaifl', 'price', 'low', 'price', 'save', 'cheap', 'softwar', 'oem', 'meaninag', 'get', 'box', 'manual', 'softwar', 'receivz', 'actual', 'softwar', 'uniqu', 'registr', 'code', 'softwaru', 'english', 'languag', 'pc', 'offer', 'unbeatablk', 'alway', 'updat', 'price', 'make', 'sure', 'provid', 'besft', 'possibl', 'offer', 'hurri', 'place', 'ordner', 'suppli', 'limit', 'visimt', 'u', 'http', 'cheap', 'drug', 'biz', 'oeol', 'affili', 'id', 'campaign', 'id', 'fwunrt', 'fmooetr', 'ltbi', 'nyqkgbphb', 'krgzgl', 'vbbmigb', 'zwftnqlp', 'oaohkv', 'icckmv', 'rmcetdf', 'wmlx', 'lidfxvrnk', 'tdrezc', 'hbmvxft', 'zjqdpnpd', 'ldloti', 'jbywub', 'ozaqgcf', 'czjj', 'yvcbkprnc', 'vbrekd', 'fizzjnz', 'kgfmkhmw', 'rkqumd', 'kgrnbt', 'ggejkmi', 'kyyj', 'jepyoyklp', 'wekjhw', 'pajrtqi', 'ybjlkvjj', 'gvnwte', 'ueqjbv', 'vkcrccd', 'uwut', 'uwdhtzrrf', 'mhbglw', 'jdhkydx', 'bvaeyvat', 'nvorcx', 'qvpwtx', 'yniuzlb', 'kkei', 'lziqyfqqu', 'mhlped', 'kuauryt', 'bthnutaz', 'clzkex', 'pvojiw', 'xaablvb', 'gnao', 'otxenpenr', 'qmdvju', 'qafbwcc', 'xdntfvhf', 'jxzhbn']\n",
            "Third element with top 100 features:\n",
            "['subject', 'price', 'price', 'price', 'price', 'price', 'price', 'price', 'price', 'price', 'price', 'get', 'actual', 'price', 'make', 'u', 'http']\n"
          ]
        }
      ]
    },
    {
      "cell_type": "code",
      "source": [
        "# #Naive base model \n",
        "# count_vector = CountVectorizer()\n",
        "\n",
        "# top100_train_x_join = [\" \".join(i) for i in top100_train_x] #turn to string for count_vector \n",
        "\n",
        "# trans_x = count_vector.fit_transform(top100_train_x_join)\n",
        "\n",
        "# trans_x_dense = np.array(trans_x.todense())\n",
        "\n",
        "# Model3 = MultinomialNB().fit(trans_x_dense,train_y) #multi ???"
      ],
      "metadata": {
        "id": "Gxe57aS_jPMb"
      },
      "execution_count": null,
      "outputs": []
    },
    {
      "cell_type": "code",
      "source": [
        "top100_train_x_join = [\" \".join(i) for i in top100_train_x] #turn to string for count_vector \n",
        "Model3 = pipeline3.fit(top100_train_x_join,train_y) #fit"
      ],
      "metadata": {
        "id": "X4SkfgW8dnEW"
      },
      "execution_count": 39,
      "outputs": []
    },
    {
      "cell_type": "markdown",
      "source": [
        "## 3c. Naive Bayes model removing 100 most frequent words from features "
      ],
      "metadata": {
        "id": "8OYkzmeADXSf"
      }
    },
    {
      "cell_type": "code",
      "source": [
        "not_top100_train_x = []\n",
        "\n",
        "for arr in clean_train_x:\n",
        "  new_arr = []\n",
        "  for word in arr:\n",
        "    if word not in top_100_dictionary:\n",
        "      new_arr.append(word)\n",
        "  not_top100_train_x.append(new_arr)"
      ],
      "metadata": {
        "id": "c4OlKHzbDfXa"
      },
      "execution_count": 40,
      "outputs": []
    },
    {
      "cell_type": "code",
      "source": [
        "try:\n",
        "  len(clean_train_x) == len(not_top100_train_x)\n",
        "except:\n",
        "  print(\"lengths do not match \")\n",
        "\n",
        "print(\"First element clean:\")\n",
        "print(clean_train_x[0])\n",
        "print(\"First element with top 100 features removed:\")\n",
        "print(not_top100_train_x[0])\n",
        "print(\"--------------------------------------------------------------------\")\n",
        "print(\"Second element clean:\")\n",
        "print(clean_train_x[1])\n",
        "print(\"Second element with top 100 features removed:\")\n",
        "print(not_top100_train_x[1])\n",
        "print(\"--------------------------------------------------------------------\")\n",
        "print(\"Third element clean:\")\n",
        "print(clean_train_x[2])\n",
        "print(\"Third element with top 100 features removed:\")\n",
        "print(not_top100_train_x[2])"
      ],
      "metadata": {
        "id": "L4QQwn_3Gy1h",
        "outputId": "5c32250f-a066-489b-bab6-b9103c55500c",
        "colab": {
          "base_uri": "https://localhost:8080/"
        }
      },
      "execution_count": 41,
      "outputs": [
        {
          "output_type": "stream",
          "name": "stdout",
          "text": [
            "First element clean:\n",
            "['subject', 'thank', 'ami', 'daren', 'want', 'say', 'thank', 'great', 'time', 'st', 'pete', 'beach', 'fla', 'compani', 'food', 'fish', 'ye', 'coars', 'drink', 'mani', 'drink', 'great', 'daren', 'relat', 'drink', 'enjoy', 'meet', 'everyon', 'appreci', 'busi', 'look', 'forward', 'continu', 'busi', 'relat', 'enron', 'futur', 'sincer', 'tim']\n",
            "First element with top 100 features removed:\n",
            "['ami', 'say', 'great', 'st', 'pete', 'beach', 'fla', 'food', 'fish', 'ye', 'coars', 'drink', 'mani', 'drink', 'great', 'relat', 'drink', 'enjoy', 'meet', 'everyon', 'appreci', 'continu', 'relat', 'futur', 'sincer', 'tim']\n",
            "--------------------------------------------------------------------\n",
            "Second element clean:\n",
            "['subject', 'spot', 'firm', 'ticket', 'vanc', 'follow', 'nomin', 'deal', 'ticket', 'sitara', 'septemb', 'activ', 'plea', 'advis', 'whether', 'deal', 'spot', 'firm', 'daren', 'want', 'everyth', 'sitara', 'pm', 'monday', 'august', 'thank', 'bob', 'sourc', 'meter', 'sept', 'nom', 'ccgm', 'lp', 'cross', 'tex', 'cummin', 'walker', 'unk', 'dalla', 'product', 'duke', 'energi', 'trade', 'eex', 'oper', 'eog', 'resourc', 'hesco', 'gather', 'hesco', 'gather', 'ph', 'explor', 'pioneer', 'explor', 'pure', 'resourc', 'rio', 'vista', 'samson', 'lonestar', 'swift', 'energi', 'tema', 'oil', 'ga', 'tri', 'union', 'develop', 'white', 'petroleum']\n",
            "Second element with top 100 features removed:\n",
            "['spot', 'firm', 'vanc', 'septemb', 'activ', 'advis', 'whether', 'spot', 'firm', 'everyth', 'monday', 'august', 'sourc', 'sept', 'ccgm', 'lp', 'cross', 'tex', 'cummin', 'walker', 'unk', 'dalla', 'duke', 'trade', 'eex', 'oper', 'eog', 'resourc', 'hesco', 'gather', 'hesco', 'gather', 'ph', 'explor', 'pioneer', 'explor', 'pure', 'resourc', 'rio', 'vista', 'samson', 'lonestar', 'swift', 'tema', 'oil', 'tri', 'union', 'develop', 'white', 'petroleum']\n",
            "--------------------------------------------------------------------\n",
            "Third element clean:\n",
            "['subject', 'softwar', 'microsoft', 'window', 'xp', 'professiozn', 'retail', 'price', 'low', 'prici', 'save', 'adob', 'photoshkop', 'retail', 'price', 'low', 'price', 'savu', 'microsoft', 'offic', 'xp', 'profession', 'retail', 'price', 'low', 'price', 'savx', 'adob', 'illustr', 'retaitl', 'price', 'low', 'price', 'savx', 'corel', 'draw', 'graphic', 'suit', 'rehtail', 'price', 'low', 'pricj', 'save', 'delphi', 'retaifl', 'price', 'low', 'price', 'save', 'cheap', 'softwar', 'oem', 'meaninag', 'get', 'box', 'manual', 'softwar', 'receivz', 'actual', 'softwar', 'uniqu', 'registr', 'code', 'softwaru', 'english', 'languag', 'pc', 'offer', 'unbeatablk', 'alway', 'updat', 'price', 'make', 'sure', 'provid', 'besft', 'possibl', 'offer', 'hurri', 'place', 'ordner', 'suppli', 'limit', 'visimt', 'u', 'http', 'cheap', 'drug', 'biz', 'oeol', 'affili', 'id', 'campaign', 'id', 'fwunrt', 'fmooetr', 'ltbi', 'nyqkgbphb', 'krgzgl', 'vbbmigb', 'zwftnqlp', 'oaohkv', 'icckmv', 'rmcetdf', 'wmlx', 'lidfxvrnk', 'tdrezc', 'hbmvxft', 'zjqdpnpd', 'ldloti', 'jbywub', 'ozaqgcf', 'czjj', 'yvcbkprnc', 'vbrekd', 'fizzjnz', 'kgfmkhmw', 'rkqumd', 'kgrnbt', 'ggejkmi', 'kyyj', 'jepyoyklp', 'wekjhw', 'pajrtqi', 'ybjlkvjj', 'gvnwte', 'ueqjbv', 'vkcrccd', 'uwut', 'uwdhtzrrf', 'mhbglw', 'jdhkydx', 'bvaeyvat', 'nvorcx', 'qvpwtx', 'yniuzlb', 'kkei', 'lziqyfqqu', 'mhlped', 'kuauryt', 'bthnutaz', 'clzkex', 'pvojiw', 'xaablvb', 'gnao', 'otxenpenr', 'qmdvju', 'qafbwcc', 'xdntfvhf', 'jxzhbn']\n",
            "Third element with top 100 features removed:\n",
            "['softwar', 'microsoft', 'window', 'xp', 'professiozn', 'retail', 'low', 'prici', 'save', 'adob', 'photoshkop', 'retail', 'low', 'savu', 'microsoft', 'offic', 'xp', 'profession', 'retail', 'low', 'savx', 'adob', 'illustr', 'retaitl', 'low', 'savx', 'corel', 'draw', 'graphic', 'suit', 'rehtail', 'low', 'pricj', 'save', 'delphi', 'retaifl', 'low', 'save', 'cheap', 'softwar', 'oem', 'meaninag', 'box', 'manual', 'softwar', 'receivz', 'softwar', 'uniqu', 'registr', 'code', 'softwaru', 'english', 'languag', 'pc', 'offer', 'unbeatablk', 'alway', 'updat', 'sure', 'provid', 'besft', 'possibl', 'offer', 'hurri', 'place', 'ordner', 'suppli', 'limit', 'visimt', 'cheap', 'drug', 'biz', 'oeol', 'affili', 'id', 'campaign', 'id', 'fwunrt', 'fmooetr', 'ltbi', 'nyqkgbphb', 'krgzgl', 'vbbmigb', 'zwftnqlp', 'oaohkv', 'icckmv', 'rmcetdf', 'wmlx', 'lidfxvrnk', 'tdrezc', 'hbmvxft', 'zjqdpnpd', 'ldloti', 'jbywub', 'ozaqgcf', 'czjj', 'yvcbkprnc', 'vbrekd', 'fizzjnz', 'kgfmkhmw', 'rkqumd', 'kgrnbt', 'ggejkmi', 'kyyj', 'jepyoyklp', 'wekjhw', 'pajrtqi', 'ybjlkvjj', 'gvnwte', 'ueqjbv', 'vkcrccd', 'uwut', 'uwdhtzrrf', 'mhbglw', 'jdhkydx', 'bvaeyvat', 'nvorcx', 'qvpwtx', 'yniuzlb', 'kkei', 'lziqyfqqu', 'mhlped', 'kuauryt', 'bthnutaz', 'clzkex', 'pvojiw', 'xaablvb', 'gnao', 'otxenpenr', 'qmdvju', 'qafbwcc', 'xdntfvhf', 'jxzhbn']\n"
          ]
        }
      ]
    },
    {
      "cell_type": "code",
      "source": [
        "# #Naive base model \n",
        "# count_vector = CountVectorizer()\n",
        "\n",
        "# not_top100_train_x_join = [\" \".join(i) for i in not_top100_train_x] #turn to string for count_vector \n",
        "\n",
        "# trans_x = count_vector.fit_transform(not_top100_train_x_join)\n",
        "\n",
        "# trans_x_dense = np.array(trans_x.todense())\n",
        "\n",
        "# Model4 = MultinomialNB().fit(trans_x_dense,train_y) #multi ???"
      ],
      "metadata": {
        "id": "M3TGXMDqHNSv"
      },
      "execution_count": null,
      "outputs": []
    },
    {
      "cell_type": "code",
      "source": [
        "not_top100_train_x_join = [\" \".join(i) for i in not_top100_train_x] #turn to string for count_vector \n",
        "Model4 = pipeline4.fit(not_top100_train_x_join,train_y) #fit "
      ],
      "metadata": {
        "id": "_lLT04uZdtev"
      },
      "execution_count": 42,
      "outputs": []
    },
    {
      "cell_type": "markdown",
      "source": [
        "## 3d. Naive Bayes model using subject line as the feature set"
      ],
      "metadata": {
        "id": "55ba6XwwDjuW"
      }
    },
    {
      "cell_type": "code",
      "source": [
        "# def get_body(data):\n",
        "#   return data[data.find('\\r\\n')+2:]\n",
        "\n",
        "def get_subject(data):\n",
        "  '''\n",
        "  extracts subject line from each email \n",
        "  '''\n",
        "  subject = data[0:data.find('\\r\\n')]\n",
        "  return subject.replace(\"Subject: \",\"\")"
      ],
      "metadata": {
        "id": "JdxHFumnL9nk"
      },
      "execution_count": 43,
      "outputs": []
    },
    {
      "cell_type": "code",
      "source": [
        "train_df.head()"
      ],
      "metadata": {
        "id": "aAep9kIeDnLb",
        "colab": {
          "base_uri": "https://localhost:8080/",
          "height": 206
        },
        "outputId": "dfe55434-cf6d-4355-f6f3-8306f4dd239a"
      },
      "execution_count": 44,
      "outputs": [
        {
          "output_type": "execute_result",
          "data": {
            "text/plain": [
              "                                                text  label\n",
              "0  Subject: thank you\\r\\nami and daren , , , ,\\r\\...      0\n",
              "1  Subject: spot or firm tickets\\r\\nvance ,\\r\\nth...      0\n",
              "2  Subject: software\\r\\nmicrosoft windows xp prof...      1\n",
              "3  Subject: noms / actual flow for 2 / 27\\r\\nwe a...      0\n",
              "4  Subject: superb so . ftware\\r\\nyoull discover ...      1"
            ],
            "text/html": [
              "\n",
              "  <div id=\"df-3870f206-c9da-47ec-be71-b5f6af4bfa27\">\n",
              "    <div class=\"colab-df-container\">\n",
              "      <div>\n",
              "<style scoped>\n",
              "    .dataframe tbody tr th:only-of-type {\n",
              "        vertical-align: middle;\n",
              "    }\n",
              "\n",
              "    .dataframe tbody tr th {\n",
              "        vertical-align: top;\n",
              "    }\n",
              "\n",
              "    .dataframe thead th {\n",
              "        text-align: right;\n",
              "    }\n",
              "</style>\n",
              "<table border=\"1\" class=\"dataframe\">\n",
              "  <thead>\n",
              "    <tr style=\"text-align: right;\">\n",
              "      <th></th>\n",
              "      <th>text</th>\n",
              "      <th>label</th>\n",
              "    </tr>\n",
              "  </thead>\n",
              "  <tbody>\n",
              "    <tr>\n",
              "      <th>0</th>\n",
              "      <td>Subject: thank you\\r\\nami and daren , , , ,\\r\\...</td>\n",
              "      <td>0</td>\n",
              "    </tr>\n",
              "    <tr>\n",
              "      <th>1</th>\n",
              "      <td>Subject: spot or firm tickets\\r\\nvance ,\\r\\nth...</td>\n",
              "      <td>0</td>\n",
              "    </tr>\n",
              "    <tr>\n",
              "      <th>2</th>\n",
              "      <td>Subject: software\\r\\nmicrosoft windows xp prof...</td>\n",
              "      <td>1</td>\n",
              "    </tr>\n",
              "    <tr>\n",
              "      <th>3</th>\n",
              "      <td>Subject: noms / actual flow for 2 / 27\\r\\nwe a...</td>\n",
              "      <td>0</td>\n",
              "    </tr>\n",
              "    <tr>\n",
              "      <th>4</th>\n",
              "      <td>Subject: superb so . ftware\\r\\nyoull discover ...</td>\n",
              "      <td>1</td>\n",
              "    </tr>\n",
              "  </tbody>\n",
              "</table>\n",
              "</div>\n",
              "      <button class=\"colab-df-convert\" onclick=\"convertToInteractive('df-3870f206-c9da-47ec-be71-b5f6af4bfa27')\"\n",
              "              title=\"Convert this dataframe to an interactive table.\"\n",
              "              style=\"display:none;\">\n",
              "        \n",
              "  <svg xmlns=\"http://www.w3.org/2000/svg\" height=\"24px\"viewBox=\"0 0 24 24\"\n",
              "       width=\"24px\">\n",
              "    <path d=\"M0 0h24v24H0V0z\" fill=\"none\"/>\n",
              "    <path d=\"M18.56 5.44l.94 2.06.94-2.06 2.06-.94-2.06-.94-.94-2.06-.94 2.06-2.06.94zm-11 1L8.5 8.5l.94-2.06 2.06-.94-2.06-.94L8.5 2.5l-.94 2.06-2.06.94zm10 10l.94 2.06.94-2.06 2.06-.94-2.06-.94-.94-2.06-.94 2.06-2.06.94z\"/><path d=\"M17.41 7.96l-1.37-1.37c-.4-.4-.92-.59-1.43-.59-.52 0-1.04.2-1.43.59L10.3 9.45l-7.72 7.72c-.78.78-.78 2.05 0 2.83L4 21.41c.39.39.9.59 1.41.59.51 0 1.02-.2 1.41-.59l7.78-7.78 2.81-2.81c.8-.78.8-2.07 0-2.86zM5.41 20L4 18.59l7.72-7.72 1.47 1.35L5.41 20z\"/>\n",
              "  </svg>\n",
              "      </button>\n",
              "      \n",
              "  <style>\n",
              "    .colab-df-container {\n",
              "      display:flex;\n",
              "      flex-wrap:wrap;\n",
              "      gap: 12px;\n",
              "    }\n",
              "\n",
              "    .colab-df-convert {\n",
              "      background-color: #E8F0FE;\n",
              "      border: none;\n",
              "      border-radius: 50%;\n",
              "      cursor: pointer;\n",
              "      display: none;\n",
              "      fill: #1967D2;\n",
              "      height: 32px;\n",
              "      padding: 0 0 0 0;\n",
              "      width: 32px;\n",
              "    }\n",
              "\n",
              "    .colab-df-convert:hover {\n",
              "      background-color: #E2EBFA;\n",
              "      box-shadow: 0px 1px 2px rgba(60, 64, 67, 0.3), 0px 1px 3px 1px rgba(60, 64, 67, 0.15);\n",
              "      fill: #174EA6;\n",
              "    }\n",
              "\n",
              "    [theme=dark] .colab-df-convert {\n",
              "      background-color: #3B4455;\n",
              "      fill: #D2E3FC;\n",
              "    }\n",
              "\n",
              "    [theme=dark] .colab-df-convert:hover {\n",
              "      background-color: #434B5C;\n",
              "      box-shadow: 0px 1px 3px 1px rgba(0, 0, 0, 0.15);\n",
              "      filter: drop-shadow(0px 1px 2px rgba(0, 0, 0, 0.3));\n",
              "      fill: #FFFFFF;\n",
              "    }\n",
              "  </style>\n",
              "\n",
              "      <script>\n",
              "        const buttonEl =\n",
              "          document.querySelector('#df-3870f206-c9da-47ec-be71-b5f6af4bfa27 button.colab-df-convert');\n",
              "        buttonEl.style.display =\n",
              "          google.colab.kernel.accessAllowed ? 'block' : 'none';\n",
              "\n",
              "        async function convertToInteractive(key) {\n",
              "          const element = document.querySelector('#df-3870f206-c9da-47ec-be71-b5f6af4bfa27');\n",
              "          const dataTable =\n",
              "            await google.colab.kernel.invokeFunction('convertToInteractive',\n",
              "                                                     [key], {});\n",
              "          if (!dataTable) return;\n",
              "\n",
              "          const docLinkHtml = 'Like what you see? Visit the ' +\n",
              "            '<a target=\"_blank\" href=https://colab.research.google.com/notebooks/data_table.ipynb>data table notebook</a>'\n",
              "            + ' to learn more about interactive tables.';\n",
              "          element.innerHTML = '';\n",
              "          dataTable['output_type'] = 'display_data';\n",
              "          await google.colab.output.renderOutput(dataTable, element);\n",
              "          const docLink = document.createElement('div');\n",
              "          docLink.innerHTML = docLinkHtml;\n",
              "          element.appendChild(docLink);\n",
              "        }\n",
              "      </script>\n",
              "    </div>\n",
              "  </div>\n",
              "  "
            ]
          },
          "metadata": {},
          "execution_count": 44
        }
      ]
    },
    {
      "cell_type": "code",
      "source": [
        "train_df[\"subject\"] = train_df[\"text\"].apply(lambda x: get_subject(x))\n",
        "train_df.head()"
      ],
      "metadata": {
        "id": "5NArX6vJM7Z4",
        "outputId": "aa58d1d6-2316-4bbd-949e-32f8a158d771",
        "colab": {
          "base_uri": "https://localhost:8080/",
          "height": 206
        }
      },
      "execution_count": 45,
      "outputs": [
        {
          "output_type": "execute_result",
          "data": {
            "text/plain": [
              "                                                text  label  \\\n",
              "0  Subject: thank you\\r\\nami and daren , , , ,\\r\\...      0   \n",
              "1  Subject: spot or firm tickets\\r\\nvance ,\\r\\nth...      0   \n",
              "2  Subject: software\\r\\nmicrosoft windows xp prof...      1   \n",
              "3  Subject: noms / actual flow for 2 / 27\\r\\nwe a...      0   \n",
              "4  Subject: superb so . ftware\\r\\nyoull discover ...      1   \n",
              "\n",
              "                         subject  \n",
              "0                      thank you  \n",
              "1           spot or firm tickets  \n",
              "2                       software  \n",
              "3  noms / actual flow for 2 / 27  \n",
              "4             superb so . ftware  "
            ],
            "text/html": [
              "\n",
              "  <div id=\"df-5dba1a83-6529-4a8c-a4e5-29ca44594a85\">\n",
              "    <div class=\"colab-df-container\">\n",
              "      <div>\n",
              "<style scoped>\n",
              "    .dataframe tbody tr th:only-of-type {\n",
              "        vertical-align: middle;\n",
              "    }\n",
              "\n",
              "    .dataframe tbody tr th {\n",
              "        vertical-align: top;\n",
              "    }\n",
              "\n",
              "    .dataframe thead th {\n",
              "        text-align: right;\n",
              "    }\n",
              "</style>\n",
              "<table border=\"1\" class=\"dataframe\">\n",
              "  <thead>\n",
              "    <tr style=\"text-align: right;\">\n",
              "      <th></th>\n",
              "      <th>text</th>\n",
              "      <th>label</th>\n",
              "      <th>subject</th>\n",
              "    </tr>\n",
              "  </thead>\n",
              "  <tbody>\n",
              "    <tr>\n",
              "      <th>0</th>\n",
              "      <td>Subject: thank you\\r\\nami and daren , , , ,\\r\\...</td>\n",
              "      <td>0</td>\n",
              "      <td>thank you</td>\n",
              "    </tr>\n",
              "    <tr>\n",
              "      <th>1</th>\n",
              "      <td>Subject: spot or firm tickets\\r\\nvance ,\\r\\nth...</td>\n",
              "      <td>0</td>\n",
              "      <td>spot or firm tickets</td>\n",
              "    </tr>\n",
              "    <tr>\n",
              "      <th>2</th>\n",
              "      <td>Subject: software\\r\\nmicrosoft windows xp prof...</td>\n",
              "      <td>1</td>\n",
              "      <td>software</td>\n",
              "    </tr>\n",
              "    <tr>\n",
              "      <th>3</th>\n",
              "      <td>Subject: noms / actual flow for 2 / 27\\r\\nwe a...</td>\n",
              "      <td>0</td>\n",
              "      <td>noms / actual flow for 2 / 27</td>\n",
              "    </tr>\n",
              "    <tr>\n",
              "      <th>4</th>\n",
              "      <td>Subject: superb so . ftware\\r\\nyoull discover ...</td>\n",
              "      <td>1</td>\n",
              "      <td>superb so . ftware</td>\n",
              "    </tr>\n",
              "  </tbody>\n",
              "</table>\n",
              "</div>\n",
              "      <button class=\"colab-df-convert\" onclick=\"convertToInteractive('df-5dba1a83-6529-4a8c-a4e5-29ca44594a85')\"\n",
              "              title=\"Convert this dataframe to an interactive table.\"\n",
              "              style=\"display:none;\">\n",
              "        \n",
              "  <svg xmlns=\"http://www.w3.org/2000/svg\" height=\"24px\"viewBox=\"0 0 24 24\"\n",
              "       width=\"24px\">\n",
              "    <path d=\"M0 0h24v24H0V0z\" fill=\"none\"/>\n",
              "    <path d=\"M18.56 5.44l.94 2.06.94-2.06 2.06-.94-2.06-.94-.94-2.06-.94 2.06-2.06.94zm-11 1L8.5 8.5l.94-2.06 2.06-.94-2.06-.94L8.5 2.5l-.94 2.06-2.06.94zm10 10l.94 2.06.94-2.06 2.06-.94-2.06-.94-.94-2.06-.94 2.06-2.06.94z\"/><path d=\"M17.41 7.96l-1.37-1.37c-.4-.4-.92-.59-1.43-.59-.52 0-1.04.2-1.43.59L10.3 9.45l-7.72 7.72c-.78.78-.78 2.05 0 2.83L4 21.41c.39.39.9.59 1.41.59.51 0 1.02-.2 1.41-.59l7.78-7.78 2.81-2.81c.8-.78.8-2.07 0-2.86zM5.41 20L4 18.59l7.72-7.72 1.47 1.35L5.41 20z\"/>\n",
              "  </svg>\n",
              "      </button>\n",
              "      \n",
              "  <style>\n",
              "    .colab-df-container {\n",
              "      display:flex;\n",
              "      flex-wrap:wrap;\n",
              "      gap: 12px;\n",
              "    }\n",
              "\n",
              "    .colab-df-convert {\n",
              "      background-color: #E8F0FE;\n",
              "      border: none;\n",
              "      border-radius: 50%;\n",
              "      cursor: pointer;\n",
              "      display: none;\n",
              "      fill: #1967D2;\n",
              "      height: 32px;\n",
              "      padding: 0 0 0 0;\n",
              "      width: 32px;\n",
              "    }\n",
              "\n",
              "    .colab-df-convert:hover {\n",
              "      background-color: #E2EBFA;\n",
              "      box-shadow: 0px 1px 2px rgba(60, 64, 67, 0.3), 0px 1px 3px 1px rgba(60, 64, 67, 0.15);\n",
              "      fill: #174EA6;\n",
              "    }\n",
              "\n",
              "    [theme=dark] .colab-df-convert {\n",
              "      background-color: #3B4455;\n",
              "      fill: #D2E3FC;\n",
              "    }\n",
              "\n",
              "    [theme=dark] .colab-df-convert:hover {\n",
              "      background-color: #434B5C;\n",
              "      box-shadow: 0px 1px 3px 1px rgba(0, 0, 0, 0.15);\n",
              "      filter: drop-shadow(0px 1px 2px rgba(0, 0, 0, 0.3));\n",
              "      fill: #FFFFFF;\n",
              "    }\n",
              "  </style>\n",
              "\n",
              "      <script>\n",
              "        const buttonEl =\n",
              "          document.querySelector('#df-5dba1a83-6529-4a8c-a4e5-29ca44594a85 button.colab-df-convert');\n",
              "        buttonEl.style.display =\n",
              "          google.colab.kernel.accessAllowed ? 'block' : 'none';\n",
              "\n",
              "        async function convertToInteractive(key) {\n",
              "          const element = document.querySelector('#df-5dba1a83-6529-4a8c-a4e5-29ca44594a85');\n",
              "          const dataTable =\n",
              "            await google.colab.kernel.invokeFunction('convertToInteractive',\n",
              "                                                     [key], {});\n",
              "          if (!dataTable) return;\n",
              "\n",
              "          const docLinkHtml = 'Like what you see? Visit the ' +\n",
              "            '<a target=\"_blank\" href=https://colab.research.google.com/notebooks/data_table.ipynb>data table notebook</a>'\n",
              "            + ' to learn more about interactive tables.';\n",
              "          element.innerHTML = '';\n",
              "          dataTable['output_type'] = 'display_data';\n",
              "          await google.colab.output.renderOutput(dataTable, element);\n",
              "          const docLink = document.createElement('div');\n",
              "          docLink.innerHTML = docLinkHtml;\n",
              "          element.appendChild(docLink);\n",
              "        }\n",
              "      </script>\n",
              "    </div>\n",
              "  </div>\n",
              "  "
            ]
          },
          "metadata": {},
          "execution_count": 45
        }
      ]
    },
    {
      "cell_type": "code",
      "source": [
        "train_x_subject = train_df.subject\n",
        "clean_train_x_subject = clean_x(train_x_subject)"
      ],
      "metadata": {
        "id": "BbfNr4eheBT8"
      },
      "execution_count": 46,
      "outputs": []
    },
    {
      "cell_type": "code",
      "source": [
        "\n",
        "\n",
        "\n",
        "# count_vector = CountVectorizer()\n",
        "\n",
        "# clean_train_x_subject_join = [\" \".join(i) for i in clean_train_x_subject] #turn to string for count_vector \n",
        "\n",
        "\n",
        "# trans_x = count_vector.fit_transform(clean_train_x_subject_join)\n",
        "\n",
        "# trans_x_dense = np.array(trans_x.todense())\n",
        "\n",
        "# Model5 = MultinomialNB().fit(trans_x_dense,train_y) #multi ???"
      ],
      "metadata": {
        "id": "tP8JpernNTex"
      },
      "execution_count": null,
      "outputs": []
    },
    {
      "cell_type": "code",
      "source": [
        "clean_train_x_subject_join = [\" \".join(i) for i in clean_train_x_subject] #turn to string for count_vector \n",
        "Model5 = pipeline5.fit(clean_train_x_subject_join,train_y) #fit"
      ],
      "metadata": {
        "id": "DjeuOP6Gd2XP"
      },
      "execution_count": 47,
      "outputs": []
    },
    {
      "cell_type": "markdown",
      "source": [
        "\n",
        "\n",
        "---\n",
        "\n",
        "\n",
        "\n",
        "---\n",
        "\n",
        "\n",
        "# 4. Evaluation using validation set"
      ],
      "metadata": {
        "id": "loNqoBygDvj-"
      }
    },
    {
      "cell_type": "markdown",
      "source": [
        "## 4a. Calculating the evaluation metrics\n",
        "\n",
        "The metrics that will be used are : model accuracy, f1 score, precision, recall "
      ],
      "metadata": {
        "id": "vXrPDXCRDyPj"
      }
    },
    {
      "cell_type": "code",
      "source": [
        "# count_vector = CountVectorizer()\n",
        "\n",
        "clean_val_x_join = [\" \".join(i) for i in clean_val_x] #turn to string for count_vector \n",
        "\n",
        "# trans_x = count_vector.fit_transform(clean_val_x_join)\n",
        "\n",
        "# val_x_dense = np.array(trans_x.todense())\n"
      ],
      "metadata": {
        "id": "QPiLq-GVRlK7"
      },
      "execution_count": 48,
      "outputs": []
    },
    {
      "cell_type": "code",
      "source": [
        "# model accuracy, \n",
        "def get_model_accuracy(Model):\n",
        "  predicted = Model.predict(clean_val_x_join)\n",
        "  return accuracy_score(val_y,predicted)*100\n",
        "\n",
        "#f1 score \n",
        "# def get_f1(Model):\n",
        "\n",
        "# def get_precision(Model):\n",
        "\n",
        "# def get_recall(Model):\n",
        "\n",
        "def report(Model):\n",
        "  predicted = Model.predict(clean_val_x_join)\n",
        "  return classification_report(predicted,val_y), classification_report(predicted,val_y,output_dict=True)"
      ],
      "metadata": {
        "id": "6WdjW_G3Dwzo"
      },
      "execution_count": 49,
      "outputs": []
    },
    {
      "cell_type": "code",
      "source": [
        "# print(f\"Model 1 accuracy: {round(get_model_accuracy(Model1),2)} %\")\n",
        "print(\"Model 1\")\n",
        "report1,dict1 = report(Model1)\n",
        "print(report1)\n",
        "\n",
        "# print(f\"Model 2 accuracy: {round(get_model_accuracy(Model2),2)} %\")\n",
        "print(\"Model 2\")\n",
        "report2,dict2 = report(Model2)\n",
        "print(report2)\n",
        "\n",
        "# print(f\"Model 3 accuracy: {round(get_model_accuracy(Model3),2)} %\")\n",
        "print(\"Model 3\")\n",
        "report3,dict3= report(Model3)\n",
        "print(report3)\n",
        "# print(f\"Model 4 accuracy: {round(get_model_accuracy(Model4),2)} %\")\n",
        "print(\"Model 4\")\n",
        "# report(Model4)\n",
        "report4,dict4 = report(Model4)\n",
        "print(report4)\n",
        "# print(f\"Model 5 accuracy: {round(get_model_accuracy(Model5),2)} %\")\n",
        "print(\"Model 5\")\n",
        "report5,dict5 = report(Model5)\n",
        "print(report5)"
      ],
      "metadata": {
        "id": "JpFE94ZgRUNC",
        "outputId": "a07b5028-c843-4acb-f20b-136614cf9528",
        "colab": {
          "base_uri": "https://localhost:8080/"
        }
      },
      "execution_count": 50,
      "outputs": [
        {
          "output_type": "stream",
          "name": "stdout",
          "text": [
            "Model 1\n",
            "              precision    recall  f1-score   support\n",
            "\n",
            "           0       0.98      0.97      0.98       740\n",
            "           1       0.94      0.95      0.94       295\n",
            "\n",
            "    accuracy                           0.97      1035\n",
            "   macro avg       0.96      0.96      0.96      1035\n",
            "weighted avg       0.97      0.97      0.97      1035\n",
            "\n",
            "Model 2\n",
            "              precision    recall  f1-score   support\n",
            "\n",
            "           0       0.73      0.98      0.84       549\n",
            "           1       0.96      0.59      0.74       486\n",
            "\n",
            "    accuracy                           0.80      1035\n",
            "   macro avg       0.85      0.79      0.79      1035\n",
            "weighted avg       0.84      0.80      0.79      1035\n",
            "\n",
            "Model 3\n",
            "              precision    recall  f1-score   support\n",
            "\n",
            "           0       0.87      0.93      0.90       690\n",
            "           1       0.83      0.72      0.77       345\n",
            "\n",
            "    accuracy                           0.86      1035\n",
            "   macro avg       0.85      0.82      0.83      1035\n",
            "weighted avg       0.86      0.86      0.86      1035\n",
            "\n",
            "Model 4\n",
            "              precision    recall  f1-score   support\n",
            "\n",
            "           0       0.99      0.96      0.98       757\n",
            "           1       0.91      0.98      0.94       278\n",
            "\n",
            "    accuracy                           0.97      1035\n",
            "   macro avg       0.95      0.97      0.96      1035\n",
            "weighted avg       0.97      0.97      0.97      1035\n",
            "\n",
            "Model 5\n",
            "              precision    recall  f1-score   support\n",
            "\n",
            "           0       0.90      0.97      0.94       681\n",
            "           1       0.94      0.79      0.86       354\n",
            "\n",
            "    accuracy                           0.91      1035\n",
            "   macro avg       0.92      0.88      0.90      1035\n",
            "weighted avg       0.91      0.91      0.91      1035\n",
            "\n"
          ]
        }
      ]
    },
    {
      "cell_type": "markdown",
      "source": [
        "## 4b. Comparing all 5 models "
      ],
      "metadata": {
        "id": "-ojjfOmHDxP7"
      }
    },
    {
      "cell_type": "code",
      "source": [
        "M1 = [dict1[\"accuracy\"],dict1['0']['f1-score'],dict1['1']['f1-score'],dict1['0']['precision'],dict1['1']['precision'],dict1['0']['recall'],dict1['1']['recall']]\n",
        "M2 = [dict2[\"accuracy\"],dict2['0']['f1-score'],dict2['1']['f1-score'],dict2['0']['precision'],dict2['1']['precision'],dict2['0']['recall'],dict2['1']['recall']]\n",
        "M3 = [dict3[\"accuracy\"],dict3['0']['f1-score'],dict3['1']['f1-score'],dict3['0']['precision'],dict3['1']['precision'],dict3['0']['recall'],dict3['1']['recall']]\n",
        "M4 = [dict4[\"accuracy\"],dict4['0']['f1-score'],dict4['1']['f1-score'],dict4['0']['precision'],dict4['1']['precision'],dict4['0']['recall'],dict4['1']['recall']]\n",
        "M5 = [dict5[\"accuracy\"],dict5['0']['f1-score'],dict5['1']['f1-score'],dict5['0']['precision'],dict5['1']['precision'],dict5['0']['recall'],dict5['1']['recall']]\n",
        "\n",
        "\n",
        "index = ['acc', 'f1_0','f1_1', 'precision_0','precision_1', 'recall_0','recall_1']\n",
        "df = pd.DataFrame({'Model1': M1,\n",
        "                   'Model2': M2, 'Model3':M3, 'Model4':M4, 'Model5':M5}, index=index)\n",
        "df\n",
        "# ax = df.plot.bar(rot=0)"
      ],
      "metadata": {
        "id": "xgs1FOVmD3ea",
        "colab": {
          "base_uri": "https://localhost:8080/",
          "height": 269
        },
        "outputId": "378dc353-a599-47b8-d93a-3c755156c596"
      },
      "execution_count": 51,
      "outputs": [
        {
          "output_type": "execute_result",
          "data": {
            "text/plain": [
              "               Model1    Model2    Model3    Model4    Model5\n",
              "acc          0.968116  0.799034  0.857971  0.969082  0.911111\n",
              "f1_0         0.977627  0.838006  0.896842  0.978552  0.935028\n",
              "f1_1         0.944538  0.735369  0.772093  0.944637  0.859327\n",
              "precision_0  0.980952  0.731973  0.869388  0.993197  0.900680\n",
              "precision_1  0.936667  0.963333  0.830000  0.910000  0.936667\n",
              "recall_0     0.974324  0.979964  0.926087  0.964333  0.972100\n",
              "recall_1     0.952542  0.594650  0.721739  0.982014  0.793785"
            ],
            "text/html": [
              "\n",
              "  <div id=\"df-48d5ee28-9751-4a83-8379-bec13e7c5da1\">\n",
              "    <div class=\"colab-df-container\">\n",
              "      <div>\n",
              "<style scoped>\n",
              "    .dataframe tbody tr th:only-of-type {\n",
              "        vertical-align: middle;\n",
              "    }\n",
              "\n",
              "    .dataframe tbody tr th {\n",
              "        vertical-align: top;\n",
              "    }\n",
              "\n",
              "    .dataframe thead th {\n",
              "        text-align: right;\n",
              "    }\n",
              "</style>\n",
              "<table border=\"1\" class=\"dataframe\">\n",
              "  <thead>\n",
              "    <tr style=\"text-align: right;\">\n",
              "      <th></th>\n",
              "      <th>Model1</th>\n",
              "      <th>Model2</th>\n",
              "      <th>Model3</th>\n",
              "      <th>Model4</th>\n",
              "      <th>Model5</th>\n",
              "    </tr>\n",
              "  </thead>\n",
              "  <tbody>\n",
              "    <tr>\n",
              "      <th>acc</th>\n",
              "      <td>0.968116</td>\n",
              "      <td>0.799034</td>\n",
              "      <td>0.857971</td>\n",
              "      <td>0.969082</td>\n",
              "      <td>0.911111</td>\n",
              "    </tr>\n",
              "    <tr>\n",
              "      <th>f1_0</th>\n",
              "      <td>0.977627</td>\n",
              "      <td>0.838006</td>\n",
              "      <td>0.896842</td>\n",
              "      <td>0.978552</td>\n",
              "      <td>0.935028</td>\n",
              "    </tr>\n",
              "    <tr>\n",
              "      <th>f1_1</th>\n",
              "      <td>0.944538</td>\n",
              "      <td>0.735369</td>\n",
              "      <td>0.772093</td>\n",
              "      <td>0.944637</td>\n",
              "      <td>0.859327</td>\n",
              "    </tr>\n",
              "    <tr>\n",
              "      <th>precision_0</th>\n",
              "      <td>0.980952</td>\n",
              "      <td>0.731973</td>\n",
              "      <td>0.869388</td>\n",
              "      <td>0.993197</td>\n",
              "      <td>0.900680</td>\n",
              "    </tr>\n",
              "    <tr>\n",
              "      <th>precision_1</th>\n",
              "      <td>0.936667</td>\n",
              "      <td>0.963333</td>\n",
              "      <td>0.830000</td>\n",
              "      <td>0.910000</td>\n",
              "      <td>0.936667</td>\n",
              "    </tr>\n",
              "    <tr>\n",
              "      <th>recall_0</th>\n",
              "      <td>0.974324</td>\n",
              "      <td>0.979964</td>\n",
              "      <td>0.926087</td>\n",
              "      <td>0.964333</td>\n",
              "      <td>0.972100</td>\n",
              "    </tr>\n",
              "    <tr>\n",
              "      <th>recall_1</th>\n",
              "      <td>0.952542</td>\n",
              "      <td>0.594650</td>\n",
              "      <td>0.721739</td>\n",
              "      <td>0.982014</td>\n",
              "      <td>0.793785</td>\n",
              "    </tr>\n",
              "  </tbody>\n",
              "</table>\n",
              "</div>\n",
              "      <button class=\"colab-df-convert\" onclick=\"convertToInteractive('df-48d5ee28-9751-4a83-8379-bec13e7c5da1')\"\n",
              "              title=\"Convert this dataframe to an interactive table.\"\n",
              "              style=\"display:none;\">\n",
              "        \n",
              "  <svg xmlns=\"http://www.w3.org/2000/svg\" height=\"24px\"viewBox=\"0 0 24 24\"\n",
              "       width=\"24px\">\n",
              "    <path d=\"M0 0h24v24H0V0z\" fill=\"none\"/>\n",
              "    <path d=\"M18.56 5.44l.94 2.06.94-2.06 2.06-.94-2.06-.94-.94-2.06-.94 2.06-2.06.94zm-11 1L8.5 8.5l.94-2.06 2.06-.94-2.06-.94L8.5 2.5l-.94 2.06-2.06.94zm10 10l.94 2.06.94-2.06 2.06-.94-2.06-.94-.94-2.06-.94 2.06-2.06.94z\"/><path d=\"M17.41 7.96l-1.37-1.37c-.4-.4-.92-.59-1.43-.59-.52 0-1.04.2-1.43.59L10.3 9.45l-7.72 7.72c-.78.78-.78 2.05 0 2.83L4 21.41c.39.39.9.59 1.41.59.51 0 1.02-.2 1.41-.59l7.78-7.78 2.81-2.81c.8-.78.8-2.07 0-2.86zM5.41 20L4 18.59l7.72-7.72 1.47 1.35L5.41 20z\"/>\n",
              "  </svg>\n",
              "      </button>\n",
              "      \n",
              "  <style>\n",
              "    .colab-df-container {\n",
              "      display:flex;\n",
              "      flex-wrap:wrap;\n",
              "      gap: 12px;\n",
              "    }\n",
              "\n",
              "    .colab-df-convert {\n",
              "      background-color: #E8F0FE;\n",
              "      border: none;\n",
              "      border-radius: 50%;\n",
              "      cursor: pointer;\n",
              "      display: none;\n",
              "      fill: #1967D2;\n",
              "      height: 32px;\n",
              "      padding: 0 0 0 0;\n",
              "      width: 32px;\n",
              "    }\n",
              "\n",
              "    .colab-df-convert:hover {\n",
              "      background-color: #E2EBFA;\n",
              "      box-shadow: 0px 1px 2px rgba(60, 64, 67, 0.3), 0px 1px 3px 1px rgba(60, 64, 67, 0.15);\n",
              "      fill: #174EA6;\n",
              "    }\n",
              "\n",
              "    [theme=dark] .colab-df-convert {\n",
              "      background-color: #3B4455;\n",
              "      fill: #D2E3FC;\n",
              "    }\n",
              "\n",
              "    [theme=dark] .colab-df-convert:hover {\n",
              "      background-color: #434B5C;\n",
              "      box-shadow: 0px 1px 3px 1px rgba(0, 0, 0, 0.15);\n",
              "      filter: drop-shadow(0px 1px 2px rgba(0, 0, 0, 0.3));\n",
              "      fill: #FFFFFF;\n",
              "    }\n",
              "  </style>\n",
              "\n",
              "      <script>\n",
              "        const buttonEl =\n",
              "          document.querySelector('#df-48d5ee28-9751-4a83-8379-bec13e7c5da1 button.colab-df-convert');\n",
              "        buttonEl.style.display =\n",
              "          google.colab.kernel.accessAllowed ? 'block' : 'none';\n",
              "\n",
              "        async function convertToInteractive(key) {\n",
              "          const element = document.querySelector('#df-48d5ee28-9751-4a83-8379-bec13e7c5da1');\n",
              "          const dataTable =\n",
              "            await google.colab.kernel.invokeFunction('convertToInteractive',\n",
              "                                                     [key], {});\n",
              "          if (!dataTable) return;\n",
              "\n",
              "          const docLinkHtml = 'Like what you see? Visit the ' +\n",
              "            '<a target=\"_blank\" href=https://colab.research.google.com/notebooks/data_table.ipynb>data table notebook</a>'\n",
              "            + ' to learn more about interactive tables.';\n",
              "          element.innerHTML = '';\n",
              "          dataTable['output_type'] = 'display_data';\n",
              "          await google.colab.output.renderOutput(dataTable, element);\n",
              "          const docLink = document.createElement('div');\n",
              "          docLink.innerHTML = docLinkHtml;\n",
              "          element.appendChild(docLink);\n",
              "        }\n",
              "      </script>\n",
              "    </div>\n",
              "  </div>\n",
              "  "
            ]
          },
          "metadata": {},
          "execution_count": 51
        }
      ]
    },
    {
      "cell_type": "code",
      "source": [
        "ax = df.plot.bar()"
      ],
      "metadata": {
        "id": "hmTYEfdLx4YX",
        "outputId": "80078d77-fb41-49fb-f1cd-2b3815ed8a40",
        "colab": {
          "base_uri": "https://localhost:8080/",
          "height": 312
        }
      },
      "execution_count": 52,
      "outputs": [
        {
          "output_type": "display_data",
          "data": {
            "text/plain": [
              "<Figure size 432x288 with 1 Axes>"
            ],
            "image/png": "[encoded data removed]"
          },
          "metadata": {
            "needs_background": "light"
          }
        }
      ]
    },
    {
      "cell_type": "code",
      "source": [
        "acc = [dict1[\"accuracy\"],dict2[\"accuracy\"],dict3[\"accuracy\"],dict4[\"accuracy\"],dict5[\"accuracy\"]]\n",
        "f1_0 = [dict1['0']['f1-score'],dict2['0']['f1-score'],dict3['0']['f1-score'],dict4['0']['f1-score'],dict5['0']['f1-score']]\n",
        "f1_1 = [dict1['1']['f1-score'],dict2['1']['f1-score'],dict3['1']['f1-score'],dict4['1']['f1-score'],dict5['1']['f1-score']]\n",
        "precision_0 = [dict1['0']['precision'],dict2['0']['precision'],dict3['0']['precision'],dict4['0']['precision'],dict5['0']['precision']]\n",
        "precision_1 = [dict1['1']['precision'],dict2['1']['precision'],dict3['1']['precision'],dict4['1']['precision'],dict5['1']['precision']]\n",
        "recall_0 = [dict1['0']['recall'],dict2['0']['recall'],dict3['0']['recall'],dict4['0']['recall'],dict5['0']['recall']]\n",
        "recall_1 =[dict1['1']['recall'],dict2['1']['recall'],dict3['1']['recall'],dict4['1']['recall'],dict5['1']['recall']]\n",
        "\n",
        "index = ['Model1', 'Model2','Model3', 'Model4','Model5']\n",
        "df1 = pd.DataFrame({'acc': acc,\n",
        "                   'f1_0': f1_0, 'f1_1':f1_1, 'precision_0':precision_0, 'precision_1':precision_1,'recall_0':recall_0,'recall_1':recall_1}, index=index)\n",
        "df1"
      ],
      "metadata": {
        "id": "wud9Bh9Zwdkz",
        "outputId": "c4ab45e1-e646-4698-f619-33b6707f7856",
        "colab": {
          "base_uri": "https://localhost:8080/",
          "height": 206
        }
      },
      "execution_count": 53,
      "outputs": [
        {
          "output_type": "execute_result",
          "data": {
            "text/plain": [
              "             acc      f1_0      f1_1  precision_0  precision_1  recall_0  \\\n",
              "Model1  0.968116  0.977627  0.944538     0.980952     0.936667  0.974324   \n",
              "Model2  0.799034  0.838006  0.735369     0.731973     0.963333  0.979964   \n",
              "Model3  0.857971  0.896842  0.772093     0.869388     0.830000  0.926087   \n",
              "Model4  0.969082  0.978552  0.944637     0.993197     0.910000  0.964333   \n",
              "Model5  0.911111  0.935028  0.859327     0.900680     0.936667  0.972100   \n",
              "\n",
              "        recall_1  \n",
              "Model1  0.952542  \n",
              "Model2  0.594650  \n",
              "Model3  0.721739  \n",
              "Model4  0.982014  \n",
              "Model5  0.793785  "
            ],
            "text/html": [
              "\n",
              "  <div id=\"df-0924b399-1fe6-4d72-9668-248dc7172625\">\n",
              "    <div class=\"colab-df-container\">\n",
              "      <div>\n",
              "<style scoped>\n",
              "    .dataframe tbody tr th:only-of-type {\n",
              "        vertical-align: middle;\n",
              "    }\n",
              "\n",
              "    .dataframe tbody tr th {\n",
              "        vertical-align: top;\n",
              "    }\n",
              "\n",
              "    .dataframe thead th {\n",
              "        text-align: right;\n",
              "    }\n",
              "</style>\n",
              "<table border=\"1\" class=\"dataframe\">\n",
              "  <thead>\n",
              "    <tr style=\"text-align: right;\">\n",
              "      <th></th>\n",
              "      <th>acc</th>\n",
              "      <th>f1_0</th>\n",
              "      <th>f1_1</th>\n",
              "      <th>precision_0</th>\n",
              "      <th>precision_1</th>\n",
              "      <th>recall_0</th>\n",
              "      <th>recall_1</th>\n",
              "    </tr>\n",
              "  </thead>\n",
              "  <tbody>\n",
              "    <tr>\n",
              "      <th>Model1</th>\n",
              "      <td>0.968116</td>\n",
              "      <td>0.977627</td>\n",
              "      <td>0.944538</td>\n",
              "      <td>0.980952</td>\n",
              "      <td>0.936667</td>\n",
              "      <td>0.974324</td>\n",
              "      <td>0.952542</td>\n",
              "    </tr>\n",
              "    <tr>\n",
              "      <th>Model2</th>\n",
              "      <td>0.799034</td>\n",
              "      <td>0.838006</td>\n",
              "      <td>0.735369</td>\n",
              "      <td>0.731973</td>\n",
              "      <td>0.963333</td>\n",
              "      <td>0.979964</td>\n",
              "      <td>0.594650</td>\n",
              "    </tr>\n",
              "    <tr>\n",
              "      <th>Model3</th>\n",
              "      <td>0.857971</td>\n",
              "      <td>0.896842</td>\n",
              "      <td>0.772093</td>\n",
              "      <td>0.869388</td>\n",
              "      <td>0.830000</td>\n",
              "      <td>0.926087</td>\n",
              "      <td>0.721739</td>\n",
              "    </tr>\n",
              "    <tr>\n",
              "      <th>Model4</th>\n",
              "      <td>0.969082</td>\n",
              "      <td>0.978552</td>\n",
              "      <td>0.944637</td>\n",
              "      <td>0.993197</td>\n",
              "      <td>0.910000</td>\n",
              "      <td>0.964333</td>\n",
              "      <td>0.982014</td>\n",
              "    </tr>\n",
              "    <tr>\n",
              "      <th>Model5</th>\n",
              "      <td>0.911111</td>\n",
              "      <td>0.935028</td>\n",
              "      <td>0.859327</td>\n",
              "      <td>0.900680</td>\n",
              "      <td>0.936667</td>\n",
              "      <td>0.972100</td>\n",
              "      <td>0.793785</td>\n",
              "    </tr>\n",
              "  </tbody>\n",
              "</table>\n",
              "</div>\n",
              "      <button class=\"colab-df-convert\" onclick=\"convertToInteractive('df-0924b399-1fe6-4d72-9668-248dc7172625')\"\n",
              "              title=\"Convert this dataframe to an interactive table.\"\n",
              "              style=\"display:none;\">\n",
              "        \n",
              "  <svg xmlns=\"http://www.w3.org/2000/svg\" height=\"24px\"viewBox=\"0 0 24 24\"\n",
              "       width=\"24px\">\n",
              "    <path d=\"M0 0h24v24H0V0z\" fill=\"none\"/>\n",
              "    <path d=\"M18.56 5.44l.94 2.06.94-2.06 2.06-.94-2.06-.94-.94-2.06-.94 2.06-2.06.94zm-11 1L8.5 8.5l.94-2.06 2.06-.94-2.06-.94L8.5 2.5l-.94 2.06-2.06.94zm10 10l.94 2.06.94-2.06 2.06-.94-2.06-.94-.94-2.06-.94 2.06-2.06.94z\"/><path d=\"M17.41 7.96l-1.37-1.37c-.4-.4-.92-.59-1.43-.59-.52 0-1.04.2-1.43.59L10.3 9.45l-7.72 7.72c-.78.78-.78 2.05 0 2.83L4 21.41c.39.39.9.59 1.41.59.51 0 1.02-.2 1.41-.59l7.78-7.78 2.81-2.81c.8-.78.8-2.07 0-2.86zM5.41 20L4 18.59l7.72-7.72 1.47 1.35L5.41 20z\"/>\n",
              "  </svg>\n",
              "      </button>\n",
              "      \n",
              "  <style>\n",
              "    .colab-df-container {\n",
              "      display:flex;\n",
              "      flex-wrap:wrap;\n",
              "      gap: 12px;\n",
              "    }\n",
              "\n",
              "    .colab-df-convert {\n",
              "      background-color: #E8F0FE;\n",
              "      border: none;\n",
              "      border-radius: 50%;\n",
              "      cursor: pointer;\n",
              "      display: none;\n",
              "      fill: #1967D2;\n",
              "      height: 32px;\n",
              "      padding: 0 0 0 0;\n",
              "      width: 32px;\n",
              "    }\n",
              "\n",
              "    .colab-df-convert:hover {\n",
              "      background-color: #E2EBFA;\n",
              "      box-shadow: 0px 1px 2px rgba(60, 64, 67, 0.3), 0px 1px 3px 1px rgba(60, 64, 67, 0.15);\n",
              "      fill: #174EA6;\n",
              "    }\n",
              "\n",
              "    [theme=dark] .colab-df-convert {\n",
              "      background-color: #3B4455;\n",
              "      fill: #D2E3FC;\n",
              "    }\n",
              "\n",
              "    [theme=dark] .colab-df-convert:hover {\n",
              "      background-color: #434B5C;\n",
              "      box-shadow: 0px 1px 3px 1px rgba(0, 0, 0, 0.15);\n",
              "      filter: drop-shadow(0px 1px 2px rgba(0, 0, 0, 0.3));\n",
              "      fill: #FFFFFF;\n",
              "    }\n",
              "  </style>\n",
              "\n",
              "      <script>\n",
              "        const buttonEl =\n",
              "          document.querySelector('#df-0924b399-1fe6-4d72-9668-248dc7172625 button.colab-df-convert');\n",
              "        buttonEl.style.display =\n",
              "          google.colab.kernel.accessAllowed ? 'block' : 'none';\n",
              "\n",
              "        async function convertToInteractive(key) {\n",
              "          const element = document.querySelector('#df-0924b399-1fe6-4d72-9668-248dc7172625');\n",
              "          const dataTable =\n",
              "            await google.colab.kernel.invokeFunction('convertToInteractive',\n",
              "                                                     [key], {});\n",
              "          if (!dataTable) return;\n",
              "\n",
              "          const docLinkHtml = 'Like what you see? Visit the ' +\n",
              "            '<a target=\"_blank\" href=https://colab.research.google.com/notebooks/data_table.ipynb>data table notebook</a>'\n",
              "            + ' to learn more about interactive tables.';\n",
              "          element.innerHTML = '';\n",
              "          dataTable['output_type'] = 'display_data';\n",
              "          await google.colab.output.renderOutput(dataTable, element);\n",
              "          const docLink = document.createElement('div');\n",
              "          docLink.innerHTML = docLinkHtml;\n",
              "          element.appendChild(docLink);\n",
              "        }\n",
              "      </script>\n",
              "    </div>\n",
              "  </div>\n",
              "  "
            ]
          },
          "metadata": {},
          "execution_count": 53
        }
      ]
    },
    {
      "cell_type": "code",
      "source": [
        "df1['acc'].plot.bar(title = \"Accuracy\",color=\"teal\")"
      ],
      "metadata": {
        "id": "Np60XS1cvCh7",
        "outputId": "69556c68-a133-4460-b8fa-f867fe7b0b74",
        "colab": {
          "base_uri": "https://localhost:8080/",
          "height": 325
        }
      },
      "execution_count": 54,
      "outputs": [
        {
          "output_type": "execute_result",
          "data": {
            "text/plain": [
              "<matplotlib.axes._subplots.AxesSubplot at 0x7f18294a2650>"
            ]
          },
          "metadata": {},
          "execution_count": 54
        },
        {
          "output_type": "display_data",
          "data": {
            "text/plain": [
              "<Figure size 432x288 with 1 Axes>"
            ],
            "image/png": "[encoded data removed]"
          },
          "metadata": {
            "needs_background": "light"
          }
        }
      ]
    },
    {
      "cell_type": "code",
      "source": [
        "df1['f1_0'].plot.bar(title = \"f1-score 0\", color = \"maroon\")"
      ],
      "metadata": {
        "id": "ugqwSEdUvnD4",
        "outputId": "4e318b66-75ef-45dc-9136-f1b0875dcf26",
        "colab": {
          "base_uri": "https://localhost:8080/",
          "height": 325
        }
      },
      "execution_count": 55,
      "outputs": [
        {
          "output_type": "execute_result",
          "data": {
            "text/plain": [
              "<matplotlib.axes._subplots.AxesSubplot at 0x7f1829451610>"
            ]
          },
          "metadata": {},
          "execution_count": 55
        },
        {
          "output_type": "display_data",
          "data": {
            "text/plain": [
              "<Figure size 432x288 with 1 Axes>"
            ],
            "image/png": "[encoded data removed]"
          },
          "metadata": {
            "needs_background": "light"
          }
        }
      ]
    },
    {
      "cell_type": "code",
      "source": [
        "df1['f1_1'].plot.bar(title = \"f1-score 1\", color = \"teal\")"
      ],
      "metadata": {
        "id": "5smL7YJAy-tT",
        "outputId": "5acabc8f-c868-4292-f1b8-e11d8c1819b6",
        "colab": {
          "base_uri": "https://localhost:8080/",
          "height": 325
        }
      },
      "execution_count": 56,
      "outputs": [
        {
          "output_type": "execute_result",
          "data": {
            "text/plain": [
              "<matplotlib.axes._subplots.AxesSubplot at 0x7f182944a950>"
            ]
          },
          "metadata": {},
          "execution_count": 56
        },
        {
          "output_type": "display_data",
          "data": {
            "text/plain": [
              "<Figure size 432x288 with 1 Axes>"
            ],
            "image/png": "[encoded data removed]"
          },
          "metadata": {
            "needs_background": "light"
          }
        }
      ]
    },
    {
      "cell_type": "code",
      "source": [
        "df1['precision_0'].plot.bar(title = \"precision 0\", color = \"maroon\")\n"
      ],
      "metadata": {
        "id": "-lbIlQaDzDLE",
        "outputId": "d4032a89-b1eb-4a7b-8248-db061699f7a6",
        "colab": {
          "base_uri": "https://localhost:8080/",
          "height": 325
        }
      },
      "execution_count": 57,
      "outputs": [
        {
          "output_type": "execute_result",
          "data": {
            "text/plain": [
              "<matplotlib.axes._subplots.AxesSubplot at 0x7f182945bc90>"
            ]
          },
          "metadata": {},
          "execution_count": 57
        },
        {
          "output_type": "display_data",
          "data": {
            "text/plain": [
              "<Figure size 432x288 with 1 Axes>"
            ],
            "image/png": "[encoded data removed]"
          },
          "metadata": {
            "needs_background": "light"
          }
        }
      ]
    },
    {
      "cell_type": "code",
      "source": [
        "df1['precision_1'].plot.bar(title = \"precision 1\", color = \"teal\")"
      ],
      "metadata": {
        "id": "3r3PQT7wzatf",
        "outputId": "3292a1b3-6f70-43c0-b032-654de253ee09",
        "colab": {
          "base_uri": "https://localhost:8080/",
          "height": 325
        }
      },
      "execution_count": 58,
      "outputs": [
        {
          "output_type": "execute_result",
          "data": {
            "text/plain": [
              "<matplotlib.axes._subplots.AxesSubplot at 0x7f18293ad3d0>"
            ]
          },
          "metadata": {},
          "execution_count": 58
        },
        {
          "output_type": "display_data",
          "data": {
            "text/plain": [
              "<Figure size 432x288 with 1 Axes>"
            ],
            "image/png": "[encoded data removed]"
          },
          "metadata": {
            "needs_background": "light"
          }
        }
      ]
    },
    {
      "cell_type": "code",
      "source": [
        "df1['recall_0'].plot.bar(title = \"recall 0\", color = \"maroon\")"
      ],
      "metadata": {
        "id": "raWrIzCTzPiH",
        "outputId": "2d598598-b0f4-48e6-95a2-94753d1123a2",
        "colab": {
          "base_uri": "https://localhost:8080/",
          "height": 325
        }
      },
      "execution_count": 59,
      "outputs": [
        {
          "output_type": "execute_result",
          "data": {
            "text/plain": [
              "<matplotlib.axes._subplots.AxesSubplot at 0x7f1829301550>"
            ]
          },
          "metadata": {},
          "execution_count": 59
        },
        {
          "output_type": "display_data",
          "data": {
            "text/plain": [
              "<Figure size 432x288 with 1 Axes>"
            ],
            "image/png": "[encoded data removed]"
          },
          "metadata": {
            "needs_background": "light"
          }
        }
      ]
    },
    {
      "cell_type": "code",
      "source": [
        "df1['recall_1'].plot.bar(title = \"recall 1\", color = \"teal\")"
      ],
      "metadata": {
        "id": "LaM89qdGzezk",
        "outputId": "ff841982-27ad-448e-e518-7f5b479ecf55",
        "colab": {
          "base_uri": "https://localhost:8080/",
          "height": 325
        }
      },
      "execution_count": 60,
      "outputs": [
        {
          "output_type": "execute_result",
          "data": {
            "text/plain": [
              "<matplotlib.axes._subplots.AxesSubplot at 0x7f18292c9410>"
            ]
          },
          "metadata": {},
          "execution_count": 60
        },
        {
          "output_type": "display_data",
          "data": {
            "text/plain": [
              "<Figure size 432x288 with 1 Axes>"
            ],
            "image/png": "[encoded data removed]"
          },
          "metadata": {
            "needs_background": "light"
          }
        }
      ]
    },
    {
      "cell_type": "code",
      "source": [
        "# axes = df1.plot.bar(\n",
        "#     rot=0, subplots=True, color={\"acc\": \"red\", \"f1_1\": \"green\", \"f1_0\": \"orange\",\"precision_1\":\"teal\", \"precision_0\":\"maroon\",'recall_0':\"yellow\", 'recall_1': \"blue\"}\n",
        "# )\n",
        "# # axes[1].legend(loc=7)  "
      ],
      "metadata": {
        "id": "QQnyX9XQznLl"
      },
      "execution_count": null,
      "outputs": []
    },
    {
      "cell_type": "markdown",
      "source": [
        "## 4c. Recommended model and reasons"
      ],
      "metadata": {
        "id": "NWlXiwfID4eR"
      }
    },
    {
      "cell_type": "markdown",
      "source": [
        "Model 4 is recommended. This is because the model 4 accuracy, f1 for class 0, f1 for class 1, precision for class 0 and recall for class 1 is the highest amongst all the other models. It should also be noted that is has the highest micro average too. Thus model 4 is expected to perform the best when prediciting using the test data set. "
      ],
      "metadata": {
        "id": "ZpdSQn9W0lsV"
      }
    },
    {
      "cell_type": "markdown",
      "source": [
        "# 5. Evaluation using test set"
      ],
      "metadata": {
        "id": "twjWz8S2D8aO"
      }
    },
    {
      "cell_type": "code",
      "source": [
        "clean_test_x_join = [\" \".join(i) for i in clean_test_x] #turn to string for count_vector \n",
        "def report_test(Model):\n",
        "  predicted = Model.predict(clean_test_x_join)\n",
        "  return classification_report(predicted,test_y)\n",
        "\n",
        "print(\"Model 1\")\n",
        "report1= report_test(Model1)\n",
        "print(report1)\n",
        "\n",
        "print(\"Model 2\")\n",
        "report2 = report_test(Model2)\n",
        "print(report2)\n",
        "\n",
        "print(\"Model 3\")\n",
        "report3= report_test(Model3)\n",
        "print(report3)\n",
        "\n",
        "print(\"Model 4\")\n",
        "report4 = report_test(Model4)\n",
        "print(report4)\n",
        "\n",
        "print(\"Model 5\")\n",
        "report5 = report_test(Model5)\n",
        "print(report5)"
      ],
      "metadata": {
        "id": "KO1zZytfECtS",
        "colab": {
          "base_uri": "https://localhost:8080/"
        },
        "outputId": "fb144a44-d184-4f90-9b72-672af20b1bb3"
      },
      "execution_count": 61,
      "outputs": [
        {
          "output_type": "stream",
          "name": "stdout",
          "text": [
            "Model 1\n",
            "              precision    recall  f1-score   support\n",
            "\n",
            "           0       0.99      0.97      0.98       750\n",
            "           1       0.92      0.97      0.95       284\n",
            "\n",
            "    accuracy                           0.97      1034\n",
            "   macro avg       0.95      0.97      0.96      1034\n",
            "weighted avg       0.97      0.97      0.97      1034\n",
            "\n",
            "Model 2\n",
            "              precision    recall  f1-score   support\n",
            "\n",
            "           0       0.74      0.98      0.84       557\n",
            "           1       0.96      0.60      0.74       477\n",
            "\n",
            "    accuracy                           0.81      1034\n",
            "   macro avg       0.85      0.79      0.79      1034\n",
            "weighted avg       0.84      0.81      0.80      1034\n",
            "\n",
            "Model 3\n",
            "              precision    recall  f1-score   support\n",
            "\n",
            "           0       0.88      0.93      0.91       693\n",
            "           1       0.85      0.74      0.79       341\n",
            "\n",
            "    accuracy                           0.87      1034\n",
            "   macro avg       0.86      0.84      0.85      1034\n",
            "weighted avg       0.87      0.87      0.87      1034\n",
            "\n",
            "Model 4\n",
            "              precision    recall  f1-score   support\n",
            "\n",
            "           0       0.99      0.96      0.98       760\n",
            "           1       0.90      0.98      0.94       274\n",
            "\n",
            "    accuracy                           0.97      1034\n",
            "   macro avg       0.94      0.97      0.96      1034\n",
            "weighted avg       0.97      0.97      0.97      1034\n",
            "\n",
            "Model 5\n",
            "              precision    recall  f1-score   support\n",
            "\n",
            "           0       0.93      0.97      0.95       707\n",
            "           1       0.92      0.84      0.88       327\n",
            "\n",
            "    accuracy                           0.93      1034\n",
            "   macro avg       0.93      0.91      0.91      1034\n",
            "weighted avg       0.93      0.93      0.93      1034\n",
            "\n"
          ]
        }
      ]
    },
    {
      "cell_type": "markdown",
      "source": [
        "## 5b. Is recommendation still valid?"
      ],
      "metadata": {
        "id": "ChR2iLqsEDOT"
      }
    },
    {
      "cell_type": "markdown",
      "source": [
        "Yes, the recommendation is still valid. Although model 1 and model 4 have the same accuracy score, it does not do better than model 4. "
      ],
      "metadata": {
        "id": "Emo_1HTW1XbU"
      }
    },
    {
      "cell_type": "markdown",
      "source": [
        "# 6. Implementation of 1 more variation to improve performance "
      ],
      "metadata": {
        "id": "_0kOaI7vEGFA"
      }
    },
    {
      "cell_type": "markdown",
      "source": [
        "### For our improvement we will use n_grams on features used in model 4"
      ],
      "metadata": {
        "id": "eRj4pN6NOYKo"
      }
    },
    {
      "cell_type": "code",
      "source": [
        "#using a bigram \n",
        "pipeline6 = Pipeline([\n",
        "   ('bow',CountVectorizer(ngram_range=(1,2))),\n",
        "    # ('tfidf',TfidfTransformer()),\n",
        "    ('classifier',MultinomialNB()),\n",
        "])"
      ],
      "metadata": {
        "id": "bebIFA3bEOju"
      },
      "execution_count": 66,
      "outputs": []
    },
    {
      "cell_type": "code",
      "source": [
        "Model6 = pipeline6.fit(not_top100_train_x_join,train_y)"
      ],
      "metadata": {
        "id": "hu4MQnNlPHkw"
      },
      "execution_count": 68,
      "outputs": []
    },
    {
      "cell_type": "code",
      "source": [
        "print(\"Model 6\")\n",
        "report6=report_test(Model6)\n",
        "print(report6)"
      ],
      "metadata": {
        "id": "gYvnEmQdPpk9",
        "outputId": "0837ca8e-4483-4147-f87a-0ae5018e9869",
        "colab": {
          "base_uri": "https://localhost:8080/"
        }
      },
      "execution_count": 71,
      "outputs": [
        {
          "output_type": "stream",
          "name": "stdout",
          "text": [
            "Model 6\n",
            "              precision    recall  f1-score   support\n",
            "\n",
            "           0       1.00      0.96      0.98       758\n",
            "           1       0.91      0.99      0.95       276\n",
            "\n",
            "    accuracy                           0.97      1034\n",
            "   macro avg       0.95      0.98      0.96      1034\n",
            "weighted avg       0.97      0.97      0.97      1034\n",
            "\n"
          ]
        }
      ]
    },
    {
      "cell_type": "code",
      "source": [
        "M4 = [0.97,0.98,0.94,0.99,0.90,0.96,0.98,0.94,0.97,0.96]\n",
        "M6 = [0.97,0.98,0.95,1.00,0.91,0.96,0.99,0.95,0.98,0.96]\n",
        "\n",
        "\n",
        "index = ['acc', 'f1_0','f1_1', 'precision_0','precision_1', 'recall_0','recall_1','macro_avg p', 'macro_avg r', 'macro_avg f']\n",
        "df6 = pd.DataFrame({'Model4': M4,\n",
        "                   'Model6': M6}, index=index)\n",
        "df6"
      ],
      "metadata": {
        "id": "hJmNrV1FVMkM",
        "outputId": "f0f0c64d-cf01-46ee-a2f3-1b46ac20beae",
        "colab": {
          "base_uri": "https://localhost:8080/",
          "height": 363
        }
      },
      "execution_count": 94,
      "outputs": [
        {
          "output_type": "execute_result",
          "data": {
            "text/plain": [
              "             Model4  Model6\n",
              "acc            0.97    0.97\n",
              "f1_0           0.98    0.98\n",
              "f1_1           0.94    0.95\n",
              "precision_0    0.99    1.00\n",
              "precision_1    0.90    0.91\n",
              "recall_0       0.96    0.96\n",
              "recall_1       0.98    0.99\n",
              "macro_avg p    0.94    0.95\n",
              "macro_avg r    0.97    0.98\n",
              "macro_avg f    0.96    0.96"
            ],
            "text/html": [
              "\n",
              "  <div id=\"df-b43b3153-c3ce-4e8b-b2fb-5c3aaf868c34\">\n",
              "    <div class=\"colab-df-container\">\n",
              "      <div>\n",
              "<style scoped>\n",
              "    .dataframe tbody tr th:only-of-type {\n",
              "        vertical-align: middle;\n",
              "    }\n",
              "\n",
              "    .dataframe tbody tr th {\n",
              "        vertical-align: top;\n",
              "    }\n",
              "\n",
              "    .dataframe thead th {\n",
              "        text-align: right;\n",
              "    }\n",
              "</style>\n",
              "<table border=\"1\" class=\"dataframe\">\n",
              "  <thead>\n",
              "    <tr style=\"text-align: right;\">\n",
              "      <th></th>\n",
              "      <th>Model4</th>\n",
              "      <th>Model6</th>\n",
              "    </tr>\n",
              "  </thead>\n",
              "  <tbody>\n",
              "    <tr>\n",
              "      <th>acc</th>\n",
              "      <td>0.97</td>\n",
              "      <td>0.97</td>\n",
              "    </tr>\n",
              "    <tr>\n",
              "      <th>f1_0</th>\n",
              "      <td>0.98</td>\n",
              "      <td>0.98</td>\n",
              "    </tr>\n",
              "    <tr>\n",
              "      <th>f1_1</th>\n",
              "      <td>0.94</td>\n",
              "      <td>0.95</td>\n",
              "    </tr>\n",
              "    <tr>\n",
              "      <th>precision_0</th>\n",
              "      <td>0.99</td>\n",
              "      <td>1.00</td>\n",
              "    </tr>\n",
              "    <tr>\n",
              "      <th>precision_1</th>\n",
              "      <td>0.90</td>\n",
              "      <td>0.91</td>\n",
              "    </tr>\n",
              "    <tr>\n",
              "      <th>recall_0</th>\n",
              "      <td>0.96</td>\n",
              "      <td>0.96</td>\n",
              "    </tr>\n",
              "    <tr>\n",
              "      <th>recall_1</th>\n",
              "      <td>0.98</td>\n",
              "      <td>0.99</td>\n",
              "    </tr>\n",
              "    <tr>\n",
              "      <th>macro_avg p</th>\n",
              "      <td>0.94</td>\n",
              "      <td>0.95</td>\n",
              "    </tr>\n",
              "    <tr>\n",
              "      <th>macro_avg r</th>\n",
              "      <td>0.97</td>\n",
              "      <td>0.98</td>\n",
              "    </tr>\n",
              "    <tr>\n",
              "      <th>macro_avg f</th>\n",
              "      <td>0.96</td>\n",
              "      <td>0.96</td>\n",
              "    </tr>\n",
              "  </tbody>\n",
              "</table>\n",
              "</div>\n",
              "      <button class=\"colab-df-convert\" onclick=\"convertToInteractive('df-b43b3153-c3ce-4e8b-b2fb-5c3aaf868c34')\"\n",
              "              title=\"Convert this dataframe to an interactive table.\"\n",
              "              style=\"display:none;\">\n",
              "        \n",
              "  <svg xmlns=\"http://www.w3.org/2000/svg\" height=\"24px\"viewBox=\"0 0 24 24\"\n",
              "       width=\"24px\">\n",
              "    <path d=\"M0 0h24v24H0V0z\" fill=\"none\"/>\n",
              "    <path d=\"M18.56 5.44l.94 2.06.94-2.06 2.06-.94-2.06-.94-.94-2.06-.94 2.06-2.06.94zm-11 1L8.5 8.5l.94-2.06 2.06-.94-2.06-.94L8.5 2.5l-.94 2.06-2.06.94zm10 10l.94 2.06.94-2.06 2.06-.94-2.06-.94-.94-2.06-.94 2.06-2.06.94z\"/><path d=\"M17.41 7.96l-1.37-1.37c-.4-.4-.92-.59-1.43-.59-.52 0-1.04.2-1.43.59L10.3 9.45l-7.72 7.72c-.78.78-.78 2.05 0 2.83L4 21.41c.39.39.9.59 1.41.59.51 0 1.02-.2 1.41-.59l7.78-7.78 2.81-2.81c.8-.78.8-2.07 0-2.86zM5.41 20L4 18.59l7.72-7.72 1.47 1.35L5.41 20z\"/>\n",
              "  </svg>\n",
              "      </button>\n",
              "      \n",
              "  <style>\n",
              "    .colab-df-container {\n",
              "      display:flex;\n",
              "      flex-wrap:wrap;\n",
              "      gap: 12px;\n",
              "    }\n",
              "\n",
              "    .colab-df-convert {\n",
              "      background-color: #E8F0FE;\n",
              "      border: none;\n",
              "      border-radius: 50%;\n",
              "      cursor: pointer;\n",
              "      display: none;\n",
              "      fill: #1967D2;\n",
              "      height: 32px;\n",
              "      padding: 0 0 0 0;\n",
              "      width: 32px;\n",
              "    }\n",
              "\n",
              "    .colab-df-convert:hover {\n",
              "      background-color: #E2EBFA;\n",
              "      box-shadow: 0px 1px 2px rgba(60, 64, 67, 0.3), 0px 1px 3px 1px rgba(60, 64, 67, 0.15);\n",
              "      fill: #174EA6;\n",
              "    }\n",
              "\n",
              "    [theme=dark] .colab-df-convert {\n",
              "      background-color: #3B4455;\n",
              "      fill: #D2E3FC;\n",
              "    }\n",
              "\n",
              "    [theme=dark] .colab-df-convert:hover {\n",
              "      background-color: #434B5C;\n",
              "      box-shadow: 0px 1px 3px 1px rgba(0, 0, 0, 0.15);\n",
              "      filter: drop-shadow(0px 1px 2px rgba(0, 0, 0, 0.3));\n",
              "      fill: #FFFFFF;\n",
              "    }\n",
              "  </style>\n",
              "\n",
              "      <script>\n",
              "        const buttonEl =\n",
              "          document.querySelector('#df-b43b3153-c3ce-4e8b-b2fb-5c3aaf868c34 button.colab-df-convert');\n",
              "        buttonEl.style.display =\n",
              "          google.colab.kernel.accessAllowed ? 'block' : 'none';\n",
              "\n",
              "        async function convertToInteractive(key) {\n",
              "          const element = document.querySelector('#df-b43b3153-c3ce-4e8b-b2fb-5c3aaf868c34');\n",
              "          const dataTable =\n",
              "            await google.colab.kernel.invokeFunction('convertToInteractive',\n",
              "                                                     [key], {});\n",
              "          if (!dataTable) return;\n",
              "\n",
              "          const docLinkHtml = 'Like what you see? Visit the ' +\n",
              "            '<a target=\"_blank\" href=https://colab.research.google.com/notebooks/data_table.ipynb>data table notebook</a>'\n",
              "            + ' to learn more about interactive tables.';\n",
              "          element.innerHTML = '';\n",
              "          dataTable['output_type'] = 'display_data';\n",
              "          await google.colab.output.renderOutput(dataTable, element);\n",
              "          const docLink = document.createElement('div');\n",
              "          docLink.innerHTML = docLinkHtml;\n",
              "          element.appendChild(docLink);\n",
              "        }\n",
              "      </script>\n",
              "    </div>\n",
              "  </div>\n",
              "  "
            ]
          },
          "metadata": {},
          "execution_count": 94
        }
      ]
    },
    {
      "cell_type": "code",
      "source": [
        "ax = df6.plot.bar(title = \"Model 4 vs Model 6\")\n",
        "ax.set_xlabel(\"evaluation metric\")\n",
        "ax.set_ylabel(\"score\")\n"
      ],
      "metadata": {
        "id": "MLxtNse0YL17",
        "outputId": "df827f5b-fb21-45ec-98c7-ce9245f5f367",
        "colab": {
          "base_uri": "https://localhost:8080/",
          "height": 366
        }
      },
      "execution_count": 95,
      "outputs": [
        {
          "output_type": "execute_result",
          "data": {
            "text/plain": [
              "Text(0, 0.5, 'score')"
            ]
          },
          "metadata": {},
          "execution_count": 95
        },
        {
          "output_type": "display_data",
          "data": {
            "text/plain": [
              "<Figure size 432x288 with 1 Axes>"
            ],
            "image/png": "[encoded data removed]"
          },
          "metadata": {
            "needs_background": "light"
          }
        }
      ]
    },
    {
      "cell_type": "markdown",
      "source": [
        "Although the accuracy score did not improve, model 6 still managed to improve on a number of other evaluations metrics (slightly). Precision, recal, f1_score and macro average has improved on model 6 by at most 1%. \n"
      ],
      "metadata": {
        "id": "5S00r5eXckkk"
      }
    },
    {
      "cell_type": "code",
      "source": [],
      "metadata": {
        "id": "WahO7_IKYRDZ"
      },
      "execution_count": null,
      "outputs": []
    }
  ]
}
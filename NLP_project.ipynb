{
  "nbformat": 4,
  "nbformat_minor": 0,
  "metadata": {
    "colab": {
      "provenance": [],
      "mount_file_id": "https://github.com/fezilemahlangu/Natural-Language-Processing-Project/blob/main/NLP_project.ipynb",
      "authorship_tag": "ABX9TyMwAgnkXKj+Us+JIj2r6i9v",
      "include_colab_link": true
    },
    "kernelspec": {
      "name": "python3",
      "display_name": "Python 3"
    },
    "language_info": {
      "name": "python"
    }
  },
  "cells": [
    {
      "cell_type": "markdown",
      "metadata": {
        "id": "view-in-github",
        "colab_type": "text"
      },
      "source": [
        "<a href=\"https://colab.research.google.com/github/fezilemahlangu/Natural-Language-Processing-Project/blob/main/NLP_project.ipynb\" target=\"_parent\"><img src=\"https://colab.research.google.com/assets/colab-badge.svg\" alt=\"Open In Colab\"/></a>"
      ]
    },
    {
      "cell_type": "markdown",
      "source": [
        "#Fezile Mahlangu \n",
        "\n",
        "#2089676\n",
        "\n",
        "#NLP Project 2022 \n",
        "\n",
        "\n",
        "---\n",
        "\n",
        "Project: Spam Classification Using Naive Bayes\n",
        "\n",
        "Aim: Train and optimize a spam classifier using Naive Bayes classification model\n",
        "\n",
        "Tasks:\n",
        "- [x] Implement a Naive Bayes Model\n",
        "- [x] Investigate the effect of using different features \n",
        "- [x] Evaluate the performance of different models\n",
        "- [x] Optimize the model for better performance\n",
        "\n",
        "\n"
      ],
      "metadata": {
        "id": "0Y1HgjYg_FCE"
      }
    },
    {
      "cell_type": "markdown",
      "source": [
        "\n",
        "\n",
        "---\n",
        "\n"
      ],
      "metadata": {
        "id": "qb81hvjKNksD"
      }
    },
    {
      "cell_type": "markdown",
      "source": [
        "# Imports"
      ],
      "metadata": {
        "id": "hCYvB5ipLtJ3"
      }
    },
    {
      "cell_type": "code",
      "execution_count": 99,
      "metadata": {
        "id": "S33aocZe-etl",
        "colab": {
          "base_uri": "https://localhost:8080/"
        },
        "outputId": "2bd19e1a-740f-4887-9cac-6a34477d8176"
      },
      "outputs": [
        {
          "output_type": "stream",
          "name": "stderr",
          "text": [
            "[nltk_data] Downloading package stopwords to /root/nltk_data...\n",
            "[nltk_data]   Package stopwords is already up-to-date!\n",
            "[nltk_data] Downloading package wordnet to /root/nltk_data...\n",
            "[nltk_data]   Package wordnet is already up-to-date!\n",
            "[nltk_data] Downloading package omw-1.4 to /root/nltk_data...\n",
            "[nltk_data]   Package omw-1.4 is already up-to-date!\n"
          ]
        }
      ],
      "source": [
        "import numpy as np\n",
        "import pandas as pd\n",
        "import nltk\n",
        "import copy\n",
        "nltk.download('stopwords')\n",
        "from nltk.tokenize import word_tokenize, wordpunct_tokenize\n",
        "nltk.download(\"wordnet\")\n",
        "from nltk.stem.wordnet import WordNetLemmatizer \n",
        "from nltk.tokenize import RegexpTokenizer\n",
        "nltk.download('omw-1.4')\n",
        "\n",
        "from sklearn.naive_bayes import MultinomialNB\n",
        "from sklearn.feature_extraction.text import CountVectorizer\n",
        "from sklearn.metrics import accuracy_score, precision_recall_fscore_support, confusion_matrix,f1_score\n",
        "from sklearn.metrics import ConfusionMatrixDisplay\n",
        "from collections import Counter\n",
        "from sklearn.metrics import classification_report,confusion_matrix\n",
        "from sklearn.feature_extraction.text import TfidfVectorizer\n",
        "import matplotlib.pyplot as plt\n"
      ]
    },
    {
      "cell_type": "markdown",
      "source": [
        "# Loading data"
      ],
      "metadata": {
        "id": "yEImhTNLLwU7"
      }
    },
    {
      "cell_type": "code",
      "source": [
        "#loading data -> Remember to remove drive path and use normal path\n",
        "\n",
        "train_df = pd.read_csv(\"/content/drive/MyDrive/NLP/train.csv\")\n",
        "val_df = pd.read_csv(\"/content/drive/MyDrive/NLP/val.csv\")\n",
        "test_df = pd.read_csv(\"/content/drive/MyDrive/NLP/test.csv\")\n",
        "display(train_df)"
      ],
      "metadata": {
        "colab": {
          "base_uri": "https://localhost:8080/",
          "height": 424
        },
        "id": "GCpy9615-sCa",
        "outputId": "94618198-666c-4c35-e026-a0df6e65bd1a"
      },
      "execution_count": 2,
      "outputs": [
        {
          "output_type": "display_data",
          "data": {
            "text/plain": [
              "                                                   text  label\n",
              "0     Subject: thank you\\r\\nami and daren , , , ,\\r\\...      0\n",
              "1     Subject: spot or firm tickets\\r\\nvance ,\\r\\nth...      0\n",
              "2     Subject: software\\r\\nmicrosoft windows xp prof...      1\n",
              "3     Subject: noms / actual flow for 2 / 27\\r\\nwe a...      0\n",
              "4     Subject: superb so . ftware\\r\\nyoull discover ...      1\n",
              "...                                                 ...    ...\n",
              "3097  Subject: \\r\\n( envelope - from 20040929124340 ...      1\n",
              "3098  Subject: re : intraday eastrans nomination cha...      0\n",
              "3099  Subject: meter 1601\\r\\ndaren - meter 1601 has ...      0\n",
              "3100  Subject: need legal help ?\\r\\nto unsubscribe f...      1\n",
              "3101  Subject: re : tuesday , december 26 th\\r\\nmary...      0\n",
              "\n",
              "[3102 rows x 2 columns]"
            ],
            "text/html": [
              "\n",
              "  <div id=\"df-3d2b22a5-3b91-4e1c-b8e3-822e97be21eb\">\n",
              "    <div class=\"colab-df-container\">\n",
              "      <div>\n",
              "<style scoped>\n",
              "    .dataframe tbody tr th:only-of-type {\n",
              "        vertical-align: middle;\n",
              "    }\n",
              "\n",
              "    .dataframe tbody tr th {\n",
              "        vertical-align: top;\n",
              "    }\n",
              "\n",
              "    .dataframe thead th {\n",
              "        text-align: right;\n",
              "    }\n",
              "</style>\n",
              "<table border=\"1\" class=\"dataframe\">\n",
              "  <thead>\n",
              "    <tr style=\"text-align: right;\">\n",
              "      <th></th>\n",
              "      <th>text</th>\n",
              "      <th>label</th>\n",
              "    </tr>\n",
              "  </thead>\n",
              "  <tbody>\n",
              "    <tr>\n",
              "      <th>0</th>\n",
              "      <td>Subject: thank you\\r\\nami and daren , , , ,\\r\\...</td>\n",
              "      <td>0</td>\n",
              "    </tr>\n",
              "    <tr>\n",
              "      <th>1</th>\n",
              "      <td>Subject: spot or firm tickets\\r\\nvance ,\\r\\nth...</td>\n",
              "      <td>0</td>\n",
              "    </tr>\n",
              "    <tr>\n",
              "      <th>2</th>\n",
              "      <td>Subject: software\\r\\nmicrosoft windows xp prof...</td>\n",
              "      <td>1</td>\n",
              "    </tr>\n",
              "    <tr>\n",
              "      <th>3</th>\n",
              "      <td>Subject: noms / actual flow for 2 / 27\\r\\nwe a...</td>\n",
              "      <td>0</td>\n",
              "    </tr>\n",
              "    <tr>\n",
              "      <th>4</th>\n",
              "      <td>Subject: superb so . ftware\\r\\nyoull discover ...</td>\n",
              "      <td>1</td>\n",
              "    </tr>\n",
              "    <tr>\n",
              "      <th>...</th>\n",
              "      <td>...</td>\n",
              "      <td>...</td>\n",
              "    </tr>\n",
              "    <tr>\n",
              "      <th>3097</th>\n",
              "      <td>Subject: \\r\\n( envelope - from 20040929124340 ...</td>\n",
              "      <td>1</td>\n",
              "    </tr>\n",
              "    <tr>\n",
              "      <th>3098</th>\n",
              "      <td>Subject: re : intraday eastrans nomination cha...</td>\n",
              "      <td>0</td>\n",
              "    </tr>\n",
              "    <tr>\n",
              "      <th>3099</th>\n",
              "      <td>Subject: meter 1601\\r\\ndaren - meter 1601 has ...</td>\n",
              "      <td>0</td>\n",
              "    </tr>\n",
              "    <tr>\n",
              "      <th>3100</th>\n",
              "      <td>Subject: need legal help ?\\r\\nto unsubscribe f...</td>\n",
              "      <td>1</td>\n",
              "    </tr>\n",
              "    <tr>\n",
              "      <th>3101</th>\n",
              "      <td>Subject: re : tuesday , december 26 th\\r\\nmary...</td>\n",
              "      <td>0</td>\n",
              "    </tr>\n",
              "  </tbody>\n",
              "</table>\n",
              "<p>3102 rows × 2 columns</p>\n",
              "</div>\n",
              "      <button class=\"colab-df-convert\" onclick=\"convertToInteractive('df-3d2b22a5-3b91-4e1c-b8e3-822e97be21eb')\"\n",
              "              title=\"Convert this dataframe to an interactive table.\"\n",
              "              style=\"display:none;\">\n",
              "        \n",
              "  <svg xmlns=\"http://www.w3.org/2000/svg\" height=\"24px\"viewBox=\"0 0 24 24\"\n",
              "       width=\"24px\">\n",
              "    <path d=\"M0 0h24v24H0V0z\" fill=\"none\"/>\n",
              "    <path d=\"M18.56 5.44l.94 2.06.94-2.06 2.06-.94-2.06-.94-.94-2.06-.94 2.06-2.06.94zm-11 1L8.5 8.5l.94-2.06 2.06-.94-2.06-.94L8.5 2.5l-.94 2.06-2.06.94zm10 10l.94 2.06.94-2.06 2.06-.94-2.06-.94-.94-2.06-.94 2.06-2.06.94z\"/><path d=\"M17.41 7.96l-1.37-1.37c-.4-.4-.92-.59-1.43-.59-.52 0-1.04.2-1.43.59L10.3 9.45l-7.72 7.72c-.78.78-.78 2.05 0 2.83L4 21.41c.39.39.9.59 1.41.59.51 0 1.02-.2 1.41-.59l7.78-7.78 2.81-2.81c.8-.78.8-2.07 0-2.86zM5.41 20L4 18.59l7.72-7.72 1.47 1.35L5.41 20z\"/>\n",
              "  </svg>\n",
              "      </button>\n",
              "      \n",
              "  <style>\n",
              "    .colab-df-container {\n",
              "      display:flex;\n",
              "      flex-wrap:wrap;\n",
              "      gap: 12px;\n",
              "    }\n",
              "\n",
              "    .colab-df-convert {\n",
              "      background-color: #E8F0FE;\n",
              "      border: none;\n",
              "      border-radius: 50%;\n",
              "      cursor: pointer;\n",
              "      display: none;\n",
              "      fill: #1967D2;\n",
              "      height: 32px;\n",
              "      padding: 0 0 0 0;\n",
              "      width: 32px;\n",
              "    }\n",
              "\n",
              "    .colab-df-convert:hover {\n",
              "      background-color: #E2EBFA;\n",
              "      box-shadow: 0px 1px 2px rgba(60, 64, 67, 0.3), 0px 1px 3px 1px rgba(60, 64, 67, 0.15);\n",
              "      fill: #174EA6;\n",
              "    }\n",
              "\n",
              "    [theme=dark] .colab-df-convert {\n",
              "      background-color: #3B4455;\n",
              "      fill: #D2E3FC;\n",
              "    }\n",
              "\n",
              "    [theme=dark] .colab-df-convert:hover {\n",
              "      background-color: #434B5C;\n",
              "      box-shadow: 0px 1px 3px 1px rgba(0, 0, 0, 0.15);\n",
              "      filter: drop-shadow(0px 1px 2px rgba(0, 0, 0, 0.3));\n",
              "      fill: #FFFFFF;\n",
              "    }\n",
              "  </style>\n",
              "\n",
              "      <script>\n",
              "        const buttonEl =\n",
              "          document.querySelector('#df-3d2b22a5-3b91-4e1c-b8e3-822e97be21eb button.colab-df-convert');\n",
              "        buttonEl.style.display =\n",
              "          google.colab.kernel.accessAllowed ? 'block' : 'none';\n",
              "\n",
              "        async function convertToInteractive(key) {\n",
              "          const element = document.querySelector('#df-3d2b22a5-3b91-4e1c-b8e3-822e97be21eb');\n",
              "          const dataTable =\n",
              "            await google.colab.kernel.invokeFunction('convertToInteractive',\n",
              "                                                     [key], {});\n",
              "          if (!dataTable) return;\n",
              "\n",
              "          const docLinkHtml = 'Like what you see? Visit the ' +\n",
              "            '<a target=\"_blank\" href=https://colab.research.google.com/notebooks/data_table.ipynb>data table notebook</a>'\n",
              "            + ' to learn more about interactive tables.';\n",
              "          element.innerHTML = '';\n",
              "          dataTable['output_type'] = 'display_data';\n",
              "          await google.colab.output.renderOutput(dataTable, element);\n",
              "          const docLink = document.createElement('div');\n",
              "          docLink.innerHTML = docLinkHtml;\n",
              "          element.appendChild(docLink);\n",
              "        }\n",
              "      </script>\n",
              "    </div>\n",
              "  </div>\n",
              "  "
            ]
          },
          "metadata": {}
        }
      ]
    },
    {
      "cell_type": "code",
      "source": [
        "\n",
        "train = [train_df[train_df.label==0].count()[0],train_df[train_df.label==1].count()[0]]\n",
        "test = [test_df[test_df.label==0].count()[0],test_df[test_df.label==1].count()[0]]\n",
        "val = [val_df[val_df.label==0].count()[0],val_df[val_df.label==1].count()[0]]\n",
        "\n",
        "index = ['0', '1']\n",
        "df = pd.DataFrame({'train': train,\n",
        "                   'val': val, 'test':test}, index=index)\n",
        "ax = df.plot.bar(rot=0,title=\"Figure 1: Number of records per class\")\n",
        "ax.set_xlabel(\"class\")\n",
        "ax.set_ylabel(\"number of records\")\n"
      ],
      "metadata": {
        "colab": {
          "base_uri": "https://localhost:8080/",
          "height": 312
        },
        "id": "eDCHvHPgHmrL",
        "outputId": "8d440b10-0c76-465b-e504-dc72fa80e84e"
      },
      "execution_count": 100,
      "outputs": [
        {
          "output_type": "execute_result",
          "data": {
            "text/plain": [
              "Text(0, 0.5, 'number of records')"
            ]
          },
          "metadata": {},
          "execution_count": 100
        },
        {
          "output_type": "display_data",
          "data": {
            "text/plain": [
              "<Figure size 432x288 with 1 Axes>"
            ],
            "image/png": "[encoded data removed]"
          },
          "metadata": {
            "needs_background": "light"
          }
        }
      ]
    },
    {
      "cell_type": "markdown",
      "source": [
        "# 1. Preprocessing of data\n",
        "\n",
        "The text will be tokenized and there will be a list of words for each sentence "
      ],
      "metadata": {
        "id": "RzdMP6ioIwVw"
      }
    },
    {
      "cell_type": "code",
      "source": [
        "train_df.head()"
      ],
      "metadata": {
        "colab": {
          "base_uri": "https://localhost:8080/",
          "height": 206
        },
        "id": "8AYW_3jUqRBu",
        "outputId": "a123f854-c379-4077-e486-65a110e3c43e"
      },
      "execution_count": 4,
      "outputs": [
        {
          "output_type": "execute_result",
          "data": {
            "text/plain": [
              "                                                text  label\n",
              "0  Subject: thank you\\r\\nami and daren , , , ,\\r\\...      0\n",
              "1  Subject: spot or firm tickets\\r\\nvance ,\\r\\nth...      0\n",
              "2  Subject: software\\r\\nmicrosoft windows xp prof...      1\n",
              "3  Subject: noms / actual flow for 2 / 27\\r\\nwe a...      0\n",
              "4  Subject: superb so . ftware\\r\\nyoull discover ...      1"
            ],
            "text/html": [
              "\n",
              "  <div id=\"df-99e5ac3f-a982-4838-a166-149b3a56ea84\">\n",
              "    <div class=\"colab-df-container\">\n",
              "      <div>\n",
              "<style scoped>\n",
              "    .dataframe tbody tr th:only-of-type {\n",
              "        vertical-align: middle;\n",
              "    }\n",
              "\n",
              "    .dataframe tbody tr th {\n",
              "        vertical-align: top;\n",
              "    }\n",
              "\n",
              "    .dataframe thead th {\n",
              "        text-align: right;\n",
              "    }\n",
              "</style>\n",
              "<table border=\"1\" class=\"dataframe\">\n",
              "  <thead>\n",
              "    <tr style=\"text-align: right;\">\n",
              "      <th></th>\n",
              "      <th>text</th>\n",
              "      <th>label</th>\n",
              "    </tr>\n",
              "  </thead>\n",
              "  <tbody>\n",
              "    <tr>\n",
              "      <th>0</th>\n",
              "      <td>Subject: thank you\\r\\nami and daren , , , ,\\r\\...</td>\n",
              "      <td>0</td>\n",
              "    </tr>\n",
              "    <tr>\n",
              "      <th>1</th>\n",
              "      <td>Subject: spot or firm tickets\\r\\nvance ,\\r\\nth...</td>\n",
              "      <td>0</td>\n",
              "    </tr>\n",
              "    <tr>\n",
              "      <th>2</th>\n",
              "      <td>Subject: software\\r\\nmicrosoft windows xp prof...</td>\n",
              "      <td>1</td>\n",
              "    </tr>\n",
              "    <tr>\n",
              "      <th>3</th>\n",
              "      <td>Subject: noms / actual flow for 2 / 27\\r\\nwe a...</td>\n",
              "      <td>0</td>\n",
              "    </tr>\n",
              "    <tr>\n",
              "      <th>4</th>\n",
              "      <td>Subject: superb so . ftware\\r\\nyoull discover ...</td>\n",
              "      <td>1</td>\n",
              "    </tr>\n",
              "  </tbody>\n",
              "</table>\n",
              "</div>\n",
              "      <button class=\"colab-df-convert\" onclick=\"convertToInteractive('df-99e5ac3f-a982-4838-a166-149b3a56ea84')\"\n",
              "              title=\"Convert this dataframe to an interactive table.\"\n",
              "              style=\"display:none;\">\n",
              "        \n",
              "  <svg xmlns=\"http://www.w3.org/2000/svg\" height=\"24px\"viewBox=\"0 0 24 24\"\n",
              "       width=\"24px\">\n",
              "    <path d=\"M0 0h24v24H0V0z\" fill=\"none\"/>\n",
              "    <path d=\"M18.56 5.44l.94 2.06.94-2.06 2.06-.94-2.06-.94-.94-2.06-.94 2.06-2.06.94zm-11 1L8.5 8.5l.94-2.06 2.06-.94-2.06-.94L8.5 2.5l-.94 2.06-2.06.94zm10 10l.94 2.06.94-2.06 2.06-.94-2.06-.94-.94-2.06-.94 2.06-2.06.94z\"/><path d=\"M17.41 7.96l-1.37-1.37c-.4-.4-.92-.59-1.43-.59-.52 0-1.04.2-1.43.59L10.3 9.45l-7.72 7.72c-.78.78-.78 2.05 0 2.83L4 21.41c.39.39.9.59 1.41.59.51 0 1.02-.2 1.41-.59l7.78-7.78 2.81-2.81c.8-.78.8-2.07 0-2.86zM5.41 20L4 18.59l7.72-7.72 1.47 1.35L5.41 20z\"/>\n",
              "  </svg>\n",
              "      </button>\n",
              "      \n",
              "  <style>\n",
              "    .colab-df-container {\n",
              "      display:flex;\n",
              "      flex-wrap:wrap;\n",
              "      gap: 12px;\n",
              "    }\n",
              "\n",
              "    .colab-df-convert {\n",
              "      background-color: #E8F0FE;\n",
              "      border: none;\n",
              "      border-radius: 50%;\n",
              "      cursor: pointer;\n",
              "      display: none;\n",
              "      fill: #1967D2;\n",
              "      height: 32px;\n",
              "      padding: 0 0 0 0;\n",
              "      width: 32px;\n",
              "    }\n",
              "\n",
              "    .colab-df-convert:hover {\n",
              "      background-color: #E2EBFA;\n",
              "      box-shadow: 0px 1px 2px rgba(60, 64, 67, 0.3), 0px 1px 3px 1px rgba(60, 64, 67, 0.15);\n",
              "      fill: #174EA6;\n",
              "    }\n",
              "\n",
              "    [theme=dark] .colab-df-convert {\n",
              "      background-color: #3B4455;\n",
              "      fill: #D2E3FC;\n",
              "    }\n",
              "\n",
              "    [theme=dark] .colab-df-convert:hover {\n",
              "      background-color: #434B5C;\n",
              "      box-shadow: 0px 1px 3px 1px rgba(0, 0, 0, 0.15);\n",
              "      filter: drop-shadow(0px 1px 2px rgba(0, 0, 0, 0.3));\n",
              "      fill: #FFFFFF;\n",
              "    }\n",
              "  </style>\n",
              "\n",
              "      <script>\n",
              "        const buttonEl =\n",
              "          document.querySelector('#df-99e5ac3f-a982-4838-a166-149b3a56ea84 button.colab-df-convert');\n",
              "        buttonEl.style.display =\n",
              "          google.colab.kernel.accessAllowed ? 'block' : 'none';\n",
              "\n",
              "        async function convertToInteractive(key) {\n",
              "          const element = document.querySelector('#df-99e5ac3f-a982-4838-a166-149b3a56ea84');\n",
              "          const dataTable =\n",
              "            await google.colab.kernel.invokeFunction('convertToInteractive',\n",
              "                                                     [key], {});\n",
              "          if (!dataTable) return;\n",
              "\n",
              "          const docLinkHtml = 'Like what you see? Visit the ' +\n",
              "            '<a target=\"_blank\" href=https://colab.research.google.com/notebooks/data_table.ipynb>data table notebook</a>'\n",
              "            + ' to learn more about interactive tables.';\n",
              "          element.innerHTML = '';\n",
              "          dataTable['output_type'] = 'display_data';\n",
              "          await google.colab.output.renderOutput(dataTable, element);\n",
              "          const docLink = document.createElement('div');\n",
              "          docLink.innerHTML = docLinkHtml;\n",
              "          element.appendChild(docLink);\n",
              "        }\n",
              "      </script>\n",
              "    </div>\n",
              "  </div>\n",
              "  "
            ]
          },
          "metadata": {},
          "execution_count": 4
        }
      ]
    },
    {
      "cell_type": "code",
      "source": [
        "#creating x and y arrays from dataframes \n",
        "train_x = train_df.text\n",
        "train_y = train_df.label\n",
        "\n",
        "test_x = test_df.text\n",
        "test_y = test_df.label\n",
        "\n",
        "val_x = val_df.text\n",
        "val_y = val_df.label\n",
        "\n",
        "len(train_x)\n"
      ],
      "metadata": {
        "colab": {
          "base_uri": "https://localhost:8080/"
        },
        "id": "3gWGRy7mDkJy",
        "outputId": "fdb9aa8c-eaaf-4fea-9a6c-e1db3f8d6706"
      },
      "execution_count": 5,
      "outputs": [
        {
          "output_type": "execute_result",
          "data": {
            "text/plain": [
              "3102"
            ]
          },
          "metadata": {},
          "execution_count": 5
        }
      ]
    },
    {
      "cell_type": "code",
      "source": [
        "#turn into np arrays \n",
        "train_y = np.array(train_y)\n",
        "val_y = np.array(val_y)\n",
        "test_y = np.array(test_y)"
      ],
      "metadata": {
        "id": "Eb9D-jNmScu7"
      },
      "execution_count": 6,
      "outputs": []
    },
    {
      "cell_type": "code",
      "source": [
        "def split_row(row):\n",
        "  \"\"\"\n",
        "  Function takes in a row and splits by \"\\n\"\n",
        "  \"\"\"\n",
        "  return row.split(\"\\n\")"
      ],
      "metadata": {
        "id": "Xex94GysrZ3D"
      },
      "execution_count": 7,
      "outputs": []
    },
    {
      "cell_type": "code",
      "source": [
        "def tokenize(row):\n",
        "  \"\"\"\n",
        "  splits by white space and punctuations\n",
        "  \"\"\"\n",
        "  return wordpunct_tokenize(row)"
      ],
      "metadata": {
        "id": "Zv0rAhQfs32u"
      },
      "execution_count": 8,
      "outputs": []
    },
    {
      "cell_type": "code",
      "source": [
        "def handle_money(row):\n",
        "  #puts $5.99 back from [\"$\",\"5\",\".\",\"99\"]\n",
        "  leng = len(row)\n",
        "  i = 0\n",
        "  while leng != 0 :\n",
        "    if row[i]=='$' and row[i+2].isnumeric():\n",
        "      row = row[:i+1] + row[(i+2):]\n",
        "      leng-=1\n",
        "\n",
        "    elif (row[i] == '.' and row[i+2].isnumeric() and row[i-2].isnumeric()):\n",
        "      row = row[0:i-1] + row[i:i+1] + row[i+2:]\n",
        "      leng-=2\n",
        "    i+=1\n",
        "    leng-=1\n",
        "\n",
        "  return row\n",
        "  "
      ],
      "metadata": {
        "id": "KaPdbzTDt8hX"
      },
      "execution_count": 9,
      "outputs": []
    },
    {
      "cell_type": "code",
      "source": [
        "def remove_punct(row):\n",
        "  \"\"\"\n",
        "  Goes through row and removes punctuation marks\n",
        "  \"\"\"\n",
        "\n",
        "  return [word for word in row if word.isalpha()] \n"
      ],
      "metadata": {
        "id": "KOW_iddhKZif"
      },
      "execution_count": 10,
      "outputs": []
    },
    {
      "cell_type": "code",
      "source": [
        "stemmer = nltk.stem.porter.PorterStemmer()\n",
        "def stem_words(row):\n",
        "  \"\"\"\n",
        "  Function that performs stemming \n",
        "  removes word ending crudely -ing \n",
        "  \"\"\"\n",
        "  \n",
        "  return [stemmer.stem(i) for i in row]\n"
      ],
      "metadata": {
        "id": "O_MfO-43K49-"
      },
      "execution_count": 11,
      "outputs": []
    },
    {
      "cell_type": "code",
      "source": [
        "lemmatizer = nltk.stem.wordnet.WordNetLemmatizer()\n",
        "def lemmatize(row):\n",
        "  \"\"\"\n",
        "  performs lemmatization \n",
        "  make a word a root \n",
        "  \"\"\"\n",
        " \n",
        "  return [lemmatizer.lemmatize(i) for i in row]"
      ],
      "metadata": {
        "id": "cFU9diFRLL8c"
      },
      "execution_count": 12,
      "outputs": []
    },
    {
      "cell_type": "code",
      "source": [
        "#checking if functions work:\n",
        "\n",
        "a = [\"getting\", \"google\", \"meeting\",\"rocks\"]\n",
        "print(a)\n",
        "print(f\"Stemming:{stem_words(a)}\")\n",
        "print(f\"Lemmatization:{lemmatize(a)}\")\n"
      ],
      "metadata": {
        "colab": {
          "base_uri": "https://localhost:8080/"
        },
        "id": "iYwj9I_yNOwW",
        "outputId": "402b935d-267d-4483-8434-19d85a544c3c"
      },
      "execution_count": 13,
      "outputs": [
        {
          "output_type": "stream",
          "name": "stdout",
          "text": [
            "['getting', 'google', 'meeting', 'rocks']\n",
            "Stemming:['get', 'googl', 'meet', 'rock']\n",
            "Lemmatization:['getting', 'google', 'meeting', 'rock']\n"
          ]
        }
      ]
    },
    {
      "cell_type": "code",
      "source": [
        "tokenizer = RegexpTokenizer('\\w+|\\$[\\d\\.]+|\\S+')\n",
        "\n",
        "def tokenize_with_money(row):\n",
        "  '''\n",
        "  splits by white space but doesnt split on money $\n",
        "  '''\n",
        "  return tokenizer.tokenize(row)\n"
      ],
      "metadata": {
        "id": "7XLgrj4Q_OeC"
      },
      "execution_count": 14,
      "outputs": []
    },
    {
      "cell_type": "code",
      "source": [
        "stop_words = nltk.corpus.stopwords.words('english')\n",
        "\n",
        "def remove_stop_words(row):\n",
        "  \"\"\"\n",
        "  Function that removes stop words -> really frequent words\n",
        "  \"\"\"\n",
        "  return [i for i in row if i not in stop_words]"
      ],
      "metadata": {
        "id": "ssoxShzqJZN5"
      },
      "execution_count": 15,
      "outputs": []
    },
    {
      "cell_type": "code",
      "source": [
        "def clean_x(data):\n",
        "  clean = []\n",
        "  for i in data:\n",
        "    text = tokenize_with_money(i)\n",
        "\n",
        "    text = remove_punct(text)\n",
        "\n",
        "    text = remove_stop_words(text)\n",
        "\n",
        "    text = stem_words(text)\n",
        "\n",
        "    text = lemmatize(text)\n",
        "\n",
        "    clean.append(text)\n",
        "  return clean \n",
        "\n"
      ],
      "metadata": {
        "id": "-rKPv2TWUHot"
      },
      "execution_count": 16,
      "outputs": []
    },
    {
      "cell_type": "code",
      "source": [
        "\n",
        "clean_train_x = clean_x(train_x)\n",
        "clean_val_x = clean_x(val_x)\n",
        "clean_test_x = clean_x(test_x)\n"
      ],
      "metadata": {
        "id": "4E018dbz4uui"
      },
      "execution_count": 17,
      "outputs": []
    },
    {
      "cell_type": "code",
      "source": [
        "print(\"Text before preprocessing: \\n\")\n",
        "print(train_x[0])\n",
        "print(\"----------------------------------------------------------------------------------------------------------------------------------------------------------------------\")\n",
        "print(\"Text after preprocessing: \\n\")\n",
        "print(clean_train_x[0])\n",
        "print(\"----------------------------------------------------------------------------------------------------------------------------------------------------------------------\")"
      ],
      "metadata": {
        "colab": {
          "base_uri": "https://localhost:8080/"
        },
        "id": "LOsXSKA3Mp_C",
        "outputId": "eecba01d-404a-46c7-9b7f-b1cec5018fbf"
      },
      "execution_count": 18,
      "outputs": [
        {
          "output_type": "stream",
          "name": "stdout",
          "text": [
            "Text before preprocessing: \n",
            "\n",
            "Subject: thank you\r\n",
            "ami and daren , , , ,\r\n",
            "just wanted again to say thanks ! ! ! , for the great time at st . pete ' s beach ,\r\n",
            "fla .\r\n",
            "the company , food , fishing and yes , of coarse\r\n",
            "the drink or many drinks were great ! ! ! daren , can relate to the drinks .\r\n",
            "i enjoyed meeting everyone there .\r\n",
            "we appreciate your business and look forward to continue our business relation\r\n",
            "with enron in the future .\r\n",
            "sincerely ,\r\n",
            "tim\n",
            "----------------------------------------------------------------------------------------------------------------------------------------------------------------------\n",
            "Text after preprocessing: \n",
            "\n",
            "['subject', 'thank', 'ami', 'daren', 'want', 'say', 'thank', 'great', 'time', 'st', 'pete', 'beach', 'fla', 'compani', 'food', 'fish', 'ye', 'coars', 'drink', 'mani', 'drink', 'great', 'daren', 'relat', 'drink', 'enjoy', 'meet', 'everyon', 'appreci', 'busi', 'look', 'forward', 'continu', 'busi', 'relat', 'enron', 'futur', 'sincer', 'tim']\n",
            "----------------------------------------------------------------------------------------------------------------------------------------------------------------------\n"
          ]
        }
      ]
    },
    {
      "cell_type": "code",
      "source": [
        "print(\"Text before preprocessing: \\n\")\n",
        "print(train_x[1])\n",
        "print(\"----------------------------------------------------------------------------------------------------------------------------------------------------------------------\")\n",
        "print(\"Text after preprocessing: \\n\")\n",
        "print(clean_train_x[2])\n",
        "print(\"----------------------------------------------------------------------------------------------------------------------------------------------------------------------\")"
      ],
      "metadata": {
        "id": "oKT6DEQkZsuw",
        "outputId": "9cfd7e70-62a5-4fe8-ad86-7de3597b02a4",
        "colab": {
          "base_uri": "https://localhost:8080/"
        }
      },
      "execution_count": 19,
      "outputs": [
        {
          "output_type": "stream",
          "name": "stdout",
          "text": [
            "Text before preprocessing: \n",
            "\n",
            "Subject: spot or firm tickets\r\n",
            "vance ,\r\n",
            "the following nominations do not have deal tickets in sitara for september ,\r\n",
            "2000 activity . please advise whether the deals will be spot or firm . daren\r\n",
            "wants everything in sitara by 3 pm on monday , august 28 . thanks .\r\n",
            "bob\r\n",
            "source meter # sept nom\r\n",
            "ccgm , lp 9840 1 , 000\r\n",
            "cross - tex 5467 250\r\n",
            "cummins & walker unk 500\r\n",
            "dallas production 6789 12 , 519\r\n",
            "duke energy trading 6347 206\r\n",
            "eex operating 5999 11 , 632\r\n",
            "eog resources 4157 76\r\n",
            "hesco gathering 9624 100\r\n",
            "hesco gathering 9835 700\r\n",
            "ph exploration 6838 94\r\n",
            "pioneer exploration 2698 1 , 000\r\n",
            "pure resources 9830 500\r\n",
            "rio vista 6442 609\r\n",
            "samson lonestar 9845 2 , 886\r\n",
            "swift energy 2630 322\r\n",
            "tema oil & gas 4688 1\r\n",
            "tri - union develop . 2697 700\r\n",
            "whiting petroleum 6523 100\n",
            "----------------------------------------------------------------------------------------------------------------------------------------------------------------------\n",
            "Text after preprocessing: \n",
            "\n",
            "['subject', 'softwar', 'microsoft', 'window', 'xp', 'professiozn', 'retail', 'price', 'low', 'prici', 'save', 'adob', 'photoshkop', 'retail', 'price', 'low', 'price', 'savu', 'microsoft', 'offic', 'xp', 'profession', 'retail', 'price', 'low', 'price', 'savx', 'adob', 'illustr', 'retaitl', 'price', 'low', 'price', 'savx', 'corel', 'draw', 'graphic', 'suit', 'rehtail', 'price', 'low', 'pricj', 'save', 'delphi', 'retaifl', 'price', 'low', 'price', 'save', 'cheap', 'softwar', 'oem', 'meaninag', 'get', 'box', 'manual', 'softwar', 'receivz', 'actual', 'softwar', 'uniqu', 'registr', 'code', 'softwaru', 'english', 'languag', 'pc', 'offer', 'unbeatablk', 'alway', 'updat', 'price', 'make', 'sure', 'provid', 'besft', 'possibl', 'offer', 'hurri', 'place', 'ordner', 'suppli', 'limit', 'visimt', 'u', 'http', 'cheap', 'drug', 'biz', 'oeol', 'affili', 'id', 'campaign', 'id', 'fwunrt', 'fmooetr', 'ltbi', 'nyqkgbphb', 'krgzgl', 'vbbmigb', 'zwftnqlp', 'oaohkv', 'icckmv', 'rmcetdf', 'wmlx', 'lidfxvrnk', 'tdrezc', 'hbmvxft', 'zjqdpnpd', 'ldloti', 'jbywub', 'ozaqgcf', 'czjj', 'yvcbkprnc', 'vbrekd', 'fizzjnz', 'kgfmkhmw', 'rkqumd', 'kgrnbt', 'ggejkmi', 'kyyj', 'jepyoyklp', 'wekjhw', 'pajrtqi', 'ybjlkvjj', 'gvnwte', 'ueqjbv', 'vkcrccd', 'uwut', 'uwdhtzrrf', 'mhbglw', 'jdhkydx', 'bvaeyvat', 'nvorcx', 'qvpwtx', 'yniuzlb', 'kkei', 'lziqyfqqu', 'mhlped', 'kuauryt', 'bthnutaz', 'clzkex', 'pvojiw', 'xaablvb', 'gnao', 'otxenpenr', 'qmdvju', 'qafbwcc', 'xdntfvhf', 'jxzhbn']\n",
            "----------------------------------------------------------------------------------------------------------------------------------------------------------------------\n"
          ]
        }
      ]
    },
    {
      "cell_type": "markdown",
      "source": [
        "# 2. Training a standard Naive Bayes model "
      ],
      "metadata": {
        "id": "62EkfrNSDDZi"
      }
    },
    {
      "cell_type": "code",
      "source": [
        "from sklearn.pipeline import Pipeline\n",
        "#creating a pipeline for each model \n",
        "\n",
        "pipeline1 = Pipeline([\n",
        "   ('bow',CountVectorizer()),\n",
        "    ('classifier',MultinomialNB()),\n",
        "])\n",
        "\n",
        "pipeline2 = Pipeline([\n",
        "   ('bow',CountVectorizer()),\n",
        "    ('classifier',MultinomialNB()),\n",
        "])\n",
        "\n",
        "pipeline3 = Pipeline([\n",
        "   ('bow',CountVectorizer()),\n",
        "    ('classifier',MultinomialNB()),\n",
        "])\n",
        "\n",
        "pipeline4 = Pipeline([\n",
        "   ('bow',CountVectorizer()),\n",
        "    ('classifier',MultinomialNB()),\n",
        "])\n",
        "\n",
        "pipeline4 = Pipeline([\n",
        "   ('bow',CountVectorizer()),\n",
        "    ('classifier',MultinomialNB()),\n",
        "])\n",
        "\n",
        "pipeline5 = Pipeline([\n",
        "   ('bow',CountVectorizer()),\n",
        "    ('classifier',MultinomialNB()),\n",
        "])"
      ],
      "metadata": {
        "id": "uP9FKeI5cmUV"
      },
      "execution_count": 22,
      "outputs": []
    },
    {
      "cell_type": "code",
      "source": [
        "# #scale data ?\n",
        "\n",
        "# from sklearn.preprocessing import StandardScaler\n",
        "\n",
        "# sc = StandardScaler()\n",
        "\n",
        "# x_train is after count_vector.fit \n",
        "# x_train = sc.fit_transform(x_train)\n",
        "# x_test = sc.transform(x_test)\n",
        "\n",
        "#LAPLACE SMOOTHING "
      ],
      "metadata": {
        "id": "fKTthfXA3Y5U"
      },
      "execution_count": 21,
      "outputs": []
    },
    {
      "cell_type": "code",
      "source": [
        "clean_train_x_join = [\" \".join(i) for i in clean_train_x] #turn to string for count_vector \n",
        "Model1 = pipeline1.fit(clean_train_x_join,train_y)\n",
        "\n"
      ],
      "metadata": {
        "id": "bVVD5uQxDC4g"
      },
      "execution_count": 23,
      "outputs": []
    },
    {
      "cell_type": "markdown",
      "source": [
        "## 3a. Naive Bayes model using 10 most frequent words as features "
      ],
      "metadata": {
        "id": "xNL_HvDLDTr-"
      }
    },
    {
      "cell_type": "markdown",
      "source": [
        "We will use the Counter function to find the 10 most frequent words. In order to do this we first need to need an array that will contains all the words found in our training data (after cleaning). We will however not include the word \"subject\" found in the subject line as to not bias the word \"subject\" that may be found in the email body. "
      ],
      "metadata": {
        "id": "Zdp0r71KsQlj"
      }
    },
    {
      "cell_type": "code",
      "source": [
        "#creating one big array from clean_train_x\n",
        "all_clean_x = []\n",
        "for arr in clean_train_x:\n",
        "  for i in range(1,len(arr)): #doesnt include \"subject\" from subject line\n",
        "      all_clean_x.append(arr[i])"
      ],
      "metadata": {
        "id": "hxZLAIZ6gnNK"
      },
      "execution_count": 24,
      "outputs": []
    },
    {
      "cell_type": "code",
      "source": [
        "print(all_clean_x[0:50]) #doesnt inlcude subject"
      ],
      "metadata": {
        "colab": {
          "base_uri": "https://localhost:8080/"
        },
        "id": "x-JCtt61Xvcj",
        "outputId": "9f4ee162-9bd1-4142-809b-739e9c19a06d"
      },
      "execution_count": 25,
      "outputs": [
        {
          "output_type": "stream",
          "name": "stdout",
          "text": [
            "['thank', 'ami', 'daren', 'want', 'say', 'thank', 'great', 'time', 'st', 'pete', 'beach', 'fla', 'compani', 'food', 'fish', 'ye', 'coars', 'drink', 'mani', 'drink', 'great', 'daren', 'relat', 'drink', 'enjoy', 'meet', 'everyon', 'appreci', 'busi', 'look', 'forward', 'continu', 'busi', 'relat', 'enron', 'futur', 'sincer', 'tim', 'spot', 'firm', 'ticket', 'vanc', 'follow', 'nomin', 'deal', 'ticket', 'sitara', 'septemb', 'activ', 'plea']\n"
          ]
        }
      ]
    },
    {
      "cell_type": "code",
      "source": [
        "#get top 10 features using Counter \n",
        "Counter = Counter(all_clean_x)\n",
        "\n",
        "top10 = Counter.most_common(10)\n",
        "\n",
        "print(\"The top 10 features are:\")\n",
        "print(top10)\n",
        "  \n",
        "# print(most_occur)"
      ],
      "metadata": {
        "colab": {
          "base_uri": "https://localhost:8080/"
        },
        "id": "2sWD-0XnDNYf",
        "outputId": "d3a80718-9f03-4c4a-a1b4-9a8e505bd8f3"
      },
      "execution_count": 26,
      "outputs": [
        {
          "output_type": "stream",
          "name": "stdout",
          "text": [
            "The top 10 features are:\n",
            "[('ect', 8343), ('hou', 4376), ('enron', 3908), ('com', 2452), ('deal', 2200), ('plea', 1892), ('ga', 1794), ('subject', 1674), ('meter', 1569), ('hpl', 1404)]\n"
          ]
        }
      ]
    },
    {
      "cell_type": "code",
      "source": [
        "#extracting words from \"top10\" given by Counter.most_common\n",
        "top_10_dictionary=[]\n",
        "for i in top10:\n",
        "  top_10_dictionary.append(i[0])\n",
        "print(top_10_dictionary)\n"
      ],
      "metadata": {
        "colab": {
          "base_uri": "https://localhost:8080/"
        },
        "id": "eiWrM3WJB2nQ",
        "outputId": "ec3b6328-0918-411d-a143-e6f5e893ee24"
      },
      "execution_count": 27,
      "outputs": [
        {
          "output_type": "stream",
          "name": "stdout",
          "text": [
            "['ect', 'hou', 'enron', 'com', 'deal', 'plea', 'ga', 'subject', 'meter', 'hpl']\n"
          ]
        }
      ]
    },
    {
      "cell_type": "markdown",
      "source": [
        "Since the features of a Naive bayes model is the vocabulary, we will remove words in the training data that are not the 10 most frequent words and fit the MultinomialNB using that corpus. \n"
      ],
      "metadata": {
        "id": "k7kYrbNZtCXx"
      }
    },
    {
      "cell_type": "code",
      "source": [
        "top10_train_x = []\n",
        "# top10_train_x[0]\n",
        "for arr in clean_train_x:\n",
        "  new_arr = []\n",
        "  for word in arr:\n",
        "    if word in top_10_dictionary:\n",
        "      new_arr.append(word)\n",
        "  top10_train_x.append(new_arr)\n",
        "\n",
        "\n"
      ],
      "metadata": {
        "id": "jj0MR4fmSk-v"
      },
      "execution_count": 28,
      "outputs": []
    },
    {
      "cell_type": "code",
      "source": [
        "try:\n",
        "  len(clean_train_x) == len(top10_train_x)\n",
        "except:\n",
        "  print(\"lengths do not match \")"
      ],
      "metadata": {
        "id": "XYrL4diOcUl4"
      },
      "execution_count": 29,
      "outputs": []
    },
    {
      "cell_type": "code",
      "source": [
        "print(\"First element clean:\")\n",
        "print(clean_train_x[0])\n",
        "print(\"First element with top 10 features:\")\n",
        "print(top10_train_x[0])\n",
        "print(\"--------------------------------------------------------------------\")\n",
        "print(\"Second element clean:\")\n",
        "print(clean_train_x[1])\n",
        "print(\"Second element with top 10 features:\")\n",
        "print(top10_train_x[1])\n",
        "print(\"--------------------------------------------------------------------\")\n",
        "print(\"Third element clean:\")\n",
        "print(clean_train_x[2])\n",
        "print(\"Third element with top 10 features:\")\n",
        "print(top10_train_x[2])"
      ],
      "metadata": {
        "colab": {
          "base_uri": "https://localhost:8080/"
        },
        "id": "3f9390miWm1F",
        "outputId": "91f985fe-656d-4c3d-8a51-a0ff0f51f08b"
      },
      "execution_count": 30,
      "outputs": [
        {
          "output_type": "stream",
          "name": "stdout",
          "text": [
            "First element clean:\n",
            "['subject', 'thank', 'ami', 'daren', 'want', 'say', 'thank', 'great', 'time', 'st', 'pete', 'beach', 'fla', 'compani', 'food', 'fish', 'ye', 'coars', 'drink', 'mani', 'drink', 'great', 'daren', 'relat', 'drink', 'enjoy', 'meet', 'everyon', 'appreci', 'busi', 'look', 'forward', 'continu', 'busi', 'relat', 'enron', 'futur', 'sincer', 'tim']\n",
            "First element with top 10 features:\n",
            "['subject', 'enron']\n",
            "--------------------------------------------------------------------\n",
            "Second element clean:\n",
            "['subject', 'spot', 'firm', 'ticket', 'vanc', 'follow', 'nomin', 'deal', 'ticket', 'sitara', 'septemb', 'activ', 'plea', 'advis', 'whether', 'deal', 'spot', 'firm', 'daren', 'want', 'everyth', 'sitara', 'pm', 'monday', 'august', 'thank', 'bob', 'sourc', 'meter', 'sept', 'nom', 'ccgm', 'lp', 'cross', 'tex', 'cummin', 'walker', 'unk', 'dalla', 'product', 'duke', 'energi', 'trade', 'eex', 'oper', 'eog', 'resourc', 'hesco', 'gather', 'hesco', 'gather', 'ph', 'explor', 'pioneer', 'explor', 'pure', 'resourc', 'rio', 'vista', 'samson', 'lonestar', 'swift', 'energi', 'tema', 'oil', 'ga', 'tri', 'union', 'develop', 'white', 'petroleum']\n",
            "Second element with top 10 features:\n",
            "['subject', 'deal', 'plea', 'deal', 'meter', 'ga']\n",
            "--------------------------------------------------------------------\n",
            "Third element clean:\n",
            "['subject', 'softwar', 'microsoft', 'window', 'xp', 'professiozn', 'retail', 'price', 'low', 'prici', 'save', 'adob', 'photoshkop', 'retail', 'price', 'low', 'price', 'savu', 'microsoft', 'offic', 'xp', 'profession', 'retail', 'price', 'low', 'price', 'savx', 'adob', 'illustr', 'retaitl', 'price', 'low', 'price', 'savx', 'corel', 'draw', 'graphic', 'suit', 'rehtail', 'price', 'low', 'pricj', 'save', 'delphi', 'retaifl', 'price', 'low', 'price', 'save', 'cheap', 'softwar', 'oem', 'meaninag', 'get', 'box', 'manual', 'softwar', 'receivz', 'actual', 'softwar', 'uniqu', 'registr', 'code', 'softwaru', 'english', 'languag', 'pc', 'offer', 'unbeatablk', 'alway', 'updat', 'price', 'make', 'sure', 'provid', 'besft', 'possibl', 'offer', 'hurri', 'place', 'ordner', 'suppli', 'limit', 'visimt', 'u', 'http', 'cheap', 'drug', 'biz', 'oeol', 'affili', 'id', 'campaign', 'id', 'fwunrt', 'fmooetr', 'ltbi', 'nyqkgbphb', 'krgzgl', 'vbbmigb', 'zwftnqlp', 'oaohkv', 'icckmv', 'rmcetdf', 'wmlx', 'lidfxvrnk', 'tdrezc', 'hbmvxft', 'zjqdpnpd', 'ldloti', 'jbywub', 'ozaqgcf', 'czjj', 'yvcbkprnc', 'vbrekd', 'fizzjnz', 'kgfmkhmw', 'rkqumd', 'kgrnbt', 'ggejkmi', 'kyyj', 'jepyoyklp', 'wekjhw', 'pajrtqi', 'ybjlkvjj', 'gvnwte', 'ueqjbv', 'vkcrccd', 'uwut', 'uwdhtzrrf', 'mhbglw', 'jdhkydx', 'bvaeyvat', 'nvorcx', 'qvpwtx', 'yniuzlb', 'kkei', 'lziqyfqqu', 'mhlped', 'kuauryt', 'bthnutaz', 'clzkex', 'pvojiw', 'xaablvb', 'gnao', 'otxenpenr', 'qmdvju', 'qafbwcc', 'xdntfvhf', 'jxzhbn']\n",
            "Third element with top 10 features:\n",
            "['subject']\n"
          ]
        }
      ]
    },
    {
      "cell_type": "code",
      "source": [
        "top10_train_x_join = [\" \".join(i) for i in top10_train_x] #turn to string for count_vector \n",
        "Model2 = pipeline2.fit(top10_train_x_join,train_y) #fit "
      ],
      "metadata": {
        "id": "S7Gt1qBPdd4x"
      },
      "execution_count": 32,
      "outputs": []
    },
    {
      "cell_type": "markdown",
      "source": [
        "## 3b. Naive Bayes model using 100 most frequent words as features "
      ],
      "metadata": {
        "id": "GFQBM0mvDVXF"
      }
    },
    {
      "cell_type": "code",
      "source": [
        "\n",
        "\n",
        "# Counter = Counter(all_clean_x)\n",
        "\n",
        "top100 = Counter.most_common(100)\n",
        "\n",
        "print(\"The top 100 features are:\")\n",
        "print(top100)\n",
        "\n",
        "top_100_dictionary=[]\n",
        "for i in top100:\n",
        "  top_100_dictionary.append(i[0])\n",
        "print(top_100_dictionary)"
      ],
      "metadata": {
        "id": "JQadP6m3DW8Q",
        "colab": {
          "base_uri": "https://localhost:8080/"
        },
        "outputId": "f4872ab8-a3a9-4078-bb47-757828b4de42"
      },
      "execution_count": 33,
      "outputs": [
        {
          "output_type": "stream",
          "name": "stdout",
          "text": [
            "The top 100 features are:\n",
            "[('ect', 8343), ('hou', 4376), ('enron', 3908), ('com', 2452), ('deal', 2200), ('plea', 1892), ('ga', 1794), ('subject', 1674), ('meter', 1569), ('hpl', 1404), ('cc', 1392), ('thank', 1348), ('pm', 1331), ('need', 1249), ('e', 1203), ('daren', 1120), ('forward', 1091), ('price', 1089), ('volum', 1040), ('corp', 1030), ('know', 976), ('day', 950), ('new', 898), ('get', 892), ('compani', 873), ('j', 813), ('may', 806), ('mmbtu', 802), ('product', 800), ('chang', 788), ('see', 771), ('u', 766), ('l', 763), ('http', 756), ('contract', 751), ('inform', 737), ('attach', 713), ('let', 692), ('nom', 676), ('time', 673), ('farmer', 665), ('xl', 658), ('month', 653), ('would', 641), ('sale', 639), ('nomin', 632), ('messag', 618), ('mail', 607), ('one', 603), ('th', 594), ('call', 578), ('flow', 572), ('juli', 571), ('follow', 563), ('use', 561), ('robert', 556), ('question', 551), ('email', 517), ('ticket', 516), ('file', 515), ('net', 515), ('p', 512), ('report', 503), ('want', 500), ('look', 499), ('sitara', 490), ('manag', 489), ('work', 486), ('texa', 481), ('servic', 479), ('list', 476), ('ena', 475), ('energi', 466), ('number', 455), ('also', 453), ('sent', 449), ('purchas', 443), ('www', 438), ('like', 438), ('go', 434), ('busi', 433), ('market', 423), ('x', 413), ('actual', 405), ('pec', 404), ('origin', 400), ('b', 399), ('make', 398), ('contact', 397), ('receiv', 391), ('system', 390), ('bob', 387), ('c', 384), ('order', 378), ('take', 368), ('back', 367), ('help', 363), ('schedul', 362), ('font', 362), ('effect', 359)]\n",
            "['ect', 'hou', 'enron', 'com', 'deal', 'plea', 'ga', 'subject', 'meter', 'hpl', 'cc', 'thank', 'pm', 'need', 'e', 'daren', 'forward', 'price', 'volum', 'corp', 'know', 'day', 'new', 'get', 'compani', 'j', 'may', 'mmbtu', 'product', 'chang', 'see', 'u', 'l', 'http', 'contract', 'inform', 'attach', 'let', 'nom', 'time', 'farmer', 'xl', 'month', 'would', 'sale', 'nomin', 'messag', 'mail', 'one', 'th', 'call', 'flow', 'juli', 'follow', 'use', 'robert', 'question', 'email', 'ticket', 'file', 'net', 'p', 'report', 'want', 'look', 'sitara', 'manag', 'work', 'texa', 'servic', 'list', 'ena', 'energi', 'number', 'also', 'sent', 'purchas', 'www', 'like', 'go', 'busi', 'market', 'x', 'actual', 'pec', 'origin', 'b', 'make', 'contact', 'receiv', 'system', 'bob', 'c', 'order', 'take', 'back', 'help', 'schedul', 'font', 'effect']\n"
          ]
        }
      ]
    },
    {
      "cell_type": "code",
      "source": [
        "top100_train_x = []\n",
        "# top10_train_x[0]\n",
        "for arr in clean_train_x:\n",
        "  new_arr = []\n",
        "  for word in arr:\n",
        "    if word in top_100_dictionary:\n",
        "      new_arr.append(word)\n",
        "  top100_train_x.append(new_arr)"
      ],
      "metadata": {
        "id": "tPIOwfT_iZhj"
      },
      "execution_count": 34,
      "outputs": []
    },
    {
      "cell_type": "code",
      "source": [
        "try:\n",
        "  len(clean_train_x) == len(top100_train_x)\n",
        "except:\n",
        "  print(\"lengths do not match \")"
      ],
      "metadata": {
        "id": "GTnRL9WNimVp"
      },
      "execution_count": 35,
      "outputs": []
    },
    {
      "cell_type": "code",
      "source": [
        "print(\"First element clean:\")\n",
        "print(clean_train_x[0])\n",
        "print(\"First element with top 100 features:\")\n",
        "print(top100_train_x[0])\n",
        "print(\"--------------------------------------------------------------------\")\n",
        "print(\"Second element clean:\")\n",
        "print(clean_train_x[1])\n",
        "print(\"Second element with top 100 features:\")\n",
        "print(top100_train_x[1])\n",
        "print(\"--------------------------------------------------------------------\")\n",
        "print(\"Third element clean:\")\n",
        "print(clean_train_x[2])\n",
        "print(\"Third element with top 100 features:\")\n",
        "print(top100_train_x[2])"
      ],
      "metadata": {
        "colab": {
          "base_uri": "https://localhost:8080/"
        },
        "id": "EvhhKuZpiqJo",
        "outputId": "0d29a254-2383-4ec8-8c46-b2322a8aa506"
      },
      "execution_count": 36,
      "outputs": [
        {
          "output_type": "stream",
          "name": "stdout",
          "text": [
            "First element clean:\n",
            "['subject', 'thank', 'ami', 'daren', 'want', 'say', 'thank', 'great', 'time', 'st', 'pete', 'beach', 'fla', 'compani', 'food', 'fish', 'ye', 'coars', 'drink', 'mani', 'drink', 'great', 'daren', 'relat', 'drink', 'enjoy', 'meet', 'everyon', 'appreci', 'busi', 'look', 'forward', 'continu', 'busi', 'relat', 'enron', 'futur', 'sincer', 'tim']\n",
            "First element with top 100 features:\n",
            "['subject', 'thank', 'daren', 'want', 'thank', 'time', 'compani', 'daren', 'busi', 'look', 'forward', 'busi', 'enron']\n",
            "--------------------------------------------------------------------\n",
            "Second element clean:\n",
            "['subject', 'spot', 'firm', 'ticket', 'vanc', 'follow', 'nomin', 'deal', 'ticket', 'sitara', 'septemb', 'activ', 'plea', 'advis', 'whether', 'deal', 'spot', 'firm', 'daren', 'want', 'everyth', 'sitara', 'pm', 'monday', 'august', 'thank', 'bob', 'sourc', 'meter', 'sept', 'nom', 'ccgm', 'lp', 'cross', 'tex', 'cummin', 'walker', 'unk', 'dalla', 'product', 'duke', 'energi', 'trade', 'eex', 'oper', 'eog', 'resourc', 'hesco', 'gather', 'hesco', 'gather', 'ph', 'explor', 'pioneer', 'explor', 'pure', 'resourc', 'rio', 'vista', 'samson', 'lonestar', 'swift', 'energi', 'tema', 'oil', 'ga', 'tri', 'union', 'develop', 'white', 'petroleum']\n",
            "Second element with top 100 features:\n",
            "['subject', 'ticket', 'follow', 'nomin', 'deal', 'ticket', 'sitara', 'plea', 'deal', 'daren', 'want', 'sitara', 'pm', 'thank', 'bob', 'meter', 'nom', 'product', 'energi', 'energi', 'ga']\n",
            "--------------------------------------------------------------------\n",
            "Third element clean:\n",
            "['subject', 'softwar', 'microsoft', 'window', 'xp', 'professiozn', 'retail', 'price', 'low', 'prici', 'save', 'adob', 'photoshkop', 'retail', 'price', 'low', 'price', 'savu', 'microsoft', 'offic', 'xp', 'profession', 'retail', 'price', 'low', 'price', 'savx', 'adob', 'illustr', 'retaitl', 'price', 'low', 'price', 'savx', 'corel', 'draw', 'graphic', 'suit', 'rehtail', 'price', 'low', 'pricj', 'save', 'delphi', 'retaifl', 'price', 'low', 'price', 'save', 'cheap', 'softwar', 'oem', 'meaninag', 'get', 'box', 'manual', 'softwar', 'receivz', 'actual', 'softwar', 'uniqu', 'registr', 'code', 'softwaru', 'english', 'languag', 'pc', 'offer', 'unbeatablk', 'alway', 'updat', 'price', 'make', 'sure', 'provid', 'besft', 'possibl', 'offer', 'hurri', 'place', 'ordner', 'suppli', 'limit', 'visimt', 'u', 'http', 'cheap', 'drug', 'biz', 'oeol', 'affili', 'id', 'campaign', 'id', 'fwunrt', 'fmooetr', 'ltbi', 'nyqkgbphb', 'krgzgl', 'vbbmigb', 'zwftnqlp', 'oaohkv', 'icckmv', 'rmcetdf', 'wmlx', 'lidfxvrnk', 'tdrezc', 'hbmvxft', 'zjqdpnpd', 'ldloti', 'jbywub', 'ozaqgcf', 'czjj', 'yvcbkprnc', 'vbrekd', 'fizzjnz', 'kgfmkhmw', 'rkqumd', 'kgrnbt', 'ggejkmi', 'kyyj', 'jepyoyklp', 'wekjhw', 'pajrtqi', 'ybjlkvjj', 'gvnwte', 'ueqjbv', 'vkcrccd', 'uwut', 'uwdhtzrrf', 'mhbglw', 'jdhkydx', 'bvaeyvat', 'nvorcx', 'qvpwtx', 'yniuzlb', 'kkei', 'lziqyfqqu', 'mhlped', 'kuauryt', 'bthnutaz', 'clzkex', 'pvojiw', 'xaablvb', 'gnao', 'otxenpenr', 'qmdvju', 'qafbwcc', 'xdntfvhf', 'jxzhbn']\n",
            "Third element with top 100 features:\n",
            "['subject', 'price', 'price', 'price', 'price', 'price', 'price', 'price', 'price', 'price', 'price', 'get', 'actual', 'price', 'make', 'u', 'http']\n"
          ]
        }
      ]
    },
    {
      "cell_type": "code",
      "source": [
        "top100_train_x_join = [\" \".join(i) for i in top100_train_x] #turn to string for count_vector \n",
        "Model3 = pipeline3.fit(top100_train_x_join,train_y) #fit"
      ],
      "metadata": {
        "id": "X4SkfgW8dnEW"
      },
      "execution_count": 38,
      "outputs": []
    },
    {
      "cell_type": "markdown",
      "source": [
        "## 3c. Naive Bayes model removing 100 most frequent words from features "
      ],
      "metadata": {
        "id": "8OYkzmeADXSf"
      }
    },
    {
      "cell_type": "code",
      "source": [
        "not_top100_train_x = []\n",
        "\n",
        "for arr in clean_train_x:\n",
        "  new_arr = []\n",
        "  for word in arr:\n",
        "    if word not in top_100_dictionary:\n",
        "      new_arr.append(word)\n",
        "  not_top100_train_x.append(new_arr)"
      ],
      "metadata": {
        "id": "c4OlKHzbDfXa"
      },
      "execution_count": 39,
      "outputs": []
    },
    {
      "cell_type": "code",
      "source": [
        "try:\n",
        "  len(clean_train_x) == len(not_top100_train_x)\n",
        "except:\n",
        "  print(\"lengths do not match \")\n",
        "\n",
        "print(\"First element clean:\")\n",
        "print(clean_train_x[0])\n",
        "print(\"First element with top 100 features removed:\")\n",
        "print(not_top100_train_x[0])\n",
        "print(\"--------------------------------------------------------------------\")\n",
        "print(\"Second element clean:\")\n",
        "print(clean_train_x[1])\n",
        "print(\"Second element with top 100 features removed:\")\n",
        "print(not_top100_train_x[1])\n",
        "print(\"--------------------------------------------------------------------\")\n",
        "print(\"Third element clean:\")\n",
        "print(clean_train_x[2])\n",
        "print(\"Third element with top 100 features removed:\")\n",
        "print(not_top100_train_x[2])"
      ],
      "metadata": {
        "id": "L4QQwn_3Gy1h",
        "outputId": "4d165efc-b020-438e-a678-8c2401d4e68e",
        "colab": {
          "base_uri": "https://localhost:8080/"
        }
      },
      "execution_count": 40,
      "outputs": [
        {
          "output_type": "stream",
          "name": "stdout",
          "text": [
            "First element clean:\n",
            "['subject', 'thank', 'ami', 'daren', 'want', 'say', 'thank', 'great', 'time', 'st', 'pete', 'beach', 'fla', 'compani', 'food', 'fish', 'ye', 'coars', 'drink', 'mani', 'drink', 'great', 'daren', 'relat', 'drink', 'enjoy', 'meet', 'everyon', 'appreci', 'busi', 'look', 'forward', 'continu', 'busi', 'relat', 'enron', 'futur', 'sincer', 'tim']\n",
            "First element with top 100 features removed:\n",
            "['ami', 'say', 'great', 'st', 'pete', 'beach', 'fla', 'food', 'fish', 'ye', 'coars', 'drink', 'mani', 'drink', 'great', 'relat', 'drink', 'enjoy', 'meet', 'everyon', 'appreci', 'continu', 'relat', 'futur', 'sincer', 'tim']\n",
            "--------------------------------------------------------------------\n",
            "Second element clean:\n",
            "['subject', 'spot', 'firm', 'ticket', 'vanc', 'follow', 'nomin', 'deal', 'ticket', 'sitara', 'septemb', 'activ', 'plea', 'advis', 'whether', 'deal', 'spot', 'firm', 'daren', 'want', 'everyth', 'sitara', 'pm', 'monday', 'august', 'thank', 'bob', 'sourc', 'meter', 'sept', 'nom', 'ccgm', 'lp', 'cross', 'tex', 'cummin', 'walker', 'unk', 'dalla', 'product', 'duke', 'energi', 'trade', 'eex', 'oper', 'eog', 'resourc', 'hesco', 'gather', 'hesco', 'gather', 'ph', 'explor', 'pioneer', 'explor', 'pure', 'resourc', 'rio', 'vista', 'samson', 'lonestar', 'swift', 'energi', 'tema', 'oil', 'ga', 'tri', 'union', 'develop', 'white', 'petroleum']\n",
            "Second element with top 100 features removed:\n",
            "['spot', 'firm', 'vanc', 'septemb', 'activ', 'advis', 'whether', 'spot', 'firm', 'everyth', 'monday', 'august', 'sourc', 'sept', 'ccgm', 'lp', 'cross', 'tex', 'cummin', 'walker', 'unk', 'dalla', 'duke', 'trade', 'eex', 'oper', 'eog', 'resourc', 'hesco', 'gather', 'hesco', 'gather', 'ph', 'explor', 'pioneer', 'explor', 'pure', 'resourc', 'rio', 'vista', 'samson', 'lonestar', 'swift', 'tema', 'oil', 'tri', 'union', 'develop', 'white', 'petroleum']\n",
            "--------------------------------------------------------------------\n",
            "Third element clean:\n",
            "['subject', 'softwar', 'microsoft', 'window', 'xp', 'professiozn', 'retail', 'price', 'low', 'prici', 'save', 'adob', 'photoshkop', 'retail', 'price', 'low', 'price', 'savu', 'microsoft', 'offic', 'xp', 'profession', 'retail', 'price', 'low', 'price', 'savx', 'adob', 'illustr', 'retaitl', 'price', 'low', 'price', 'savx', 'corel', 'draw', 'graphic', 'suit', 'rehtail', 'price', 'low', 'pricj', 'save', 'delphi', 'retaifl', 'price', 'low', 'price', 'save', 'cheap', 'softwar', 'oem', 'meaninag', 'get', 'box', 'manual', 'softwar', 'receivz', 'actual', 'softwar', 'uniqu', 'registr', 'code', 'softwaru', 'english', 'languag', 'pc', 'offer', 'unbeatablk', 'alway', 'updat', 'price', 'make', 'sure', 'provid', 'besft', 'possibl', 'offer', 'hurri', 'place', 'ordner', 'suppli', 'limit', 'visimt', 'u', 'http', 'cheap', 'drug', 'biz', 'oeol', 'affili', 'id', 'campaign', 'id', 'fwunrt', 'fmooetr', 'ltbi', 'nyqkgbphb', 'krgzgl', 'vbbmigb', 'zwftnqlp', 'oaohkv', 'icckmv', 'rmcetdf', 'wmlx', 'lidfxvrnk', 'tdrezc', 'hbmvxft', 'zjqdpnpd', 'ldloti', 'jbywub', 'ozaqgcf', 'czjj', 'yvcbkprnc', 'vbrekd', 'fizzjnz', 'kgfmkhmw', 'rkqumd', 'kgrnbt', 'ggejkmi', 'kyyj', 'jepyoyklp', 'wekjhw', 'pajrtqi', 'ybjlkvjj', 'gvnwte', 'ueqjbv', 'vkcrccd', 'uwut', 'uwdhtzrrf', 'mhbglw', 'jdhkydx', 'bvaeyvat', 'nvorcx', 'qvpwtx', 'yniuzlb', 'kkei', 'lziqyfqqu', 'mhlped', 'kuauryt', 'bthnutaz', 'clzkex', 'pvojiw', 'xaablvb', 'gnao', 'otxenpenr', 'qmdvju', 'qafbwcc', 'xdntfvhf', 'jxzhbn']\n",
            "Third element with top 100 features removed:\n",
            "['softwar', 'microsoft', 'window', 'xp', 'professiozn', 'retail', 'low', 'prici', 'save', 'adob', 'photoshkop', 'retail', 'low', 'savu', 'microsoft', 'offic', 'xp', 'profession', 'retail', 'low', 'savx', 'adob', 'illustr', 'retaitl', 'low', 'savx', 'corel', 'draw', 'graphic', 'suit', 'rehtail', 'low', 'pricj', 'save', 'delphi', 'retaifl', 'low', 'save', 'cheap', 'softwar', 'oem', 'meaninag', 'box', 'manual', 'softwar', 'receivz', 'softwar', 'uniqu', 'registr', 'code', 'softwaru', 'english', 'languag', 'pc', 'offer', 'unbeatablk', 'alway', 'updat', 'sure', 'provid', 'besft', 'possibl', 'offer', 'hurri', 'place', 'ordner', 'suppli', 'limit', 'visimt', 'cheap', 'drug', 'biz', 'oeol', 'affili', 'id', 'campaign', 'id', 'fwunrt', 'fmooetr', 'ltbi', 'nyqkgbphb', 'krgzgl', 'vbbmigb', 'zwftnqlp', 'oaohkv', 'icckmv', 'rmcetdf', 'wmlx', 'lidfxvrnk', 'tdrezc', 'hbmvxft', 'zjqdpnpd', 'ldloti', 'jbywub', 'ozaqgcf', 'czjj', 'yvcbkprnc', 'vbrekd', 'fizzjnz', 'kgfmkhmw', 'rkqumd', 'kgrnbt', 'ggejkmi', 'kyyj', 'jepyoyklp', 'wekjhw', 'pajrtqi', 'ybjlkvjj', 'gvnwte', 'ueqjbv', 'vkcrccd', 'uwut', 'uwdhtzrrf', 'mhbglw', 'jdhkydx', 'bvaeyvat', 'nvorcx', 'qvpwtx', 'yniuzlb', 'kkei', 'lziqyfqqu', 'mhlped', 'kuauryt', 'bthnutaz', 'clzkex', 'pvojiw', 'xaablvb', 'gnao', 'otxenpenr', 'qmdvju', 'qafbwcc', 'xdntfvhf', 'jxzhbn']\n"
          ]
        }
      ]
    },
    {
      "cell_type": "code",
      "source": [
        "not_top100_train_x_join = [\" \".join(i) for i in not_top100_train_x] #turn to string for count_vector \n",
        "Model4 = pipeline4.fit(not_top100_train_x_join,train_y) #fit "
      ],
      "metadata": {
        "id": "_lLT04uZdtev"
      },
      "execution_count": 42,
      "outputs": []
    },
    {
      "cell_type": "markdown",
      "source": [
        "## 3d. Naive Bayes model using subject line as the feature set"
      ],
      "metadata": {
        "id": "55ba6XwwDjuW"
      }
    },
    {
      "cell_type": "markdown",
      "source": [
        "The subject line ends after \"\\r\\n\" thus we will split the subject from the body of the email using this. Since \"Subject: \" is found in every subject line, we will remove it and replace it with \"\" "
      ],
      "metadata": {
        "id": "s_lYUli0t07a"
      }
    },
    {
      "cell_type": "code",
      "source": [
        "def get_subject(data):\n",
        "  '''\n",
        "  extracts subject line from each email \n",
        "  '''\n",
        "  subject = data[0:data.find('\\r\\n')]\n",
        "  return subject.replace(\"Subject: \",\"\")"
      ],
      "metadata": {
        "id": "JdxHFumnL9nk"
      },
      "execution_count": 43,
      "outputs": []
    },
    {
      "cell_type": "code",
      "source": [
        "train_df.head()"
      ],
      "metadata": {
        "id": "aAep9kIeDnLb",
        "colab": {
          "base_uri": "https://localhost:8080/",
          "height": 206
        },
        "outputId": "3ef0139f-0577-43eb-c40f-96c743433f0c"
      },
      "execution_count": 44,
      "outputs": [
        {
          "output_type": "execute_result",
          "data": {
            "text/plain": [
              "                                                text  label\n",
              "0  Subject: thank you\\r\\nami and daren , , , ,\\r\\...      0\n",
              "1  Subject: spot or firm tickets\\r\\nvance ,\\r\\nth...      0\n",
              "2  Subject: software\\r\\nmicrosoft windows xp prof...      1\n",
              "3  Subject: noms / actual flow for 2 / 27\\r\\nwe a...      0\n",
              "4  Subject: superb so . ftware\\r\\nyoull discover ...      1"
            ],
            "text/html": [
              "\n",
              "  <div id=\"df-16e2633a-1bf5-4c0c-8106-011663c64fb1\">\n",
              "    <div class=\"colab-df-container\">\n",
              "      <div>\n",
              "<style scoped>\n",
              "    .dataframe tbody tr th:only-of-type {\n",
              "        vertical-align: middle;\n",
              "    }\n",
              "\n",
              "    .dataframe tbody tr th {\n",
              "        vertical-align: top;\n",
              "    }\n",
              "\n",
              "    .dataframe thead th {\n",
              "        text-align: right;\n",
              "    }\n",
              "</style>\n",
              "<table border=\"1\" class=\"dataframe\">\n",
              "  <thead>\n",
              "    <tr style=\"text-align: right;\">\n",
              "      <th></th>\n",
              "      <th>text</th>\n",
              "      <th>label</th>\n",
              "    </tr>\n",
              "  </thead>\n",
              "  <tbody>\n",
              "    <tr>\n",
              "      <th>0</th>\n",
              "      <td>Subject: thank you\\r\\nami and daren , , , ,\\r\\...</td>\n",
              "      <td>0</td>\n",
              "    </tr>\n",
              "    <tr>\n",
              "      <th>1</th>\n",
              "      <td>Subject: spot or firm tickets\\r\\nvance ,\\r\\nth...</td>\n",
              "      <td>0</td>\n",
              "    </tr>\n",
              "    <tr>\n",
              "      <th>2</th>\n",
              "      <td>Subject: software\\r\\nmicrosoft windows xp prof...</td>\n",
              "      <td>1</td>\n",
              "    </tr>\n",
              "    <tr>\n",
              "      <th>3</th>\n",
              "      <td>Subject: noms / actual flow for 2 / 27\\r\\nwe a...</td>\n",
              "      <td>0</td>\n",
              "    </tr>\n",
              "    <tr>\n",
              "      <th>4</th>\n",
              "      <td>Subject: superb so . ftware\\r\\nyoull discover ...</td>\n",
              "      <td>1</td>\n",
              "    </tr>\n",
              "  </tbody>\n",
              "</table>\n",
              "</div>\n",
              "      <button class=\"colab-df-convert\" onclick=\"convertToInteractive('df-16e2633a-1bf5-4c0c-8106-011663c64fb1')\"\n",
              "              title=\"Convert this dataframe to an interactive table.\"\n",
              "              style=\"display:none;\">\n",
              "        \n",
              "  <svg xmlns=\"http://www.w3.org/2000/svg\" height=\"24px\"viewBox=\"0 0 24 24\"\n",
              "       width=\"24px\">\n",
              "    <path d=\"M0 0h24v24H0V0z\" fill=\"none\"/>\n",
              "    <path d=\"M18.56 5.44l.94 2.06.94-2.06 2.06-.94-2.06-.94-.94-2.06-.94 2.06-2.06.94zm-11 1L8.5 8.5l.94-2.06 2.06-.94-2.06-.94L8.5 2.5l-.94 2.06-2.06.94zm10 10l.94 2.06.94-2.06 2.06-.94-2.06-.94-.94-2.06-.94 2.06-2.06.94z\"/><path d=\"M17.41 7.96l-1.37-1.37c-.4-.4-.92-.59-1.43-.59-.52 0-1.04.2-1.43.59L10.3 9.45l-7.72 7.72c-.78.78-.78 2.05 0 2.83L4 21.41c.39.39.9.59 1.41.59.51 0 1.02-.2 1.41-.59l7.78-7.78 2.81-2.81c.8-.78.8-2.07 0-2.86zM5.41 20L4 18.59l7.72-7.72 1.47 1.35L5.41 20z\"/>\n",
              "  </svg>\n",
              "      </button>\n",
              "      \n",
              "  <style>\n",
              "    .colab-df-container {\n",
              "      display:flex;\n",
              "      flex-wrap:wrap;\n",
              "      gap: 12px;\n",
              "    }\n",
              "\n",
              "    .colab-df-convert {\n",
              "      background-color: #E8F0FE;\n",
              "      border: none;\n",
              "      border-radius: 50%;\n",
              "      cursor: pointer;\n",
              "      display: none;\n",
              "      fill: #1967D2;\n",
              "      height: 32px;\n",
              "      padding: 0 0 0 0;\n",
              "      width: 32px;\n",
              "    }\n",
              "\n",
              "    .colab-df-convert:hover {\n",
              "      background-color: #E2EBFA;\n",
              "      box-shadow: 0px 1px 2px rgba(60, 64, 67, 0.3), 0px 1px 3px 1px rgba(60, 64, 67, 0.15);\n",
              "      fill: #174EA6;\n",
              "    }\n",
              "\n",
              "    [theme=dark] .colab-df-convert {\n",
              "      background-color: #3B4455;\n",
              "      fill: #D2E3FC;\n",
              "    }\n",
              "\n",
              "    [theme=dark] .colab-df-convert:hover {\n",
              "      background-color: #434B5C;\n",
              "      box-shadow: 0px 1px 3px 1px rgba(0, 0, 0, 0.15);\n",
              "      filter: drop-shadow(0px 1px 2px rgba(0, 0, 0, 0.3));\n",
              "      fill: #FFFFFF;\n",
              "    }\n",
              "  </style>\n",
              "\n",
              "      <script>\n",
              "        const buttonEl =\n",
              "          document.querySelector('#df-16e2633a-1bf5-4c0c-8106-011663c64fb1 button.colab-df-convert');\n",
              "        buttonEl.style.display =\n",
              "          google.colab.kernel.accessAllowed ? 'block' : 'none';\n",
              "\n",
              "        async function convertToInteractive(key) {\n",
              "          const element = document.querySelector('#df-16e2633a-1bf5-4c0c-8106-011663c64fb1');\n",
              "          const dataTable =\n",
              "            await google.colab.kernel.invokeFunction('convertToInteractive',\n",
              "                                                     [key], {});\n",
              "          if (!dataTable) return;\n",
              "\n",
              "          const docLinkHtml = 'Like what you see? Visit the ' +\n",
              "            '<a target=\"_blank\" href=https://colab.research.google.com/notebooks/data_table.ipynb>data table notebook</a>'\n",
              "            + ' to learn more about interactive tables.';\n",
              "          element.innerHTML = '';\n",
              "          dataTable['output_type'] = 'display_data';\n",
              "          await google.colab.output.renderOutput(dataTable, element);\n",
              "          const docLink = document.createElement('div');\n",
              "          docLink.innerHTML = docLinkHtml;\n",
              "          element.appendChild(docLink);\n",
              "        }\n",
              "      </script>\n",
              "    </div>\n",
              "  </div>\n",
              "  "
            ]
          },
          "metadata": {},
          "execution_count": 44
        }
      ]
    },
    {
      "cell_type": "code",
      "source": [
        "train_df[\"subject\"] = train_df[\"text\"].apply(lambda x: get_subject(x))\n",
        "train_df.head()"
      ],
      "metadata": {
        "id": "5NArX6vJM7Z4",
        "outputId": "a3eb48a5-d816-4219-a2ed-5e3f0535042c",
        "colab": {
          "base_uri": "https://localhost:8080/",
          "height": 206
        }
      },
      "execution_count": 45,
      "outputs": [
        {
          "output_type": "execute_result",
          "data": {
            "text/plain": [
              "                                                text  label  \\\n",
              "0  Subject: thank you\\r\\nami and daren , , , ,\\r\\...      0   \n",
              "1  Subject: spot or firm tickets\\r\\nvance ,\\r\\nth...      0   \n",
              "2  Subject: software\\r\\nmicrosoft windows xp prof...      1   \n",
              "3  Subject: noms / actual flow for 2 / 27\\r\\nwe a...      0   \n",
              "4  Subject: superb so . ftware\\r\\nyoull discover ...      1   \n",
              "\n",
              "                         subject  \n",
              "0                      thank you  \n",
              "1           spot or firm tickets  \n",
              "2                       software  \n",
              "3  noms / actual flow for 2 / 27  \n",
              "4             superb so . ftware  "
            ],
            "text/html": [
              "\n",
              "  <div id=\"df-a5a5517a-2c55-48ac-aefb-15c14b3c53f6\">\n",
              "    <div class=\"colab-df-container\">\n",
              "      <div>\n",
              "<style scoped>\n",
              "    .dataframe tbody tr th:only-of-type {\n",
              "        vertical-align: middle;\n",
              "    }\n",
              "\n",
              "    .dataframe tbody tr th {\n",
              "        vertical-align: top;\n",
              "    }\n",
              "\n",
              "    .dataframe thead th {\n",
              "        text-align: right;\n",
              "    }\n",
              "</style>\n",
              "<table border=\"1\" class=\"dataframe\">\n",
              "  <thead>\n",
              "    <tr style=\"text-align: right;\">\n",
              "      <th></th>\n",
              "      <th>text</th>\n",
              "      <th>label</th>\n",
              "      <th>subject</th>\n",
              "    </tr>\n",
              "  </thead>\n",
              "  <tbody>\n",
              "    <tr>\n",
              "      <th>0</th>\n",
              "      <td>Subject: thank you\\r\\nami and daren , , , ,\\r\\...</td>\n",
              "      <td>0</td>\n",
              "      <td>thank you</td>\n",
              "    </tr>\n",
              "    <tr>\n",
              "      <th>1</th>\n",
              "      <td>Subject: spot or firm tickets\\r\\nvance ,\\r\\nth...</td>\n",
              "      <td>0</td>\n",
              "      <td>spot or firm tickets</td>\n",
              "    </tr>\n",
              "    <tr>\n",
              "      <th>2</th>\n",
              "      <td>Subject: software\\r\\nmicrosoft windows xp prof...</td>\n",
              "      <td>1</td>\n",
              "      <td>software</td>\n",
              "    </tr>\n",
              "    <tr>\n",
              "      <th>3</th>\n",
              "      <td>Subject: noms / actual flow for 2 / 27\\r\\nwe a...</td>\n",
              "      <td>0</td>\n",
              "      <td>noms / actual flow for 2 / 27</td>\n",
              "    </tr>\n",
              "    <tr>\n",
              "      <th>4</th>\n",
              "      <td>Subject: superb so . ftware\\r\\nyoull discover ...</td>\n",
              "      <td>1</td>\n",
              "      <td>superb so . ftware</td>\n",
              "    </tr>\n",
              "  </tbody>\n",
              "</table>\n",
              "</div>\n",
              "      <button class=\"colab-df-convert\" onclick=\"convertToInteractive('df-a5a5517a-2c55-48ac-aefb-15c14b3c53f6')\"\n",
              "              title=\"Convert this dataframe to an interactive table.\"\n",
              "              style=\"display:none;\">\n",
              "        \n",
              "  <svg xmlns=\"http://www.w3.org/2000/svg\" height=\"24px\"viewBox=\"0 0 24 24\"\n",
              "       width=\"24px\">\n",
              "    <path d=\"M0 0h24v24H0V0z\" fill=\"none\"/>\n",
              "    <path d=\"M18.56 5.44l.94 2.06.94-2.06 2.06-.94-2.06-.94-.94-2.06-.94 2.06-2.06.94zm-11 1L8.5 8.5l.94-2.06 2.06-.94-2.06-.94L8.5 2.5l-.94 2.06-2.06.94zm10 10l.94 2.06.94-2.06 2.06-.94-2.06-.94-.94-2.06-.94 2.06-2.06.94z\"/><path d=\"M17.41 7.96l-1.37-1.37c-.4-.4-.92-.59-1.43-.59-.52 0-1.04.2-1.43.59L10.3 9.45l-7.72 7.72c-.78.78-.78 2.05 0 2.83L4 21.41c.39.39.9.59 1.41.59.51 0 1.02-.2 1.41-.59l7.78-7.78 2.81-2.81c.8-.78.8-2.07 0-2.86zM5.41 20L4 18.59l7.72-7.72 1.47 1.35L5.41 20z\"/>\n",
              "  </svg>\n",
              "      </button>\n",
              "      \n",
              "  <style>\n",
              "    .colab-df-container {\n",
              "      display:flex;\n",
              "      flex-wrap:wrap;\n",
              "      gap: 12px;\n",
              "    }\n",
              "\n",
              "    .colab-df-convert {\n",
              "      background-color: #E8F0FE;\n",
              "      border: none;\n",
              "      border-radius: 50%;\n",
              "      cursor: pointer;\n",
              "      display: none;\n",
              "      fill: #1967D2;\n",
              "      height: 32px;\n",
              "      padding: 0 0 0 0;\n",
              "      width: 32px;\n",
              "    }\n",
              "\n",
              "    .colab-df-convert:hover {\n",
              "      background-color: #E2EBFA;\n",
              "      box-shadow: 0px 1px 2px rgba(60, 64, 67, 0.3), 0px 1px 3px 1px rgba(60, 64, 67, 0.15);\n",
              "      fill: #174EA6;\n",
              "    }\n",
              "\n",
              "    [theme=dark] .colab-df-convert {\n",
              "      background-color: #3B4455;\n",
              "      fill: #D2E3FC;\n",
              "    }\n",
              "\n",
              "    [theme=dark] .colab-df-convert:hover {\n",
              "      background-color: #434B5C;\n",
              "      box-shadow: 0px 1px 3px 1px rgba(0, 0, 0, 0.15);\n",
              "      filter: drop-shadow(0px 1px 2px rgba(0, 0, 0, 0.3));\n",
              "      fill: #FFFFFF;\n",
              "    }\n",
              "  </style>\n",
              "\n",
              "      <script>\n",
              "        const buttonEl =\n",
              "          document.querySelector('#df-a5a5517a-2c55-48ac-aefb-15c14b3c53f6 button.colab-df-convert');\n",
              "        buttonEl.style.display =\n",
              "          google.colab.kernel.accessAllowed ? 'block' : 'none';\n",
              "\n",
              "        async function convertToInteractive(key) {\n",
              "          const element = document.querySelector('#df-a5a5517a-2c55-48ac-aefb-15c14b3c53f6');\n",
              "          const dataTable =\n",
              "            await google.colab.kernel.invokeFunction('convertToInteractive',\n",
              "                                                     [key], {});\n",
              "          if (!dataTable) return;\n",
              "\n",
              "          const docLinkHtml = 'Like what you see? Visit the ' +\n",
              "            '<a target=\"_blank\" href=https://colab.research.google.com/notebooks/data_table.ipynb>data table notebook</a>'\n",
              "            + ' to learn more about interactive tables.';\n",
              "          element.innerHTML = '';\n",
              "          dataTable['output_type'] = 'display_data';\n",
              "          await google.colab.output.renderOutput(dataTable, element);\n",
              "          const docLink = document.createElement('div');\n",
              "          docLink.innerHTML = docLinkHtml;\n",
              "          element.appendChild(docLink);\n",
              "        }\n",
              "      </script>\n",
              "    </div>\n",
              "  </div>\n",
              "  "
            ]
          },
          "metadata": {},
          "execution_count": 45
        }
      ]
    },
    {
      "cell_type": "code",
      "source": [
        "train_x_subject = train_df.subject\n",
        "clean_train_x_subject = clean_x(train_x_subject)"
      ],
      "metadata": {
        "id": "BbfNr4eheBT8"
      },
      "execution_count": 46,
      "outputs": []
    },
    {
      "cell_type": "code",
      "source": [
        "clean_train_x_subject_join = [\" \".join(i) for i in clean_train_x_subject] #turn to string for count_vector \n",
        "Model5 = pipeline5.fit(clean_train_x_subject_join,train_y) #fit"
      ],
      "metadata": {
        "id": "DjeuOP6Gd2XP"
      },
      "execution_count": 48,
      "outputs": []
    },
    {
      "cell_type": "markdown",
      "source": [
        "\n",
        "\n",
        "---\n",
        "\n",
        "\n",
        "\n",
        "---\n",
        "\n",
        "\n",
        "# 4. Evaluation using validation set"
      ],
      "metadata": {
        "id": "loNqoBygDvj-"
      }
    },
    {
      "cell_type": "markdown",
      "source": [
        "## 4a. Calculating the evaluation metrics\n",
        "\n",
        "The metrics that will be used are : model accuracy, f1 score, precision, recall "
      ],
      "metadata": {
        "id": "vXrPDXCRDyPj"
      }
    },
    {
      "cell_type": "code",
      "source": [
        "# count_vector = CountVectorizer()\n",
        "\n",
        "clean_val_x_join = [\" \".join(i) for i in clean_val_x] #turn to string for count_vector \n",
        "\n",
        "# trans_x = count_vector.fit_transform(clean_val_x_join)\n",
        "\n",
        "# val_x_dense = np.array(trans_x.todense())\n"
      ],
      "metadata": {
        "id": "QPiLq-GVRlK7"
      },
      "execution_count": 49,
      "outputs": []
    },
    {
      "cell_type": "code",
      "source": [
        "def get_accuracy(Model,x,y):\n",
        "  predicted = Model.predict(x)\n",
        "  return accuracy_score(y,predicted)\n",
        "\n",
        "def get_f1_score(Model,x,y):\n",
        "  predicted = Model.predict(x)\n",
        "  return f1_score(y,predicted)\n",
        "\n",
        "def get_precision(Model,x,y):\n",
        "  predicted = Model.predict(x)\n",
        "  return precision_recall_fscore_support(y,predicted,average=\"binary\")[0]\n",
        "\n",
        "def get_recall(Model,x,y):\n",
        "  predicted = Model.predict(x)\n",
        "  return precision_recall_fscore_support(y,predicted,average=\"binary\")[1]\n",
        "\n",
        "\n",
        "# def get_precision_recall_fscore_support(Model):\n",
        "#   predicted = Model.predict(clean_val_x_join)\n",
        "#   return precision_recall_fscore_support(val_y,predicted,average=\"binary\")\n",
        "\n",
        "\n",
        "def report(Model):\n",
        "  predicted = Model.predict(clean_val_x_join)\n",
        "  return classification_report(predicted,val_y), classification_report(predicted,val_y,output_dict=True)"
      ],
      "metadata": {
        "id": "6WdjW_G3Dwzo"
      },
      "execution_count": 91,
      "outputs": []
    },
    {
      "cell_type": "code",
      "source": [
        "print(\"Model 1\")\n",
        "report1,dict1 = report(Model1)\n",
        "print(report1)\n",
        "a1 = get_accuracy(Model1,clean_val_x_join,val_y)\n",
        "f1 = get_f1_score(Model1,clean_val_x_join,val_y)\n",
        "p1  = get_precision(Model1,clean_val_x_join,val_y)\n",
        "r1 = get_recall(Model1,clean_val_x_join,val_y)\n",
        "print(f\"accuracy: {a1}\")\n",
        "print(f\"f1 score: {f1}\")\n",
        "print(f\"precision: {p1}\")\n",
        "print(f\"recall: {r1}\")\n",
        "print(\"------------------------------------------------------------------------------------------------------\")\n",
        "\n",
        "\n",
        "print(\"Model 2\")\n",
        "report2,dict2 = report(Model2)\n",
        "print(report2)\n",
        "a2 = get_accuracy(Model2,clean_val_x_join,val_y)\n",
        "f2 = get_f1_score(Model2,clean_val_x_join,val_y)\n",
        "p2  = get_precision(Model2,clean_val_x_join,val_y)\n",
        "r2 = get_recall(Model2,clean_val_x_join,val_y)\n",
        "print(f\"accuracy: {a2}\")\n",
        "print(f\"f1 score: {f2}\")\n",
        "print(f\"precision: {p2}\")\n",
        "print(f\"recall: {r2}\")\n",
        "print(\"------------------------------------------------------------------------------------------------------\")\n",
        "\n",
        "\n",
        "\n",
        "print(\"Model 3\")\n",
        "report3,dict3= report(Model3)\n",
        "print(report3)\n",
        "a3 = get_accuracy(Model3,clean_val_x_join,val_y)\n",
        "f3 = get_f1_score(Model3,clean_val_x_join,val_y)\n",
        "p3  = get_precision(Model3,clean_val_x_join,val_y)\n",
        "r3 = get_recall(Model3,clean_val_x_join,val_y)\n",
        "print(f\"accuracy: {a3}\")\n",
        "print(f\"f1 score: {f3}\")\n",
        "print(f\"precision: {p3}\")\n",
        "print(f\"recall: {r3}\")\n",
        "print(\"------------------------------------------------------------------------------------------------------\")\n",
        "\n",
        "\n",
        "print(\"Model 4\")\n",
        "report4,dict4 = report(Model4)\n",
        "print(report4)\n",
        "a4 = get_accuracy(Model4,clean_val_x_join,val_y)\n",
        "f4 = get_f1_score(Model4,clean_val_x_join,val_y)\n",
        "p4  = get_precision(Model4,clean_val_x_join,val_y)\n",
        "r4 = get_recall(Model4,clean_val_x_join,val_y)\n",
        "print(f\"accuracy: {a4}\")\n",
        "print(f\"f1 score: {f4}\")\n",
        "print(f\"precision: {p4}\")\n",
        "print(f\"recall: {r4}\")\n",
        "print(\"------------------------------------------------------------------------------------------------------\")\n",
        "\n",
        "\n",
        "print(\"Model 5\")\n",
        "report5,dict5 = report(Model5)\n",
        "print(report5)\n",
        "a5 = get_accuracy(Model5,clean_val_x_join,val_y)\n",
        "f5 = get_f1_score(Model5,clean_val_x_join,val_y)\n",
        "p5  = get_precision(Model5,clean_val_x_join,val_y)\n",
        "r5 = get_recall(Model5,clean_val_x_join,val_y)\n",
        "print(f\"accuracy: {a5}\")\n",
        "print(f\"f1 score: {f5}\")\n",
        "print(f\"precision: {p5}\")\n",
        "print(f\"recall: {r5}\")\n",
        "print(\"------------------------------------------------------------------------------------------------------\")\n"
      ],
      "metadata": {
        "id": "JpFE94ZgRUNC",
        "outputId": "f34ab075-eb94-402d-8035-2374a272329b",
        "colab": {
          "base_uri": "https://localhost:8080/"
        }
      },
      "execution_count": 93,
      "outputs": [
        {
          "output_type": "stream",
          "name": "stdout",
          "text": [
            "Model 1\n",
            "              precision    recall  f1-score   support\n",
            "\n",
            "           0       0.98      0.97      0.98       740\n",
            "           1       0.94      0.95      0.94       295\n",
            "\n",
            "    accuracy                           0.97      1035\n",
            "   macro avg       0.96      0.96      0.96      1035\n",
            "weighted avg       0.97      0.97      0.97      1035\n",
            "\n",
            "accuracy: 0.9681159420289855\n",
            "f1 score: 0.9445378151260504\n",
            "precision: 0.9525423728813559\n",
            "recall: 0.9366666666666666\n",
            "------------------------------------------------------------------------------------------------------\n",
            "Model 2\n",
            "              precision    recall  f1-score   support\n",
            "\n",
            "           0       0.73      0.98      0.84       549\n",
            "           1       0.96      0.59      0.74       486\n",
            "\n",
            "    accuracy                           0.80      1035\n",
            "   macro avg       0.85      0.79      0.79      1035\n",
            "weighted avg       0.84      0.80      0.79      1035\n",
            "\n",
            "accuracy: 0.7990338164251207\n",
            "f1 score: 0.7353689567430024\n",
            "precision: 0.5946502057613169\n",
            "recall: 0.9633333333333334\n",
            "------------------------------------------------------------------------------------------------------\n",
            "Model 3\n",
            "              precision    recall  f1-score   support\n",
            "\n",
            "           0       0.87      0.93      0.90       690\n",
            "           1       0.83      0.72      0.77       345\n",
            "\n",
            "    accuracy                           0.86      1035\n",
            "   macro avg       0.85      0.82      0.83      1035\n",
            "weighted avg       0.86      0.86      0.86      1035\n",
            "\n",
            "accuracy: 0.8579710144927536\n",
            "f1 score: 0.772093023255814\n",
            "precision: 0.7217391304347827\n",
            "recall: 0.83\n",
            "------------------------------------------------------------------------------------------------------\n",
            "Model 4\n",
            "              precision    recall  f1-score   support\n",
            "\n",
            "           0       0.99      0.96      0.98       757\n",
            "           1       0.91      0.98      0.94       278\n",
            "\n",
            "    accuracy                           0.97      1035\n",
            "   macro avg       0.95      0.97      0.96      1035\n",
            "weighted avg       0.97      0.97      0.97      1035\n",
            "\n",
            "accuracy: 0.9690821256038648\n",
            "f1 score: 0.944636678200692\n",
            "precision: 0.9820143884892086\n",
            "recall: 0.91\n",
            "------------------------------------------------------------------------------------------------------\n",
            "Model 5\n",
            "              precision    recall  f1-score   support\n",
            "\n",
            "           0       0.90      0.97      0.94       681\n",
            "           1       0.94      0.79      0.86       354\n",
            "\n",
            "    accuracy                           0.91      1035\n",
            "   macro avg       0.92      0.88      0.90      1035\n",
            "weighted avg       0.91      0.91      0.91      1035\n",
            "\n",
            "accuracy: 0.9111111111111111\n",
            "f1 score: 0.8593272171253823\n",
            "precision: 0.7937853107344632\n",
            "recall: 0.9366666666666666\n",
            "------------------------------------------------------------------------------------------------------\n"
          ]
        }
      ]
    },
    {
      "cell_type": "markdown",
      "source": [
        "## 4b. Comparing all 5 models "
      ],
      "metadata": {
        "id": "-ojjfOmHDxP7"
      }
    },
    {
      "cell_type": "code",
      "source": [
        "M1 = [dict1[\"accuracy\"],dict1['0']['f1-score'],dict1['1']['f1-score'],dict1['0']['precision'],dict1['1']['precision'],dict1['0']['recall'],dict1['1']['recall']]\n",
        "M2 = [dict2[\"accuracy\"],dict2['0']['f1-score'],dict2['1']['f1-score'],dict2['0']['precision'],dict2['1']['precision'],dict2['0']['recall'],dict2['1']['recall']]\n",
        "M3 = [dict3[\"accuracy\"],dict3['0']['f1-score'],dict3['1']['f1-score'],dict3['0']['precision'],dict3['1']['precision'],dict3['0']['recall'],dict3['1']['recall']]\n",
        "M4 = [dict4[\"accuracy\"],dict4['0']['f1-score'],dict4['1']['f1-score'],dict4['0']['precision'],dict4['1']['precision'],dict4['0']['recall'],dict4['1']['recall']]\n",
        "M5 = [dict5[\"accuracy\"],dict5['0']['f1-score'],dict5['1']['f1-score'],dict5['0']['precision'],dict5['1']['precision'],dict5['0']['recall'],dict5['1']['recall']]\n",
        "\n",
        "\n",
        "index = ['acc', 'f1_0','f1_1', 'precision_0','precision_1', 'recall_0','recall_1']\n",
        "df = pd.DataFrame({'Model1': M1,\n",
        "                   'Model2': M2, 'Model3':M3, 'Model4':M4, 'Model5':M5}, index=index)\n",
        "df\n",
        "# ax = df.plot.bar(rot=0)"
      ],
      "metadata": {
        "id": "xgs1FOVmD3ea",
        "colab": {
          "base_uri": "https://localhost:8080/",
          "height": 269
        },
        "outputId": "8f1e54c3-ed40-468e-8f9b-084a9487d724"
      },
      "execution_count": 52,
      "outputs": [
        {
          "output_type": "execute_result",
          "data": {
            "text/plain": [
              "               Model1    Model2    Model3    Model4    Model5\n",
              "acc          0.968116  0.799034  0.857971  0.969082  0.911111\n",
              "f1_0         0.977627  0.838006  0.896842  0.978552  0.935028\n",
              "f1_1         0.944538  0.735369  0.772093  0.944637  0.859327\n",
              "precision_0  0.980952  0.731973  0.869388  0.993197  0.900680\n",
              "precision_1  0.936667  0.963333  0.830000  0.910000  0.936667\n",
              "recall_0     0.974324  0.979964  0.926087  0.964333  0.972100\n",
              "recall_1     0.952542  0.594650  0.721739  0.982014  0.793785"
            ],
            "text/html": [
              "\n",
              "  <div id=\"df-dc7a5c35-9a63-43ca-b1bd-ec3a2b57671e\">\n",
              "    <div class=\"colab-df-container\">\n",
              "      <div>\n",
              "<style scoped>\n",
              "    .dataframe tbody tr th:only-of-type {\n",
              "        vertical-align: middle;\n",
              "    }\n",
              "\n",
              "    .dataframe tbody tr th {\n",
              "        vertical-align: top;\n",
              "    }\n",
              "\n",
              "    .dataframe thead th {\n",
              "        text-align: right;\n",
              "    }\n",
              "</style>\n",
              "<table border=\"1\" class=\"dataframe\">\n",
              "  <thead>\n",
              "    <tr style=\"text-align: right;\">\n",
              "      <th></th>\n",
              "      <th>Model1</th>\n",
              "      <th>Model2</th>\n",
              "      <th>Model3</th>\n",
              "      <th>Model4</th>\n",
              "      <th>Model5</th>\n",
              "    </tr>\n",
              "  </thead>\n",
              "  <tbody>\n",
              "    <tr>\n",
              "      <th>acc</th>\n",
              "      <td>0.968116</td>\n",
              "      <td>0.799034</td>\n",
              "      <td>0.857971</td>\n",
              "      <td>0.969082</td>\n",
              "      <td>0.911111</td>\n",
              "    </tr>\n",
              "    <tr>\n",
              "      <th>f1_0</th>\n",
              "      <td>0.977627</td>\n",
              "      <td>0.838006</td>\n",
              "      <td>0.896842</td>\n",
              "      <td>0.978552</td>\n",
              "      <td>0.935028</td>\n",
              "    </tr>\n",
              "    <tr>\n",
              "      <th>f1_1</th>\n",
              "      <td>0.944538</td>\n",
              "      <td>0.735369</td>\n",
              "      <td>0.772093</td>\n",
              "      <td>0.944637</td>\n",
              "      <td>0.859327</td>\n",
              "    </tr>\n",
              "    <tr>\n",
              "      <th>precision_0</th>\n",
              "      <td>0.980952</td>\n",
              "      <td>0.731973</td>\n",
              "      <td>0.869388</td>\n",
              "      <td>0.993197</td>\n",
              "      <td>0.900680</td>\n",
              "    </tr>\n",
              "    <tr>\n",
              "      <th>precision_1</th>\n",
              "      <td>0.936667</td>\n",
              "      <td>0.963333</td>\n",
              "      <td>0.830000</td>\n",
              "      <td>0.910000</td>\n",
              "      <td>0.936667</td>\n",
              "    </tr>\n",
              "    <tr>\n",
              "      <th>recall_0</th>\n",
              "      <td>0.974324</td>\n",
              "      <td>0.979964</td>\n",
              "      <td>0.926087</td>\n",
              "      <td>0.964333</td>\n",
              "      <td>0.972100</td>\n",
              "    </tr>\n",
              "    <tr>\n",
              "      <th>recall_1</th>\n",
              "      <td>0.952542</td>\n",
              "      <td>0.594650</td>\n",
              "      <td>0.721739</td>\n",
              "      <td>0.982014</td>\n",
              "      <td>0.793785</td>\n",
              "    </tr>\n",
              "  </tbody>\n",
              "</table>\n",
              "</div>\n",
              "      <button class=\"colab-df-convert\" onclick=\"convertToInteractive('df-dc7a5c35-9a63-43ca-b1bd-ec3a2b57671e')\"\n",
              "              title=\"Convert this dataframe to an interactive table.\"\n",
              "              style=\"display:none;\">\n",
              "        \n",
              "  <svg xmlns=\"http://www.w3.org/2000/svg\" height=\"24px\"viewBox=\"0 0 24 24\"\n",
              "       width=\"24px\">\n",
              "    <path d=\"M0 0h24v24H0V0z\" fill=\"none\"/>\n",
              "    <path d=\"M18.56 5.44l.94 2.06.94-2.06 2.06-.94-2.06-.94-.94-2.06-.94 2.06-2.06.94zm-11 1L8.5 8.5l.94-2.06 2.06-.94-2.06-.94L8.5 2.5l-.94 2.06-2.06.94zm10 10l.94 2.06.94-2.06 2.06-.94-2.06-.94-.94-2.06-.94 2.06-2.06.94z\"/><path d=\"M17.41 7.96l-1.37-1.37c-.4-.4-.92-.59-1.43-.59-.52 0-1.04.2-1.43.59L10.3 9.45l-7.72 7.72c-.78.78-.78 2.05 0 2.83L4 21.41c.39.39.9.59 1.41.59.51 0 1.02-.2 1.41-.59l7.78-7.78 2.81-2.81c.8-.78.8-2.07 0-2.86zM5.41 20L4 18.59l7.72-7.72 1.47 1.35L5.41 20z\"/>\n",
              "  </svg>\n",
              "      </button>\n",
              "      \n",
              "  <style>\n",
              "    .colab-df-container {\n",
              "      display:flex;\n",
              "      flex-wrap:wrap;\n",
              "      gap: 12px;\n",
              "    }\n",
              "\n",
              "    .colab-df-convert {\n",
              "      background-color: #E8F0FE;\n",
              "      border: none;\n",
              "      border-radius: 50%;\n",
              "      cursor: pointer;\n",
              "      display: none;\n",
              "      fill: #1967D2;\n",
              "      height: 32px;\n",
              "      padding: 0 0 0 0;\n",
              "      width: 32px;\n",
              "    }\n",
              "\n",
              "    .colab-df-convert:hover {\n",
              "      background-color: #E2EBFA;\n",
              "      box-shadow: 0px 1px 2px rgba(60, 64, 67, 0.3), 0px 1px 3px 1px rgba(60, 64, 67, 0.15);\n",
              "      fill: #174EA6;\n",
              "    }\n",
              "\n",
              "    [theme=dark] .colab-df-convert {\n",
              "      background-color: #3B4455;\n",
              "      fill: #D2E3FC;\n",
              "    }\n",
              "\n",
              "    [theme=dark] .colab-df-convert:hover {\n",
              "      background-color: #434B5C;\n",
              "      box-shadow: 0px 1px 3px 1px rgba(0, 0, 0, 0.15);\n",
              "      filter: drop-shadow(0px 1px 2px rgba(0, 0, 0, 0.3));\n",
              "      fill: #FFFFFF;\n",
              "    }\n",
              "  </style>\n",
              "\n",
              "      <script>\n",
              "        const buttonEl =\n",
              "          document.querySelector('#df-dc7a5c35-9a63-43ca-b1bd-ec3a2b57671e button.colab-df-convert');\n",
              "        buttonEl.style.display =\n",
              "          google.colab.kernel.accessAllowed ? 'block' : 'none';\n",
              "\n",
              "        async function convertToInteractive(key) {\n",
              "          const element = document.querySelector('#df-dc7a5c35-9a63-43ca-b1bd-ec3a2b57671e');\n",
              "          const dataTable =\n",
              "            await google.colab.kernel.invokeFunction('convertToInteractive',\n",
              "                                                     [key], {});\n",
              "          if (!dataTable) return;\n",
              "\n",
              "          const docLinkHtml = 'Like what you see? Visit the ' +\n",
              "            '<a target=\"_blank\" href=https://colab.research.google.com/notebooks/data_table.ipynb>data table notebook</a>'\n",
              "            + ' to learn more about interactive tables.';\n",
              "          element.innerHTML = '';\n",
              "          dataTable['output_type'] = 'display_data';\n",
              "          await google.colab.output.renderOutput(dataTable, element);\n",
              "          const docLink = document.createElement('div');\n",
              "          docLink.innerHTML = docLinkHtml;\n",
              "          element.appendChild(docLink);\n",
              "        }\n",
              "      </script>\n",
              "    </div>\n",
              "  </div>\n",
              "  "
            ]
          },
          "metadata": {},
          "execution_count": 52
        }
      ]
    },
    {
      "cell_type": "code",
      "source": [
        "ax = df.plot.bar()"
      ],
      "metadata": {
        "id": "hmTYEfdLx4YX",
        "outputId": "09f2bb72-35bf-4ec6-8275-e718ae121bb2",
        "colab": {
          "base_uri": "https://localhost:8080/",
          "height": 312
        }
      },
      "execution_count": 53,
      "outputs": [
        {
          "output_type": "display_data",
          "data": {
            "text/plain": [
              "<Figure size 432x288 with 1 Axes>"
            ],
            "image/png": "[encoded data removed]"
          },
          "metadata": {
            "needs_background": "light"
          }
        }
      ]
    },
    {
      "cell_type": "code",
      "source": [
        "acc = [dict1[\"accuracy\"],dict2[\"accuracy\"],dict3[\"accuracy\"],dict4[\"accuracy\"],dict5[\"accuracy\"]]\n",
        "f1_0 = [dict1['0']['f1-score'],dict2['0']['f1-score'],dict3['0']['f1-score'],dict4['0']['f1-score'],dict5['0']['f1-score']]\n",
        "f1_1 = [dict1['1']['f1-score'],dict2['1']['f1-score'],dict3['1']['f1-score'],dict4['1']['f1-score'],dict5['1']['f1-score']]\n",
        "precision_0 = [dict1['0']['precision'],dict2['0']['precision'],dict3['0']['precision'],dict4['0']['precision'],dict5['0']['precision']]\n",
        "precision_1 = [dict1['1']['precision'],dict2['1']['precision'],dict3['1']['precision'],dict4['1']['precision'],dict5['1']['precision']]\n",
        "recall_0 = [dict1['0']['recall'],dict2['0']['recall'],dict3['0']['recall'],dict4['0']['recall'],dict5['0']['recall']]\n",
        "recall_1 =[dict1['1']['recall'],dict2['1']['recall'],dict3['1']['recall'],dict4['1']['recall'],dict5['1']['recall']]\n",
        "\n",
        "index = ['Model1', 'Model2','Model3', 'Model4','Model5']\n",
        "df1 = pd.DataFrame({'acc': acc,\n",
        "                   'f1_0': f1_0, 'f1_1':f1_1, 'precision_0':precision_0, 'precision_1':precision_1,'recall_0':recall_0,'recall_1':recall_1}, index=index)\n",
        "df1"
      ],
      "metadata": {
        "id": "wud9Bh9Zwdkz",
        "outputId": "2f76976d-f285-4eef-d635-51e62a4336c4",
        "colab": {
          "base_uri": "https://localhost:8080/",
          "height": 206
        }
      },
      "execution_count": 54,
      "outputs": [
        {
          "output_type": "execute_result",
          "data": {
            "text/plain": [
              "             acc      f1_0      f1_1  precision_0  precision_1  recall_0  \\\n",
              "Model1  0.968116  0.977627  0.944538     0.980952     0.936667  0.974324   \n",
              "Model2  0.799034  0.838006  0.735369     0.731973     0.963333  0.979964   \n",
              "Model3  0.857971  0.896842  0.772093     0.869388     0.830000  0.926087   \n",
              "Model4  0.969082  0.978552  0.944637     0.993197     0.910000  0.964333   \n",
              "Model5  0.911111  0.935028  0.859327     0.900680     0.936667  0.972100   \n",
              "\n",
              "        recall_1  \n",
              "Model1  0.952542  \n",
              "Model2  0.594650  \n",
              "Model3  0.721739  \n",
              "Model4  0.982014  \n",
              "Model5  0.793785  "
            ],
            "text/html": [
              "\n",
              "  <div id=\"df-439d176d-6122-4cf1-aeb5-75cf9fceb0ef\">\n",
              "    <div class=\"colab-df-container\">\n",
              "      <div>\n",
              "<style scoped>\n",
              "    .dataframe tbody tr th:only-of-type {\n",
              "        vertical-align: middle;\n",
              "    }\n",
              "\n",
              "    .dataframe tbody tr th {\n",
              "        vertical-align: top;\n",
              "    }\n",
              "\n",
              "    .dataframe thead th {\n",
              "        text-align: right;\n",
              "    }\n",
              "</style>\n",
              "<table border=\"1\" class=\"dataframe\">\n",
              "  <thead>\n",
              "    <tr style=\"text-align: right;\">\n",
              "      <th></th>\n",
              "      <th>acc</th>\n",
              "      <th>f1_0</th>\n",
              "      <th>f1_1</th>\n",
              "      <th>precision_0</th>\n",
              "      <th>precision_1</th>\n",
              "      <th>recall_0</th>\n",
              "      <th>recall_1</th>\n",
              "    </tr>\n",
              "  </thead>\n",
              "  <tbody>\n",
              "    <tr>\n",
              "      <th>Model1</th>\n",
              "      <td>0.968116</td>\n",
              "      <td>0.977627</td>\n",
              "      <td>0.944538</td>\n",
              "      <td>0.980952</td>\n",
              "      <td>0.936667</td>\n",
              "      <td>0.974324</td>\n",
              "      <td>0.952542</td>\n",
              "    </tr>\n",
              "    <tr>\n",
              "      <th>Model2</th>\n",
              "      <td>0.799034</td>\n",
              "      <td>0.838006</td>\n",
              "      <td>0.735369</td>\n",
              "      <td>0.731973</td>\n",
              "      <td>0.963333</td>\n",
              "      <td>0.979964</td>\n",
              "      <td>0.594650</td>\n",
              "    </tr>\n",
              "    <tr>\n",
              "      <th>Model3</th>\n",
              "      <td>0.857971</td>\n",
              "      <td>0.896842</td>\n",
              "      <td>0.772093</td>\n",
              "      <td>0.869388</td>\n",
              "      <td>0.830000</td>\n",
              "      <td>0.926087</td>\n",
              "      <td>0.721739</td>\n",
              "    </tr>\n",
              "    <tr>\n",
              "      <th>Model4</th>\n",
              "      <td>0.969082</td>\n",
              "      <td>0.978552</td>\n",
              "      <td>0.944637</td>\n",
              "      <td>0.993197</td>\n",
              "      <td>0.910000</td>\n",
              "      <td>0.964333</td>\n",
              "      <td>0.982014</td>\n",
              "    </tr>\n",
              "    <tr>\n",
              "      <th>Model5</th>\n",
              "      <td>0.911111</td>\n",
              "      <td>0.935028</td>\n",
              "      <td>0.859327</td>\n",
              "      <td>0.900680</td>\n",
              "      <td>0.936667</td>\n",
              "      <td>0.972100</td>\n",
              "      <td>0.793785</td>\n",
              "    </tr>\n",
              "  </tbody>\n",
              "</table>\n",
              "</div>\n",
              "      <button class=\"colab-df-convert\" onclick=\"convertToInteractive('df-439d176d-6122-4cf1-aeb5-75cf9fceb0ef')\"\n",
              "              title=\"Convert this dataframe to an interactive table.\"\n",
              "              style=\"display:none;\">\n",
              "        \n",
              "  <svg xmlns=\"http://www.w3.org/2000/svg\" height=\"24px\"viewBox=\"0 0 24 24\"\n",
              "       width=\"24px\">\n",
              "    <path d=\"M0 0h24v24H0V0z\" fill=\"none\"/>\n",
              "    <path d=\"M18.56 5.44l.94 2.06.94-2.06 2.06-.94-2.06-.94-.94-2.06-.94 2.06-2.06.94zm-11 1L8.5 8.5l.94-2.06 2.06-.94-2.06-.94L8.5 2.5l-.94 2.06-2.06.94zm10 10l.94 2.06.94-2.06 2.06-.94-2.06-.94-.94-2.06-.94 2.06-2.06.94z\"/><path d=\"M17.41 7.96l-1.37-1.37c-.4-.4-.92-.59-1.43-.59-.52 0-1.04.2-1.43.59L10.3 9.45l-7.72 7.72c-.78.78-.78 2.05 0 2.83L4 21.41c.39.39.9.59 1.41.59.51 0 1.02-.2 1.41-.59l7.78-7.78 2.81-2.81c.8-.78.8-2.07 0-2.86zM5.41 20L4 18.59l7.72-7.72 1.47 1.35L5.41 20z\"/>\n",
              "  </svg>\n",
              "      </button>\n",
              "      \n",
              "  <style>\n",
              "    .colab-df-container {\n",
              "      display:flex;\n",
              "      flex-wrap:wrap;\n",
              "      gap: 12px;\n",
              "    }\n",
              "\n",
              "    .colab-df-convert {\n",
              "      background-color: #E8F0FE;\n",
              "      border: none;\n",
              "      border-radius: 50%;\n",
              "      cursor: pointer;\n",
              "      display: none;\n",
              "      fill: #1967D2;\n",
              "      height: 32px;\n",
              "      padding: 0 0 0 0;\n",
              "      width: 32px;\n",
              "    }\n",
              "\n",
              "    .colab-df-convert:hover {\n",
              "      background-color: #E2EBFA;\n",
              "      box-shadow: 0px 1px 2px rgba(60, 64, 67, 0.3), 0px 1px 3px 1px rgba(60, 64, 67, 0.15);\n",
              "      fill: #174EA6;\n",
              "    }\n",
              "\n",
              "    [theme=dark] .colab-df-convert {\n",
              "      background-color: #3B4455;\n",
              "      fill: #D2E3FC;\n",
              "    }\n",
              "\n",
              "    [theme=dark] .colab-df-convert:hover {\n",
              "      background-color: #434B5C;\n",
              "      box-shadow: 0px 1px 3px 1px rgba(0, 0, 0, 0.15);\n",
              "      filter: drop-shadow(0px 1px 2px rgba(0, 0, 0, 0.3));\n",
              "      fill: #FFFFFF;\n",
              "    }\n",
              "  </style>\n",
              "\n",
              "      <script>\n",
              "        const buttonEl =\n",
              "          document.querySelector('#df-439d176d-6122-4cf1-aeb5-75cf9fceb0ef button.colab-df-convert');\n",
              "        buttonEl.style.display =\n",
              "          google.colab.kernel.accessAllowed ? 'block' : 'none';\n",
              "\n",
              "        async function convertToInteractive(key) {\n",
              "          const element = document.querySelector('#df-439d176d-6122-4cf1-aeb5-75cf9fceb0ef');\n",
              "          const dataTable =\n",
              "            await google.colab.kernel.invokeFunction('convertToInteractive',\n",
              "                                                     [key], {});\n",
              "          if (!dataTable) return;\n",
              "\n",
              "          const docLinkHtml = 'Like what you see? Visit the ' +\n",
              "            '<a target=\"_blank\" href=https://colab.research.google.com/notebooks/data_table.ipynb>data table notebook</a>'\n",
              "            + ' to learn more about interactive tables.';\n",
              "          element.innerHTML = '';\n",
              "          dataTable['output_type'] = 'display_data';\n",
              "          await google.colab.output.renderOutput(dataTable, element);\n",
              "          const docLink = document.createElement('div');\n",
              "          docLink.innerHTML = docLinkHtml;\n",
              "          element.appendChild(docLink);\n",
              "        }\n",
              "      </script>\n",
              "    </div>\n",
              "  </div>\n",
              "  "
            ]
          },
          "metadata": {},
          "execution_count": 54
        }
      ]
    },
    {
      "cell_type": "code",
      "source": [
        "df1['acc'].plot.bar(title = \"Accuracy\",color=\"teal\")"
      ],
      "metadata": {
        "id": "Np60XS1cvCh7",
        "outputId": "6e673d59-8bb8-4a1e-c50a-b508a5f82c93",
        "colab": {
          "base_uri": "https://localhost:8080/",
          "height": 325
        }
      },
      "execution_count": 55,
      "outputs": [
        {
          "output_type": "execute_result",
          "data": {
            "text/plain": [
              "<matplotlib.axes._subplots.AxesSubplot at 0x7f1acd55dbd0>"
            ]
          },
          "metadata": {},
          "execution_count": 55
        },
        {
          "output_type": "display_data",
          "data": {
            "text/plain": [
              "<Figure size 432x288 with 1 Axes>"
            ],
            "image/png": "[encoded data removed]"
          },
          "metadata": {
            "needs_background": "light"
          }
        }
      ]
    },
    {
      "cell_type": "code",
      "source": [
        "df1['f1_0'].plot.bar(title = \"f1-score 0\", color = \"maroon\")"
      ],
      "metadata": {
        "id": "ugqwSEdUvnD4",
        "outputId": "c074bc0f-bf28-47d5-9e16-6ae1c9c00444",
        "colab": {
          "base_uri": "https://localhost:8080/",
          "height": 325
        }
      },
      "execution_count": 56,
      "outputs": [
        {
          "output_type": "execute_result",
          "data": {
            "text/plain": [
              "<matplotlib.axes._subplots.AxesSubplot at 0x7f1ad6129790>"
            ]
          },
          "metadata": {},
          "execution_count": 56
        },
        {
          "output_type": "display_data",
          "data": {
            "text/plain": [
              "<Figure size 432x288 with 1 Axes>"
            ],
            "image/png": "[encoded data removed]"
          },
          "metadata": {
            "needs_background": "light"
          }
        }
      ]
    },
    {
      "cell_type": "code",
      "source": [
        "df1['f1_1'].plot.bar(title = \"f1-score 1\", color = \"teal\")"
      ],
      "metadata": {
        "id": "5smL7YJAy-tT",
        "outputId": "794fc516-d1c2-4732-ee29-d353652c5d93",
        "colab": {
          "base_uri": "https://localhost:8080/",
          "height": 325
        }
      },
      "execution_count": 57,
      "outputs": [
        {
          "output_type": "execute_result",
          "data": {
            "text/plain": [
              "<matplotlib.axes._subplots.AxesSubplot at 0x7f1acd2ef950>"
            ]
          },
          "metadata": {},
          "execution_count": 57
        },
        {
          "output_type": "display_data",
          "data": {
            "text/plain": [
              "<Figure size 432x288 with 1 Axes>"
            ],
            "image/png": "[encoded data removed]"
          },
          "metadata": {
            "needs_background": "light"
          }
        }
      ]
    },
    {
      "cell_type": "code",
      "source": [
        "df1['precision_0'].plot.bar(title = \"precision 0\", color = \"maroon\")\n"
      ],
      "metadata": {
        "id": "-lbIlQaDzDLE",
        "outputId": "fddf886a-7c80-4221-be44-2be09318edbd",
        "colab": {
          "base_uri": "https://localhost:8080/",
          "height": 325
        }
      },
      "execution_count": 58,
      "outputs": [
        {
          "output_type": "execute_result",
          "data": {
            "text/plain": [
              "<matplotlib.axes._subplots.AxesSubplot at 0x7f1acd2bab50>"
            ]
          },
          "metadata": {},
          "execution_count": 58
        },
        {
          "output_type": "display_data",
          "data": {
            "text/plain": [
              "<Figure size 432x288 with 1 Axes>"
            ],
            "image/png": "[encoded data removed]"
          },
          "metadata": {
            "needs_background": "light"
          }
        }
      ]
    },
    {
      "cell_type": "code",
      "source": [
        "df1['precision_1'].plot.bar(title = \"precision 1\", color = \"teal\")"
      ],
      "metadata": {
        "id": "3r3PQT7wzatf",
        "outputId": "8104fd7d-7ced-4858-8e6d-1d3132c6316d",
        "colab": {
          "base_uri": "https://localhost:8080/",
          "height": 325
        }
      },
      "execution_count": 59,
      "outputs": [
        {
          "output_type": "execute_result",
          "data": {
            "text/plain": [
              "<matplotlib.axes._subplots.AxesSubplot at 0x7f1acd2827d0>"
            ]
          },
          "metadata": {},
          "execution_count": 59
        },
        {
          "output_type": "display_data",
          "data": {
            "text/plain": [
              "<Figure size 432x288 with 1 Axes>"
            ],
            "image/png": "[encoded data removed]"
          },
          "metadata": {
            "needs_background": "light"
          }
        }
      ]
    },
    {
      "cell_type": "code",
      "source": [
        "df1['recall_0'].plot.bar(title = \"recall 0\", color = \"maroon\")"
      ],
      "metadata": {
        "id": "raWrIzCTzPiH",
        "outputId": "ba7ddf53-d788-403f-881f-b4ff350ea48f",
        "colab": {
          "base_uri": "https://localhost:8080/",
          "height": 325
        }
      },
      "execution_count": 60,
      "outputs": [
        {
          "output_type": "execute_result",
          "data": {
            "text/plain": [
              "<matplotlib.axes._subplots.AxesSubplot at 0x7f1acd252a10>"
            ]
          },
          "metadata": {},
          "execution_count": 60
        },
        {
          "output_type": "display_data",
          "data": {
            "text/plain": [
              "<Figure size 432x288 with 1 Axes>"
            ],
            "image/png": "[encoded data removed]"
          },
          "metadata": {
            "needs_background": "light"
          }
        }
      ]
    },
    {
      "cell_type": "code",
      "source": [
        "df1['recall_1'].plot.bar(title = \"recall 1\", color = \"teal\")"
      ],
      "metadata": {
        "id": "LaM89qdGzezk",
        "outputId": "327fc657-4862-463d-eda8-580d136d45e9",
        "colab": {
          "base_uri": "https://localhost:8080/",
          "height": 325
        }
      },
      "execution_count": 61,
      "outputs": [
        {
          "output_type": "execute_result",
          "data": {
            "text/plain": [
              "<matplotlib.axes._subplots.AxesSubplot at 0x7f1acd1a49d0>"
            ]
          },
          "metadata": {},
          "execution_count": 61
        },
        {
          "output_type": "display_data",
          "data": {
            "text/plain": [
              "<Figure size 432x288 with 1 Axes>"
            ],
            "image/png": "[encoded data removed]"
          },
          "metadata": {
            "needs_background": "light"
          }
        }
      ]
    },
    {
      "cell_type": "code",
      "source": [
        "M1 = [a1,f1,p1,r1]\n",
        "M2 = [a2,f2,p2,r2]\n",
        "M3 = [a3,f3,p3,r3]\n",
        "M4 = [a4,f4,p4,r4]\n",
        "M5 = [a5,f5,p5,r5]\n",
        "\n",
        "\n",
        "index = ['acc', 'f1', 'precision','recall']\n",
        "df_1 = pd.DataFrame({'Model1': M1,\n",
        "                   'Model2': M2, 'Model3':M3, 'Model4':M4, 'Model5':M5}, index=index)\n",
        "display(df_1)\n",
        "ax = df_1.plot.bar(title=\"Comparing the evaluations of all models\")\n",
        "plt.legend(loc='lower left')\n",
        "ax.set_xlabel(\"evaluation metric\")\n",
        "ax.set_ylabel(\"score\")"
      ],
      "metadata": {
        "id": "HTavZsQX5L51",
        "outputId": "327084e0-6eb1-43fd-b92b-41db5a1ce719",
        "colab": {
          "base_uri": "https://localhost:8080/",
          "height": 505
        }
      },
      "execution_count": 98,
      "outputs": [
        {
          "output_type": "display_data",
          "data": {
            "text/plain": [
              "             Model1    Model2    Model3    Model4    Model5\n",
              "acc        0.968116  0.799034  0.857971  0.969082  0.911111\n",
              "f1         0.944538  0.735369  0.772093  0.944637  0.859327\n",
              "precision  0.952542  0.594650  0.721739  0.982014  0.793785\n",
              "recall     0.936667  0.963333  0.830000  0.910000  0.936667"
            ],
            "text/html": [
              "\n",
              "  <div id=\"df-19271c46-5354-4002-8963-0d7ac79c6c06\">\n",
              "    <div class=\"colab-df-container\">\n",
              "      <div>\n",
              "<style scoped>\n",
              "    .dataframe tbody tr th:only-of-type {\n",
              "        vertical-align: middle;\n",
              "    }\n",
              "\n",
              "    .dataframe tbody tr th {\n",
              "        vertical-align: top;\n",
              "    }\n",
              "\n",
              "    .dataframe thead th {\n",
              "        text-align: right;\n",
              "    }\n",
              "</style>\n",
              "<table border=\"1\" class=\"dataframe\">\n",
              "  <thead>\n",
              "    <tr style=\"text-align: right;\">\n",
              "      <th></th>\n",
              "      <th>Model1</th>\n",
              "      <th>Model2</th>\n",
              "      <th>Model3</th>\n",
              "      <th>Model4</th>\n",
              "      <th>Model5</th>\n",
              "    </tr>\n",
              "  </thead>\n",
              "  <tbody>\n",
              "    <tr>\n",
              "      <th>acc</th>\n",
              "      <td>0.968116</td>\n",
              "      <td>0.799034</td>\n",
              "      <td>0.857971</td>\n",
              "      <td>0.969082</td>\n",
              "      <td>0.911111</td>\n",
              "    </tr>\n",
              "    <tr>\n",
              "      <th>f1</th>\n",
              "      <td>0.944538</td>\n",
              "      <td>0.735369</td>\n",
              "      <td>0.772093</td>\n",
              "      <td>0.944637</td>\n",
              "      <td>0.859327</td>\n",
              "    </tr>\n",
              "    <tr>\n",
              "      <th>precision</th>\n",
              "      <td>0.952542</td>\n",
              "      <td>0.594650</td>\n",
              "      <td>0.721739</td>\n",
              "      <td>0.982014</td>\n",
              "      <td>0.793785</td>\n",
              "    </tr>\n",
              "    <tr>\n",
              "      <th>recall</th>\n",
              "      <td>0.936667</td>\n",
              "      <td>0.963333</td>\n",
              "      <td>0.830000</td>\n",
              "      <td>0.910000</td>\n",
              "      <td>0.936667</td>\n",
              "    </tr>\n",
              "  </tbody>\n",
              "</table>\n",
              "</div>\n",
              "      <button class=\"colab-df-convert\" onclick=\"convertToInteractive('df-19271c46-5354-4002-8963-0d7ac79c6c06')\"\n",
              "              title=\"Convert this dataframe to an interactive table.\"\n",
              "              style=\"display:none;\">\n",
              "        \n",
              "  <svg xmlns=\"http://www.w3.org/2000/svg\" height=\"24px\"viewBox=\"0 0 24 24\"\n",
              "       width=\"24px\">\n",
              "    <path d=\"M0 0h24v24H0V0z\" fill=\"none\"/>\n",
              "    <path d=\"M18.56 5.44l.94 2.06.94-2.06 2.06-.94-2.06-.94-.94-2.06-.94 2.06-2.06.94zm-11 1L8.5 8.5l.94-2.06 2.06-.94-2.06-.94L8.5 2.5l-.94 2.06-2.06.94zm10 10l.94 2.06.94-2.06 2.06-.94-2.06-.94-.94-2.06-.94 2.06-2.06.94z\"/><path d=\"M17.41 7.96l-1.37-1.37c-.4-.4-.92-.59-1.43-.59-.52 0-1.04.2-1.43.59L10.3 9.45l-7.72 7.72c-.78.78-.78 2.05 0 2.83L4 21.41c.39.39.9.59 1.41.59.51 0 1.02-.2 1.41-.59l7.78-7.78 2.81-2.81c.8-.78.8-2.07 0-2.86zM5.41 20L4 18.59l7.72-7.72 1.47 1.35L5.41 20z\"/>\n",
              "  </svg>\n",
              "      </button>\n",
              "      \n",
              "  <style>\n",
              "    .colab-df-container {\n",
              "      display:flex;\n",
              "      flex-wrap:wrap;\n",
              "      gap: 12px;\n",
              "    }\n",
              "\n",
              "    .colab-df-convert {\n",
              "      background-color: #E8F0FE;\n",
              "      border: none;\n",
              "      border-radius: 50%;\n",
              "      cursor: pointer;\n",
              "      display: none;\n",
              "      fill: #1967D2;\n",
              "      height: 32px;\n",
              "      padding: 0 0 0 0;\n",
              "      width: 32px;\n",
              "    }\n",
              "\n",
              "    .colab-df-convert:hover {\n",
              "      background-color: #E2EBFA;\n",
              "      box-shadow: 0px 1px 2px rgba(60, 64, 67, 0.3), 0px 1px 3px 1px rgba(60, 64, 67, 0.15);\n",
              "      fill: #174EA6;\n",
              "    }\n",
              "\n",
              "    [theme=dark] .colab-df-convert {\n",
              "      background-color: #3B4455;\n",
              "      fill: #D2E3FC;\n",
              "    }\n",
              "\n",
              "    [theme=dark] .colab-df-convert:hover {\n",
              "      background-color: #434B5C;\n",
              "      box-shadow: 0px 1px 3px 1px rgba(0, 0, 0, 0.15);\n",
              "      filter: drop-shadow(0px 1px 2px rgba(0, 0, 0, 0.3));\n",
              "      fill: #FFFFFF;\n",
              "    }\n",
              "  </style>\n",
              "\n",
              "      <script>\n",
              "        const buttonEl =\n",
              "          document.querySelector('#df-19271c46-5354-4002-8963-0d7ac79c6c06 button.colab-df-convert');\n",
              "        buttonEl.style.display =\n",
              "          google.colab.kernel.accessAllowed ? 'block' : 'none';\n",
              "\n",
              "        async function convertToInteractive(key) {\n",
              "          const element = document.querySelector('#df-19271c46-5354-4002-8963-0d7ac79c6c06');\n",
              "          const dataTable =\n",
              "            await google.colab.kernel.invokeFunction('convertToInteractive',\n",
              "                                                     [key], {});\n",
              "          if (!dataTable) return;\n",
              "\n",
              "          const docLinkHtml = 'Like what you see? Visit the ' +\n",
              "            '<a target=\"_blank\" href=https://colab.research.google.com/notebooks/data_table.ipynb>data table notebook</a>'\n",
              "            + ' to learn more about interactive tables.';\n",
              "          element.innerHTML = '';\n",
              "          dataTable['output_type'] = 'display_data';\n",
              "          await google.colab.output.renderOutput(dataTable, element);\n",
              "          const docLink = document.createElement('div');\n",
              "          docLink.innerHTML = docLinkHtml;\n",
              "          element.appendChild(docLink);\n",
              "        }\n",
              "      </script>\n",
              "    </div>\n",
              "  </div>\n",
              "  "
            ]
          },
          "metadata": {}
        },
        {
          "output_type": "execute_result",
          "data": {
            "text/plain": [
              "Text(0, 0.5, 'score')"
            ]
          },
          "metadata": {},
          "execution_count": 98
        },
        {
          "output_type": "display_data",
          "data": {
            "text/plain": [
              "<Figure size 432x288 with 1 Axes>"
            ],
            "image/png": "[encoded data removed]"
          },
          "metadata": {
            "needs_background": "light"
          }
        }
      ]
    },
    {
      "cell_type": "markdown",
      "source": [
        "## 4c. Recommended model and reasons"
      ],
      "metadata": {
        "id": "NWlXiwfID4eR"
      }
    },
    {
      "cell_type": "markdown",
      "source": [
        "Model 4 is recommended. This is because the model 4 accuracy, f1 for class 0, f1 for class 1, precision for class 0 and recall for class 1 is the highest amongst all the other models. It should also be noted that is has the highest micro average too. Thus model 4 is expected to perform the best when prediciting using the test data set. \n",
        "\n",
        "As seen in figure 1, the data set is not balanced since the number of records seen in class 1 is bigger than class 2 for all sets of data (training, validation.testing). Even though model 4 has the highest accuracy, this recommendation is not only based off of that. Model 4 has the highest precision among all the models. This shows that model 4 is able to predict positive records that as positive best. Although model 2 has the best recall score, the best f1-score is also found in model 4. Precision is seen as the measure of quality and recall is seen as the measure of quantity. Precision tells us how much the models returns the more relevant results than the irrelevant ones while recalls tells us how much the model returns most of the relevant results (whether or not irrelevant ones are also returned). If we choose to value quality over quantity, model 4 take precedent over model 2. \n"
      ],
      "metadata": {
        "id": "ZpdSQn9W0lsV"
      }
    },
    {
      "cell_type": "markdown",
      "source": [
        "# 5. Evaluation using test set"
      ],
      "metadata": {
        "id": "twjWz8S2D8aO"
      }
    },
    {
      "cell_type": "code",
      "source": [
        "clean_test_x_join = [\" \".join(i) for i in clean_test_x] #turn to string for count_vector \n",
        "def report_test(Model):\n",
        "  predicted = Model.predict(clean_test_x_join)\n",
        "  return classification_report(predicted,test_y)\n",
        "\n",
        "\n",
        "print(\"Model 1\")\n",
        "report1= report_test(Model1)\n",
        "print(report1)\n",
        "a1 = get_accuracy(Model1,clean_test_x_join,test_y)\n",
        "f1 = get_f1_score(Model1,clean_test_x_join,test_y)\n",
        "p1  = get_precision(Model1,clean_test_x_join,test_y)\n",
        "r1 = get_recall(Model1,clean_test_x_join,test_y)\n",
        "print(f\"accuracy: {a1}\")\n",
        "print(f\"f1 score: {f1}\")\n",
        "print(f\"precision: {p1}\")\n",
        "print(f\"recall: {r1}\")\n",
        "print(\"------------------------------------------------------------------------------------------------------\")\n",
        "\n",
        "\n",
        "print(\"Model 2\")\n",
        "report2 = report_test(Model2)\n",
        "print(report2)\n",
        "a2 = get_accuracy(Model2,clean_test_x_join,test_y)\n",
        "f2 = get_f1_score(Model2,clean_test_x_join,test_y)\n",
        "p2  = get_precision(Model2,clean_test_x_join,test_y)\n",
        "r2 = get_recall(Model2,clean_test_x_join,test_y)\n",
        "print(f\"accuracy: {a2}\")\n",
        "print(f\"f1 score: {f2}\")\n",
        "print(f\"precision: {p2}\")\n",
        "print(f\"recall: {r2}\")\n",
        "print(\"------------------------------------------------------------------------------------------------------\")\n",
        "\n",
        "\n",
        "\n",
        "print(\"Model 3\")\n",
        "report3= report_test(Model3)\n",
        "print(report3)\n",
        "a3 = get_accuracy(Model3,clean_test_x_join,test_y)\n",
        "f3 = get_f1_score(Model3,clean_test_x_join,test_y)\n",
        "p3  = get_precision(Model3,clean_test_x_join,test_y)\n",
        "r3 = get_recall(Model3,clean_test_x_join,test_y)\n",
        "print(f\"accuracy: {a3}\")\n",
        "print(f\"f1 score: {f3}\")\n",
        "print(f\"precision: {p3}\")\n",
        "print(f\"recall: {r3}\")\n",
        "print(\"------------------------------------------------------------------------------------------------------\")\n",
        "\n",
        "\n",
        "print(\"Model 4\")\n",
        "report4 = report_test(Model4)\n",
        "print(report4)\n",
        "a4 = get_accuracy(Model4,clean_test_x_join,test_y)\n",
        "f4 = get_f1_score(Model4,clean_test_x_join,test_y)\n",
        "p4  = get_precision(Model4,clean_test_x_join,test_y)\n",
        "r4 = get_recall(Model4,clean_test_x_join,test_y)\n",
        "print(f\"accuracy: {a4}\")\n",
        "print(f\"f1 score: {f4}\")\n",
        "print(f\"precision: {p4}\")\n",
        "print(f\"recall: {r4}\")\n",
        "print(\"------------------------------------------------------------------------------------------------------\")\n",
        "\n",
        "\n",
        "print(\"Model 5\")\n",
        "report5 = report_test(Model5)\n",
        "print(report5)\n",
        "a5 = get_accuracy(Model5,clean_test_x_join,test_y)\n",
        "f5 = get_f1_score(Model5,clean_test_x_join,test_y)\n",
        "p5  = get_precision(Model5,clean_test_x_join,test_y)\n",
        "r5 = get_recall(Model5,clean_test_x_join,test_y)\n",
        "print(f\"accuracy: {a5}\")\n",
        "print(f\"f1 score: {f5}\")\n",
        "print(f\"precision: {p5}\")\n",
        "print(f\"recall: {r5}\")\n",
        "print(\"------------------------------------------------------------------------------------------------------\")\n"
      ],
      "metadata": {
        "id": "KO1zZytfECtS",
        "colab": {
          "base_uri": "https://localhost:8080/"
        },
        "outputId": "dc53ec91-54cf-4fb8-c1ae-feccfd2e15ff"
      },
      "execution_count": 101,
      "outputs": [
        {
          "output_type": "stream",
          "name": "stdout",
          "text": [
            "Model 1\n",
            "              precision    recall  f1-score   support\n",
            "\n",
            "           0       0.99      0.97      0.98       750\n",
            "           1       0.92      0.97      0.95       284\n",
            "\n",
            "    accuracy                           0.97      1034\n",
            "   macro avg       0.95      0.97      0.96      1034\n",
            "weighted avg       0.97      0.97      0.97      1034\n",
            "\n",
            "accuracy: 0.9690522243713733\n",
            "f1 score: 0.9452054794520549\n",
            "precision: 0.971830985915493\n",
            "recall: 0.92\n",
            "------------------------------------------------------------------------------------------------------\n",
            "Model 2\n",
            "              precision    recall  f1-score   support\n",
            "\n",
            "           0       0.74      0.98      0.84       557\n",
            "           1       0.96      0.60      0.74       477\n",
            "\n",
            "    accuracy                           0.81      1034\n",
            "   macro avg       0.85      0.79      0.79      1034\n",
            "weighted avg       0.84      0.81      0.80      1034\n",
            "\n",
            "accuracy: 0.8056092843326886\n",
            "f1 score: 0.7413127413127413\n",
            "precision: 0.6037735849056604\n",
            "recall: 0.96\n",
            "------------------------------------------------------------------------------------------------------\n",
            "Model 3\n",
            "              precision    recall  f1-score   support\n",
            "\n",
            "           0       0.88      0.93      0.91       693\n",
            "           1       0.85      0.74      0.79       341\n",
            "\n",
            "    accuracy                           0.87      1034\n",
            "   macro avg       0.86      0.84      0.85      1034\n",
            "weighted avg       0.87      0.87      0.87      1034\n",
            "\n",
            "accuracy: 0.8713733075435203\n",
            "f1 score: 0.7925117004680187\n",
            "precision: 0.7448680351906158\n",
            "recall: 0.8466666666666667\n",
            "------------------------------------------------------------------------------------------------------\n",
            "Model 4\n",
            "              precision    recall  f1-score   support\n",
            "\n",
            "           0       0.99      0.96      0.98       760\n",
            "           1       0.90      0.98      0.94       274\n",
            "\n",
            "    accuracy                           0.97      1034\n",
            "   macro avg       0.94      0.97      0.96      1034\n",
            "weighted avg       0.97      0.97      0.97      1034\n",
            "\n",
            "accuracy: 0.965183752417795\n",
            "f1 score: 0.9372822299651568\n",
            "precision: 0.9817518248175182\n",
            "recall: 0.8966666666666666\n",
            "------------------------------------------------------------------------------------------------------\n",
            "Model 5\n",
            "              precision    recall  f1-score   support\n",
            "\n",
            "           0       0.93      0.97      0.95       707\n",
            "           1       0.92      0.84      0.88       327\n",
            "\n",
            "    accuracy                           0.93      1034\n",
            "   macro avg       0.93      0.91      0.91      1034\n",
            "weighted avg       0.93      0.93      0.93      1034\n",
            "\n",
            "accuracy: 0.9274661508704062\n",
            "f1 score: 0.8803827751196172\n",
            "precision: 0.8440366972477065\n",
            "recall: 0.92\n",
            "------------------------------------------------------------------------------------------------------\n"
          ]
        }
      ]
    },
    {
      "cell_type": "markdown",
      "source": [
        "## 5b. Is recommendation still valid?"
      ],
      "metadata": {
        "id": "ChR2iLqsEDOT"
      }
    },
    {
      "cell_type": "code",
      "source": [
        "M1 = [a1,f1,p1,r1]\n",
        "M2 = [a2,f2,p2,r2]\n",
        "M3 = [a3,f3,p3,r3]\n",
        "M4 = [a4,f4,p4,r4]\n",
        "M5 = [a5,f5,p5,r5]\n",
        "\n",
        "\n",
        "index = ['acc', 'f1', 'precision','recall']\n",
        "df_2 = pd.DataFrame({'Model1': M1,\n",
        "                   'Model2': M2, 'Model3':M3, 'Model4':M4, 'Model5':M5}, index=index)\n",
        "display(df_2)\n",
        "ax = df_2.plot.bar(title=\"Comparing the evaluations of all models\")\n",
        "plt.legend(loc='lower left')\n",
        "ax.set_xlabel(\"evaluation metric\")\n",
        "ax.set_ylabel(\"score\")"
      ],
      "metadata": {
        "id": "b7BmTEPOFdZv",
        "outputId": "9535fc94-3799-432f-8311-07008716316e",
        "colab": {
          "base_uri": "https://localhost:8080/",
          "height": 505
        }
      },
      "execution_count": 102,
      "outputs": [
        {
          "output_type": "display_data",
          "data": {
            "text/plain": [
              "             Model1    Model2    Model3    Model4    Model5\n",
              "acc        0.969052  0.805609  0.871373  0.965184  0.927466\n",
              "f1         0.945205  0.741313  0.792512  0.937282  0.880383\n",
              "precision  0.971831  0.603774  0.744868  0.981752  0.844037\n",
              "recall     0.920000  0.960000  0.846667  0.896667  0.920000"
            ],
            "text/html": [
              "\n",
              "  <div id=\"df-ab31344b-0f66-4c5d-aecc-685f795ae675\">\n",
              "    <div class=\"colab-df-container\">\n",
              "      <div>\n",
              "<style scoped>\n",
              "    .dataframe tbody tr th:only-of-type {\n",
              "        vertical-align: middle;\n",
              "    }\n",
              "\n",
              "    .dataframe tbody tr th {\n",
              "        vertical-align: top;\n",
              "    }\n",
              "\n",
              "    .dataframe thead th {\n",
              "        text-align: right;\n",
              "    }\n",
              "</style>\n",
              "<table border=\"1\" class=\"dataframe\">\n",
              "  <thead>\n",
              "    <tr style=\"text-align: right;\">\n",
              "      <th></th>\n",
              "      <th>Model1</th>\n",
              "      <th>Model2</th>\n",
              "      <th>Model3</th>\n",
              "      <th>Model4</th>\n",
              "      <th>Model5</th>\n",
              "    </tr>\n",
              "  </thead>\n",
              "  <tbody>\n",
              "    <tr>\n",
              "      <th>acc</th>\n",
              "      <td>0.969052</td>\n",
              "      <td>0.805609</td>\n",
              "      <td>0.871373</td>\n",
              "      <td>0.965184</td>\n",
              "      <td>0.927466</td>\n",
              "    </tr>\n",
              "    <tr>\n",
              "      <th>f1</th>\n",
              "      <td>0.945205</td>\n",
              "      <td>0.741313</td>\n",
              "      <td>0.792512</td>\n",
              "      <td>0.937282</td>\n",
              "      <td>0.880383</td>\n",
              "    </tr>\n",
              "    <tr>\n",
              "      <th>precision</th>\n",
              "      <td>0.971831</td>\n",
              "      <td>0.603774</td>\n",
              "      <td>0.744868</td>\n",
              "      <td>0.981752</td>\n",
              "      <td>0.844037</td>\n",
              "    </tr>\n",
              "    <tr>\n",
              "      <th>recall</th>\n",
              "      <td>0.920000</td>\n",
              "      <td>0.960000</td>\n",
              "      <td>0.846667</td>\n",
              "      <td>0.896667</td>\n",
              "      <td>0.920000</td>\n",
              "    </tr>\n",
              "  </tbody>\n",
              "</table>\n",
              "</div>\n",
              "      <button class=\"colab-df-convert\" onclick=\"convertToInteractive('df-ab31344b-0f66-4c5d-aecc-685f795ae675')\"\n",
              "              title=\"Convert this dataframe to an interactive table.\"\n",
              "              style=\"display:none;\">\n",
              "        \n",
              "  <svg xmlns=\"http://www.w3.org/2000/svg\" height=\"24px\"viewBox=\"0 0 24 24\"\n",
              "       width=\"24px\">\n",
              "    <path d=\"M0 0h24v24H0V0z\" fill=\"none\"/>\n",
              "    <path d=\"M18.56 5.44l.94 2.06.94-2.06 2.06-.94-2.06-.94-.94-2.06-.94 2.06-2.06.94zm-11 1L8.5 8.5l.94-2.06 2.06-.94-2.06-.94L8.5 2.5l-.94 2.06-2.06.94zm10 10l.94 2.06.94-2.06 2.06-.94-2.06-.94-.94-2.06-.94 2.06-2.06.94z\"/><path d=\"M17.41 7.96l-1.37-1.37c-.4-.4-.92-.59-1.43-.59-.52 0-1.04.2-1.43.59L10.3 9.45l-7.72 7.72c-.78.78-.78 2.05 0 2.83L4 21.41c.39.39.9.59 1.41.59.51 0 1.02-.2 1.41-.59l7.78-7.78 2.81-2.81c.8-.78.8-2.07 0-2.86zM5.41 20L4 18.59l7.72-7.72 1.47 1.35L5.41 20z\"/>\n",
              "  </svg>\n",
              "      </button>\n",
              "      \n",
              "  <style>\n",
              "    .colab-df-container {\n",
              "      display:flex;\n",
              "      flex-wrap:wrap;\n",
              "      gap: 12px;\n",
              "    }\n",
              "\n",
              "    .colab-df-convert {\n",
              "      background-color: #E8F0FE;\n",
              "      border: none;\n",
              "      border-radius: 50%;\n",
              "      cursor: pointer;\n",
              "      display: none;\n",
              "      fill: #1967D2;\n",
              "      height: 32px;\n",
              "      padding: 0 0 0 0;\n",
              "      width: 32px;\n",
              "    }\n",
              "\n",
              "    .colab-df-convert:hover {\n",
              "      background-color: #E2EBFA;\n",
              "      box-shadow: 0px 1px 2px rgba(60, 64, 67, 0.3), 0px 1px 3px 1px rgba(60, 64, 67, 0.15);\n",
              "      fill: #174EA6;\n",
              "    }\n",
              "\n",
              "    [theme=dark] .colab-df-convert {\n",
              "      background-color: #3B4455;\n",
              "      fill: #D2E3FC;\n",
              "    }\n",
              "\n",
              "    [theme=dark] .colab-df-convert:hover {\n",
              "      background-color: #434B5C;\n",
              "      box-shadow: 0px 1px 3px 1px rgba(0, 0, 0, 0.15);\n",
              "      filter: drop-shadow(0px 1px 2px rgba(0, 0, 0, 0.3));\n",
              "      fill: #FFFFFF;\n",
              "    }\n",
              "  </style>\n",
              "\n",
              "      <script>\n",
              "        const buttonEl =\n",
              "          document.querySelector('#df-ab31344b-0f66-4c5d-aecc-685f795ae675 button.colab-df-convert');\n",
              "        buttonEl.style.display =\n",
              "          google.colab.kernel.accessAllowed ? 'block' : 'none';\n",
              "\n",
              "        async function convertToInteractive(key) {\n",
              "          const element = document.querySelector('#df-ab31344b-0f66-4c5d-aecc-685f795ae675');\n",
              "          const dataTable =\n",
              "            await google.colab.kernel.invokeFunction('convertToInteractive',\n",
              "                                                     [key], {});\n",
              "          if (!dataTable) return;\n",
              "\n",
              "          const docLinkHtml = 'Like what you see? Visit the ' +\n",
              "            '<a target=\"_blank\" href=https://colab.research.google.com/notebooks/data_table.ipynb>data table notebook</a>'\n",
              "            + ' to learn more about interactive tables.';\n",
              "          element.innerHTML = '';\n",
              "          dataTable['output_type'] = 'display_data';\n",
              "          await google.colab.output.renderOutput(dataTable, element);\n",
              "          const docLink = document.createElement('div');\n",
              "          docLink.innerHTML = docLinkHtml;\n",
              "          element.appendChild(docLink);\n",
              "        }\n",
              "      </script>\n",
              "    </div>\n",
              "  </div>\n",
              "  "
            ]
          },
          "metadata": {}
        },
        {
          "output_type": "execute_result",
          "data": {
            "text/plain": [
              "Text(0, 0.5, 'score')"
            ]
          },
          "metadata": {},
          "execution_count": 102
        },
        {
          "output_type": "display_data",
          "data": {
            "text/plain": [
              "<Figure size 432x288 with 1 Axes>"
            ],
            "image/png": "[encoded data removed]"
          },
          "metadata": {
            "needs_background": "light"
          }
        }
      ]
    },
    {
      "cell_type": "markdown",
      "source": [
        "No, our recommendation is not still valid. Model 1 and Model 4 have very close scores in all evaluation metrics however, Model 1 surpasses model 4 with accuracy, f1 score and recall. Model 4 does better only with precision. Since model 1 performs best in 3 out of 4 evaluation metrics, it is the better model. "
      ],
      "metadata": {
        "id": "Emo_1HTW1XbU"
      }
    },
    {
      "cell_type": "markdown",
      "source": [
        "# 6. Implementation of 1 more variation to improve performance "
      ],
      "metadata": {
        "id": "_0kOaI7vEGFA"
      }
    },
    {
      "cell_type": "markdown",
      "source": [
        "### For our improvement we will use n_grams on features used in model 1 with the aim of improving model 1."
      ],
      "metadata": {
        "id": "eRj4pN6NOYKo"
      }
    },
    {
      "cell_type": "code",
      "source": [
        "#using a bigram \n",
        "pipeline6 = Pipeline([\n",
        "   ('bow',CountVectorizer(ngram_range=(1,2))),\n",
        "    ('classifier',MultinomialNB()),\n",
        "])"
      ],
      "metadata": {
        "id": "bebIFA3bEOju"
      },
      "execution_count": 103,
      "outputs": []
    },
    {
      "cell_type": "code",
      "source": [
        "Model6 = pipeline6.fit(clean_train_x_join,train_y) #features used in model 1"
      ],
      "metadata": {
        "id": "hu4MQnNlPHkw"
      },
      "execution_count": 104,
      "outputs": []
    },
    {
      "cell_type": "code",
      "source": [
        "print(\"Model 6\")\n",
        "report6=report_test(Model6)\n",
        "print(report6)\n",
        "a6 = get_accuracy(Model6,clean_test_x_join,test_y)\n",
        "f6 = get_f1_score(Model6,clean_test_x_join,test_y)\n",
        "p6  = get_precision(Model6,clean_test_x_join,test_y)\n",
        "r6 = get_recall(Model6,clean_test_x_join,test_y)\n",
        "print(f\"accuracy: {a6}\")\n",
        "print(f\"f1 score: {f6}\")\n",
        "print(f\"precision: {p6}\")\n",
        "print(f\"recall: {r6}\")\n",
        "print(\"------------------------------------------------------------------------------------------------------\")"
      ],
      "metadata": {
        "id": "gYvnEmQdPpk9",
        "outputId": "727ae3e0-0419-475b-e734-a47a3f1d2fd4",
        "colab": {
          "base_uri": "https://localhost:8080/"
        }
      },
      "execution_count": 105,
      "outputs": [
        {
          "output_type": "stream",
          "name": "stdout",
          "text": [
            "Model 6\n",
            "              precision    recall  f1-score   support\n",
            "\n",
            "           0       0.99      0.97      0.98       753\n",
            "           1       0.92      0.99      0.95       281\n",
            "\n",
            "    accuracy                           0.97      1034\n",
            "   macro avg       0.96      0.98      0.97      1034\n",
            "weighted avg       0.98      0.97      0.97      1034\n",
            "\n",
            "accuracy: 0.9738878143133463\n",
            "f1 score: 0.9535283993115319\n",
            "precision: 0.9857651245551602\n",
            "recall: 0.9233333333333333\n",
            "------------------------------------------------------------------------------------------------------\n"
          ]
        }
      ]
    },
    {
      "cell_type": "code",
      "source": [
        "M1 = [a1,f1,p1,r1]\n",
        "M6 = [a6,f6,p6,r6]\n",
        "\n",
        "\n",
        "index = ['acc', 'f1', 'precision','recall']\n",
        "df6 = pd.DataFrame({'Model1': M1,\n",
        "                   'Model6': M6}, index=index)\n",
        "display(df6)\n",
        "ax = df6.plot.bar(title = \"Model 1 vs Model 6\")\n",
        "ax.set_xlabel(\"evaluation metric\")\n",
        "ax.set_ylabel(\"score\")"
      ],
      "metadata": {
        "id": "hJmNrV1FVMkM",
        "outputId": "c2875c7a-b121-4d2a-f7b4-6ad342685fe7",
        "colab": {
          "base_uri": "https://localhost:8080/",
          "height": 505
        }
      },
      "execution_count": 108,
      "outputs": [
        {
          "output_type": "display_data",
          "data": {
            "text/plain": [
              "             Model1    Model6\n",
              "acc        0.969052  0.973888\n",
              "f1         0.945205  0.953528\n",
              "precision  0.971831  0.985765\n",
              "recall     0.920000  0.923333"
            ],
            "text/html": [
              "\n",
              "  <div id=\"df-03fe7b9d-f007-4282-b956-a5736c9ca122\">\n",
              "    <div class=\"colab-df-container\">\n",
              "      <div>\n",
              "<style scoped>\n",
              "    .dataframe tbody tr th:only-of-type {\n",
              "        vertical-align: middle;\n",
              "    }\n",
              "\n",
              "    .dataframe tbody tr th {\n",
              "        vertical-align: top;\n",
              "    }\n",
              "\n",
              "    .dataframe thead th {\n",
              "        text-align: right;\n",
              "    }\n",
              "</style>\n",
              "<table border=\"1\" class=\"dataframe\">\n",
              "  <thead>\n",
              "    <tr style=\"text-align: right;\">\n",
              "      <th></th>\n",
              "      <th>Model1</th>\n",
              "      <th>Model6</th>\n",
              "    </tr>\n",
              "  </thead>\n",
              "  <tbody>\n",
              "    <tr>\n",
              "      <th>acc</th>\n",
              "      <td>0.969052</td>\n",
              "      <td>0.973888</td>\n",
              "    </tr>\n",
              "    <tr>\n",
              "      <th>f1</th>\n",
              "      <td>0.945205</td>\n",
              "      <td>0.953528</td>\n",
              "    </tr>\n",
              "    <tr>\n",
              "      <th>precision</th>\n",
              "      <td>0.971831</td>\n",
              "      <td>0.985765</td>\n",
              "    </tr>\n",
              "    <tr>\n",
              "      <th>recall</th>\n",
              "      <td>0.920000</td>\n",
              "      <td>0.923333</td>\n",
              "    </tr>\n",
              "  </tbody>\n",
              "</table>\n",
              "</div>\n",
              "      <button class=\"colab-df-convert\" onclick=\"convertToInteractive('df-03fe7b9d-f007-4282-b956-a5736c9ca122')\"\n",
              "              title=\"Convert this dataframe to an interactive table.\"\n",
              "              style=\"display:none;\">\n",
              "        \n",
              "  <svg xmlns=\"http://www.w3.org/2000/svg\" height=\"24px\"viewBox=\"0 0 24 24\"\n",
              "       width=\"24px\">\n",
              "    <path d=\"M0 0h24v24H0V0z\" fill=\"none\"/>\n",
              "    <path d=\"M18.56 5.44l.94 2.06.94-2.06 2.06-.94-2.06-.94-.94-2.06-.94 2.06-2.06.94zm-11 1L8.5 8.5l.94-2.06 2.06-.94-2.06-.94L8.5 2.5l-.94 2.06-2.06.94zm10 10l.94 2.06.94-2.06 2.06-.94-2.06-.94-.94-2.06-.94 2.06-2.06.94z\"/><path d=\"M17.41 7.96l-1.37-1.37c-.4-.4-.92-.59-1.43-.59-.52 0-1.04.2-1.43.59L10.3 9.45l-7.72 7.72c-.78.78-.78 2.05 0 2.83L4 21.41c.39.39.9.59 1.41.59.51 0 1.02-.2 1.41-.59l7.78-7.78 2.81-2.81c.8-.78.8-2.07 0-2.86zM5.41 20L4 18.59l7.72-7.72 1.47 1.35L5.41 20z\"/>\n",
              "  </svg>\n",
              "      </button>\n",
              "      \n",
              "  <style>\n",
              "    .colab-df-container {\n",
              "      display:flex;\n",
              "      flex-wrap:wrap;\n",
              "      gap: 12px;\n",
              "    }\n",
              "\n",
              "    .colab-df-convert {\n",
              "      background-color: #E8F0FE;\n",
              "      border: none;\n",
              "      border-radius: 50%;\n",
              "      cursor: pointer;\n",
              "      display: none;\n",
              "      fill: #1967D2;\n",
              "      height: 32px;\n",
              "      padding: 0 0 0 0;\n",
              "      width: 32px;\n",
              "    }\n",
              "\n",
              "    .colab-df-convert:hover {\n",
              "      background-color: #E2EBFA;\n",
              "      box-shadow: 0px 1px 2px rgba(60, 64, 67, 0.3), 0px 1px 3px 1px rgba(60, 64, 67, 0.15);\n",
              "      fill: #174EA6;\n",
              "    }\n",
              "\n",
              "    [theme=dark] .colab-df-convert {\n",
              "      background-color: #3B4455;\n",
              "      fill: #D2E3FC;\n",
              "    }\n",
              "\n",
              "    [theme=dark] .colab-df-convert:hover {\n",
              "      background-color: #434B5C;\n",
              "      box-shadow: 0px 1px 3px 1px rgba(0, 0, 0, 0.15);\n",
              "      filter: drop-shadow(0px 1px 2px rgba(0, 0, 0, 0.3));\n",
              "      fill: #FFFFFF;\n",
              "    }\n",
              "  </style>\n",
              "\n",
              "      <script>\n",
              "        const buttonEl =\n",
              "          document.querySelector('#df-03fe7b9d-f007-4282-b956-a5736c9ca122 button.colab-df-convert');\n",
              "        buttonEl.style.display =\n",
              "          google.colab.kernel.accessAllowed ? 'block' : 'none';\n",
              "\n",
              "        async function convertToInteractive(key) {\n",
              "          const element = document.querySelector('#df-03fe7b9d-f007-4282-b956-a5736c9ca122');\n",
              "          const dataTable =\n",
              "            await google.colab.kernel.invokeFunction('convertToInteractive',\n",
              "                                                     [key], {});\n",
              "          if (!dataTable) return;\n",
              "\n",
              "          const docLinkHtml = 'Like what you see? Visit the ' +\n",
              "            '<a target=\"_blank\" href=https://colab.research.google.com/notebooks/data_table.ipynb>data table notebook</a>'\n",
              "            + ' to learn more about interactive tables.';\n",
              "          element.innerHTML = '';\n",
              "          dataTable['output_type'] = 'display_data';\n",
              "          await google.colab.output.renderOutput(dataTable, element);\n",
              "          const docLink = document.createElement('div');\n",
              "          docLink.innerHTML = docLinkHtml;\n",
              "          element.appendChild(docLink);\n",
              "        }\n",
              "      </script>\n",
              "    </div>\n",
              "  </div>\n",
              "  "
            ]
          },
          "metadata": {}
        },
        {
          "output_type": "execute_result",
          "data": {
            "text/plain": [
              "Text(0, 0.5, 'score')"
            ]
          },
          "metadata": {},
          "execution_count": 108
        },
        {
          "output_type": "display_data",
          "data": {
            "text/plain": [
              "<Figure size 432x288 with 1 Axes>"
            ],
            "image/png": "[encoded data removed]"
          },
          "metadata": {
            "needs_background": "light"
          }
        }
      ]
    },
    {
      "cell_type": "markdown",
      "source": [
        "## Discussion:\n",
        "Model 6 aimed to improved the best model which is model 1. We utilized n_grams in the count vector in this new variation. This means the corpus will consist of strings of n-words. In this variation, we set the max n to be 2 which results in a bigram. This alteration of our model, improved the model1 (using the test data) on all evaluation metrics. "
      ],
      "metadata": {
        "id": "5S00r5eXckkk"
      }
    },
    {
      "cell_type": "code",
      "source": [],
      "metadata": {
        "id": "HiO1pB6hL10L"
      },
      "execution_count": null,
      "outputs": []
    }
  ]
}
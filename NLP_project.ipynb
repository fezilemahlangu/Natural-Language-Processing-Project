{
  "nbformat": 4,
  "nbformat_minor": 0,
  "metadata": {
    "colab": {
      "provenance": [],
      "mount_file_id": "1yHi_jSGozeVQir0yWrR_AvAeLs9s4haZ",
      "authorship_tag": "ABX9TyM01S160Sqg9qwNmKQECkkD",
      "include_colab_link": true
    },
    "kernelspec": {
      "name": "python3",
      "display_name": "Python 3"
    },
    "language_info": {
      "name": "python"
    }
  },
  "cells": [
    {
      "cell_type": "markdown",
      "metadata": {
        "id": "view-in-github",
        "colab_type": "text"
      },
      "source": [
        "<a href=\"https://colab.research.google.com/github/fezilemahlangu/Natural-Language-Processing-Project/blob/main/NLP_project.ipynb\" target=\"_parent\"><img src=\"https://colab.research.google.com/assets/colab-badge.svg\" alt=\"Open In Colab\"/></a>"
      ]
    },
    {
      "cell_type": "markdown",
      "source": [
        "#Fezile Mahlangu \n",
        "\n",
        "#2089676\n",
        "\n",
        "#NLP Project \n",
        "\n",
        "\n",
        "---\n",
        "\n",
        "Project: Spam Classification Using Naive Bayes\n",
        "\n",
        "Aim: Train and optimize a spam classifier using Naive Bayes classification model\n",
        "\n",
        "Tasks:\n",
        "- [ ] Implement a Naive Bayes Model\n",
        "- [ ] Investigate the effect of using different features \n",
        "- [ ] Evaluate the performance of different models\n",
        "- [ ] Optimize the model for better performance\n",
        "\n",
        "\n"
      ],
      "metadata": {
        "id": "0Y1HgjYg_FCE"
      }
    },
    {
      "cell_type": "markdown",
      "source": [
        "\n",
        "\n",
        "---\n",
        "\n"
      ],
      "metadata": {
        "id": "qb81hvjKNksD"
      }
    },
    {
      "cell_type": "markdown",
      "source": [
        "# Imports"
      ],
      "metadata": {
        "id": "hCYvB5ipLtJ3"
      }
    },
    {
      "cell_type": "code",
      "execution_count": 36,
      "metadata": {
        "id": "S33aocZe-etl",
        "colab": {
          "base_uri": "https://localhost:8080/"
        },
        "outputId": "cda0ff8d-516e-4c49-ab4a-094afd88e502"
      },
      "outputs": [
        {
          "output_type": "stream",
          "name": "stderr",
          "text": [
            "[nltk_data] Downloading package stopwords to /root/nltk_data...\n",
            "[nltk_data]   Package stopwords is already up-to-date!\n",
            "[nltk_data] Downloading package wordnet to /root/nltk_data...\n",
            "[nltk_data]   Package wordnet is already up-to-date!\n",
            "[nltk_data] Downloading package omw-1.4 to /root/nltk_data...\n",
            "[nltk_data]   Package omw-1.4 is already up-to-date!\n"
          ]
        }
      ],
      "source": [
        "import numpy as np\n",
        "import pandas as pd\n",
        "import nltk\n",
        "nltk.download('stopwords')\n",
        "from nltk.tokenize import word_tokenize, wordpunct_tokenize\n",
        "nltk.download(\"wordnet\")\n",
        "from nltk.stem.wordnet import WordNetLemmatizer \n",
        "from nltk.tokenize import RegexpTokenizer\n",
        "nltk.download('omw-1.4')\n",
        "\n",
        "from sklearn.naive_bayes import MultinomialNB\n",
        "from sklearn.feature_extraction.text import CountVectorizer\n",
        "from sklearn.metrics import accuracy_score, precision_recall_fscore_support, confusion_matrix,f1_score\n",
        "from sklearn.metrics import ConfusionMatrixDisplay"
      ]
    },
    {
      "cell_type": "markdown",
      "source": [
        "# Loading data"
      ],
      "metadata": {
        "id": "yEImhTNLLwU7"
      }
    },
    {
      "cell_type": "code",
      "source": [
        "#loading data -> Remember to remove drive path and use normal path\n",
        "\n",
        "train_df = pd.read_csv(\"/content/drive/MyDrive/NLP/train.csv\")\n",
        "val_df = pd.read_csv(\"/content/drive/MyDrive/NLP/val.csv\")\n",
        "test_df = pd.read_csv(\"/content/drive/MyDrive/NLP/test.csv\")\n",
        "display(train_df)"
      ],
      "metadata": {
        "colab": {
          "base_uri": "https://localhost:8080/",
          "height": 424
        },
        "id": "GCpy9615-sCa",
        "outputId": "f90dfe58-394e-4e6b-edfd-1c09ffca440e"
      },
      "execution_count": 3,
      "outputs": [
        {
          "output_type": "display_data",
          "data": {
            "text/plain": [
              "                                                   text  label\n",
              "0     Subject: thank you\\r\\nami and daren , , , ,\\r\\...      0\n",
              "1     Subject: spot or firm tickets\\r\\nvance ,\\r\\nth...      0\n",
              "2     Subject: software\\r\\nmicrosoft windows xp prof...      1\n",
              "3     Subject: noms / actual flow for 2 / 27\\r\\nwe a...      0\n",
              "4     Subject: superb so . ftware\\r\\nyoull discover ...      1\n",
              "...                                                 ...    ...\n",
              "3097  Subject: \\r\\n( envelope - from 20040929124340 ...      1\n",
              "3098  Subject: re : intraday eastrans nomination cha...      0\n",
              "3099  Subject: meter 1601\\r\\ndaren - meter 1601 has ...      0\n",
              "3100  Subject: need legal help ?\\r\\nto unsubscribe f...      1\n",
              "3101  Subject: re : tuesday , december 26 th\\r\\nmary...      0\n",
              "\n",
              "[3102 rows x 2 columns]"
            ],
            "text/html": [
              "\n",
              "  <div id=\"df-33424b14-f56d-4b4d-acb5-3e864491805b\">\n",
              "    <div class=\"colab-df-container\">\n",
              "      <div>\n",
              "<style scoped>\n",
              "    .dataframe tbody tr th:only-of-type {\n",
              "        vertical-align: middle;\n",
              "    }\n",
              "\n",
              "    .dataframe tbody tr th {\n",
              "        vertical-align: top;\n",
              "    }\n",
              "\n",
              "    .dataframe thead th {\n",
              "        text-align: right;\n",
              "    }\n",
              "</style>\n",
              "<table border=\"1\" class=\"dataframe\">\n",
              "  <thead>\n",
              "    <tr style=\"text-align: right;\">\n",
              "      <th></th>\n",
              "      <th>text</th>\n",
              "      <th>label</th>\n",
              "    </tr>\n",
              "  </thead>\n",
              "  <tbody>\n",
              "    <tr>\n",
              "      <th>0</th>\n",
              "      <td>Subject: thank you\\r\\nami and daren , , , ,\\r\\...</td>\n",
              "      <td>0</td>\n",
              "    </tr>\n",
              "    <tr>\n",
              "      <th>1</th>\n",
              "      <td>Subject: spot or firm tickets\\r\\nvance ,\\r\\nth...</td>\n",
              "      <td>0</td>\n",
              "    </tr>\n",
              "    <tr>\n",
              "      <th>2</th>\n",
              "      <td>Subject: software\\r\\nmicrosoft windows xp prof...</td>\n",
              "      <td>1</td>\n",
              "    </tr>\n",
              "    <tr>\n",
              "      <th>3</th>\n",
              "      <td>Subject: noms / actual flow for 2 / 27\\r\\nwe a...</td>\n",
              "      <td>0</td>\n",
              "    </tr>\n",
              "    <tr>\n",
              "      <th>4</th>\n",
              "      <td>Subject: superb so . ftware\\r\\nyoull discover ...</td>\n",
              "      <td>1</td>\n",
              "    </tr>\n",
              "    <tr>\n",
              "      <th>...</th>\n",
              "      <td>...</td>\n",
              "      <td>...</td>\n",
              "    </tr>\n",
              "    <tr>\n",
              "      <th>3097</th>\n",
              "      <td>Subject: \\r\\n( envelope - from 20040929124340 ...</td>\n",
              "      <td>1</td>\n",
              "    </tr>\n",
              "    <tr>\n",
              "      <th>3098</th>\n",
              "      <td>Subject: re : intraday eastrans nomination cha...</td>\n",
              "      <td>0</td>\n",
              "    </tr>\n",
              "    <tr>\n",
              "      <th>3099</th>\n",
              "      <td>Subject: meter 1601\\r\\ndaren - meter 1601 has ...</td>\n",
              "      <td>0</td>\n",
              "    </tr>\n",
              "    <tr>\n",
              "      <th>3100</th>\n",
              "      <td>Subject: need legal help ?\\r\\nto unsubscribe f...</td>\n",
              "      <td>1</td>\n",
              "    </tr>\n",
              "    <tr>\n",
              "      <th>3101</th>\n",
              "      <td>Subject: re : tuesday , december 26 th\\r\\nmary...</td>\n",
              "      <td>0</td>\n",
              "    </tr>\n",
              "  </tbody>\n",
              "</table>\n",
              "<p>3102 rows × 2 columns</p>\n",
              "</div>\n",
              "      <button class=\"colab-df-convert\" onclick=\"convertToInteractive('df-33424b14-f56d-4b4d-acb5-3e864491805b')\"\n",
              "              title=\"Convert this dataframe to an interactive table.\"\n",
              "              style=\"display:none;\">\n",
              "        \n",
              "  <svg xmlns=\"http://www.w3.org/2000/svg\" height=\"24px\"viewBox=\"0 0 24 24\"\n",
              "       width=\"24px\">\n",
              "    <path d=\"M0 0h24v24H0V0z\" fill=\"none\"/>\n",
              "    <path d=\"M18.56 5.44l.94 2.06.94-2.06 2.06-.94-2.06-.94-.94-2.06-.94 2.06-2.06.94zm-11 1L8.5 8.5l.94-2.06 2.06-.94-2.06-.94L8.5 2.5l-.94 2.06-2.06.94zm10 10l.94 2.06.94-2.06 2.06-.94-2.06-.94-.94-2.06-.94 2.06-2.06.94z\"/><path d=\"M17.41 7.96l-1.37-1.37c-.4-.4-.92-.59-1.43-.59-.52 0-1.04.2-1.43.59L10.3 9.45l-7.72 7.72c-.78.78-.78 2.05 0 2.83L4 21.41c.39.39.9.59 1.41.59.51 0 1.02-.2 1.41-.59l7.78-7.78 2.81-2.81c.8-.78.8-2.07 0-2.86zM5.41 20L4 18.59l7.72-7.72 1.47 1.35L5.41 20z\"/>\n",
              "  </svg>\n",
              "      </button>\n",
              "      \n",
              "  <style>\n",
              "    .colab-df-container {\n",
              "      display:flex;\n",
              "      flex-wrap:wrap;\n",
              "      gap: 12px;\n",
              "    }\n",
              "\n",
              "    .colab-df-convert {\n",
              "      background-color: #E8F0FE;\n",
              "      border: none;\n",
              "      border-radius: 50%;\n",
              "      cursor: pointer;\n",
              "      display: none;\n",
              "      fill: #1967D2;\n",
              "      height: 32px;\n",
              "      padding: 0 0 0 0;\n",
              "      width: 32px;\n",
              "    }\n",
              "\n",
              "    .colab-df-convert:hover {\n",
              "      background-color: #E2EBFA;\n",
              "      box-shadow: 0px 1px 2px rgba(60, 64, 67, 0.3), 0px 1px 3px 1px rgba(60, 64, 67, 0.15);\n",
              "      fill: #174EA6;\n",
              "    }\n",
              "\n",
              "    [theme=dark] .colab-df-convert {\n",
              "      background-color: #3B4455;\n",
              "      fill: #D2E3FC;\n",
              "    }\n",
              "\n",
              "    [theme=dark] .colab-df-convert:hover {\n",
              "      background-color: #434B5C;\n",
              "      box-shadow: 0px 1px 3px 1px rgba(0, 0, 0, 0.15);\n",
              "      filter: drop-shadow(0px 1px 2px rgba(0, 0, 0, 0.3));\n",
              "      fill: #FFFFFF;\n",
              "    }\n",
              "  </style>\n",
              "\n",
              "      <script>\n",
              "        const buttonEl =\n",
              "          document.querySelector('#df-33424b14-f56d-4b4d-acb5-3e864491805b button.colab-df-convert');\n",
              "        buttonEl.style.display =\n",
              "          google.colab.kernel.accessAllowed ? 'block' : 'none';\n",
              "\n",
              "        async function convertToInteractive(key) {\n",
              "          const element = document.querySelector('#df-33424b14-f56d-4b4d-acb5-3e864491805b');\n",
              "          const dataTable =\n",
              "            await google.colab.kernel.invokeFunction('convertToInteractive',\n",
              "                                                     [key], {});\n",
              "          if (!dataTable) return;\n",
              "\n",
              "          const docLinkHtml = 'Like what you see? Visit the ' +\n",
              "            '<a target=\"_blank\" href=https://colab.research.google.com/notebooks/data_table.ipynb>data table notebook</a>'\n",
              "            + ' to learn more about interactive tables.';\n",
              "          element.innerHTML = '';\n",
              "          dataTable['output_type'] = 'display_data';\n",
              "          await google.colab.output.renderOutput(dataTable, element);\n",
              "          const docLink = document.createElement('div');\n",
              "          docLink.innerHTML = docLinkHtml;\n",
              "          element.appendChild(docLink);\n",
              "        }\n",
              "      </script>\n",
              "    </div>\n",
              "  </div>\n",
              "  "
            ]
          },
          "metadata": {}
        }
      ]
    },
    {
      "cell_type": "code",
      "source": [
        "\n",
        "train = [train_df[train_df.label==0].count()[0],train_df[train_df.label==1].count()[0]]\n",
        "test = [test_df[test_df.label==0].count()[0],test_df[test_df.label==1].count()[0]]\n",
        "val = [val_df[val_df.label==0].count()[0],val_df[val_df.label==1].count()[0]]\n",
        "\n",
        "index = ['0', '1']\n",
        "df = pd.DataFrame({'train': train,\n",
        "                   'val': val, 'test':test}, index=index)\n",
        "ax = df.plot.bar(rot=0)\n",
        "\n"
      ],
      "metadata": {
        "colab": {
          "base_uri": "https://localhost:8080/",
          "height": 265
        },
        "id": "eDCHvHPgHmrL",
        "outputId": "90633579-be96-443a-e25f-52ded6d880ce"
      },
      "execution_count": 4,
      "outputs": [
        {
          "output_type": "display_data",
          "data": {
            "text/plain": [
              "<Figure size 432x288 with 1 Axes>"
            ],
            "image/png": "[encoded data removed]"
          },
          "metadata": {
            "needs_background": "light"
          }
        }
      ]
    },
    {
      "cell_type": "markdown",
      "source": [
        "# Preprocessing of data\n",
        "\n",
        "The text will be tokenized and there will be a list of words for each sentence "
      ],
      "metadata": {
        "id": "RzdMP6ioIwVw"
      }
    },
    {
      "cell_type": "code",
      "source": [
        "train_df.head()"
      ],
      "metadata": {
        "colab": {
          "base_uri": "https://localhost:8080/",
          "height": 206
        },
        "id": "8AYW_3jUqRBu",
        "outputId": "8899fbdb-947f-44ef-a78e-1edc52194903"
      },
      "execution_count": 5,
      "outputs": [
        {
          "output_type": "execute_result",
          "data": {
            "text/plain": [
              "                                                text  label\n",
              "0  Subject: thank you\\r\\nami and daren , , , ,\\r\\...      0\n",
              "1  Subject: spot or firm tickets\\r\\nvance ,\\r\\nth...      0\n",
              "2  Subject: software\\r\\nmicrosoft windows xp prof...      1\n",
              "3  Subject: noms / actual flow for 2 / 27\\r\\nwe a...      0\n",
              "4  Subject: superb so . ftware\\r\\nyoull discover ...      1"
            ],
            "text/html": [
              "\n",
              "  <div id=\"df-7cf78aa3-80dd-48d8-b89d-4b5d57874ed4\">\n",
              "    <div class=\"colab-df-container\">\n",
              "      <div>\n",
              "<style scoped>\n",
              "    .dataframe tbody tr th:only-of-type {\n",
              "        vertical-align: middle;\n",
              "    }\n",
              "\n",
              "    .dataframe tbody tr th {\n",
              "        vertical-align: top;\n",
              "    }\n",
              "\n",
              "    .dataframe thead th {\n",
              "        text-align: right;\n",
              "    }\n",
              "</style>\n",
              "<table border=\"1\" class=\"dataframe\">\n",
              "  <thead>\n",
              "    <tr style=\"text-align: right;\">\n",
              "      <th></th>\n",
              "      <th>text</th>\n",
              "      <th>label</th>\n",
              "    </tr>\n",
              "  </thead>\n",
              "  <tbody>\n",
              "    <tr>\n",
              "      <th>0</th>\n",
              "      <td>Subject: thank you\\r\\nami and daren , , , ,\\r\\...</td>\n",
              "      <td>0</td>\n",
              "    </tr>\n",
              "    <tr>\n",
              "      <th>1</th>\n",
              "      <td>Subject: spot or firm tickets\\r\\nvance ,\\r\\nth...</td>\n",
              "      <td>0</td>\n",
              "    </tr>\n",
              "    <tr>\n",
              "      <th>2</th>\n",
              "      <td>Subject: software\\r\\nmicrosoft windows xp prof...</td>\n",
              "      <td>1</td>\n",
              "    </tr>\n",
              "    <tr>\n",
              "      <th>3</th>\n",
              "      <td>Subject: noms / actual flow for 2 / 27\\r\\nwe a...</td>\n",
              "      <td>0</td>\n",
              "    </tr>\n",
              "    <tr>\n",
              "      <th>4</th>\n",
              "      <td>Subject: superb so . ftware\\r\\nyoull discover ...</td>\n",
              "      <td>1</td>\n",
              "    </tr>\n",
              "  </tbody>\n",
              "</table>\n",
              "</div>\n",
              "      <button class=\"colab-df-convert\" onclick=\"convertToInteractive('df-7cf78aa3-80dd-48d8-b89d-4b5d57874ed4')\"\n",
              "              title=\"Convert this dataframe to an interactive table.\"\n",
              "              style=\"display:none;\">\n",
              "        \n",
              "  <svg xmlns=\"http://www.w3.org/2000/svg\" height=\"24px\"viewBox=\"0 0 24 24\"\n",
              "       width=\"24px\">\n",
              "    <path d=\"M0 0h24v24H0V0z\" fill=\"none\"/>\n",
              "    <path d=\"M18.56 5.44l.94 2.06.94-2.06 2.06-.94-2.06-.94-.94-2.06-.94 2.06-2.06.94zm-11 1L8.5 8.5l.94-2.06 2.06-.94-2.06-.94L8.5 2.5l-.94 2.06-2.06.94zm10 10l.94 2.06.94-2.06 2.06-.94-2.06-.94-.94-2.06-.94 2.06-2.06.94z\"/><path d=\"M17.41 7.96l-1.37-1.37c-.4-.4-.92-.59-1.43-.59-.52 0-1.04.2-1.43.59L10.3 9.45l-7.72 7.72c-.78.78-.78 2.05 0 2.83L4 21.41c.39.39.9.59 1.41.59.51 0 1.02-.2 1.41-.59l7.78-7.78 2.81-2.81c.8-.78.8-2.07 0-2.86zM5.41 20L4 18.59l7.72-7.72 1.47 1.35L5.41 20z\"/>\n",
              "  </svg>\n",
              "      </button>\n",
              "      \n",
              "  <style>\n",
              "    .colab-df-container {\n",
              "      display:flex;\n",
              "      flex-wrap:wrap;\n",
              "      gap: 12px;\n",
              "    }\n",
              "\n",
              "    .colab-df-convert {\n",
              "      background-color: #E8F0FE;\n",
              "      border: none;\n",
              "      border-radius: 50%;\n",
              "      cursor: pointer;\n",
              "      display: none;\n",
              "      fill: #1967D2;\n",
              "      height: 32px;\n",
              "      padding: 0 0 0 0;\n",
              "      width: 32px;\n",
              "    }\n",
              "\n",
              "    .colab-df-convert:hover {\n",
              "      background-color: #E2EBFA;\n",
              "      box-shadow: 0px 1px 2px rgba(60, 64, 67, 0.3), 0px 1px 3px 1px rgba(60, 64, 67, 0.15);\n",
              "      fill: #174EA6;\n",
              "    }\n",
              "\n",
              "    [theme=dark] .colab-df-convert {\n",
              "      background-color: #3B4455;\n",
              "      fill: #D2E3FC;\n",
              "    }\n",
              "\n",
              "    [theme=dark] .colab-df-convert:hover {\n",
              "      background-color: #434B5C;\n",
              "      box-shadow: 0px 1px 3px 1px rgba(0, 0, 0, 0.15);\n",
              "      filter: drop-shadow(0px 1px 2px rgba(0, 0, 0, 0.3));\n",
              "      fill: #FFFFFF;\n",
              "    }\n",
              "  </style>\n",
              "\n",
              "      <script>\n",
              "        const buttonEl =\n",
              "          document.querySelector('#df-7cf78aa3-80dd-48d8-b89d-4b5d57874ed4 button.colab-df-convert');\n",
              "        buttonEl.style.display =\n",
              "          google.colab.kernel.accessAllowed ? 'block' : 'none';\n",
              "\n",
              "        async function convertToInteractive(key) {\n",
              "          const element = document.querySelector('#df-7cf78aa3-80dd-48d8-b89d-4b5d57874ed4');\n",
              "          const dataTable =\n",
              "            await google.colab.kernel.invokeFunction('convertToInteractive',\n",
              "                                                     [key], {});\n",
              "          if (!dataTable) return;\n",
              "\n",
              "          const docLinkHtml = 'Like what you see? Visit the ' +\n",
              "            '<a target=\"_blank\" href=https://colab.research.google.com/notebooks/data_table.ipynb>data table notebook</a>'\n",
              "            + ' to learn more about interactive tables.';\n",
              "          element.innerHTML = '';\n",
              "          dataTable['output_type'] = 'display_data';\n",
              "          await google.colab.output.renderOutput(dataTable, element);\n",
              "          const docLink = document.createElement('div');\n",
              "          docLink.innerHTML = docLinkHtml;\n",
              "          element.appendChild(docLink);\n",
              "        }\n",
              "      </script>\n",
              "    </div>\n",
              "  </div>\n",
              "  "
            ]
          },
          "metadata": {},
          "execution_count": 5
        }
      ]
    },
    {
      "cell_type": "code",
      "source": [
        "#creating x and y from dataframes \n",
        "train_x = train_df.text\n",
        "train_y = train_df.label\n",
        "\n",
        "test_x = test_df.text\n",
        "test_y = test_df.label\n",
        "\n",
        "val_x = val_df.text\n",
        "val_y = val_df.label\n",
        "\n",
        "len(train_x)\n",
        "\n",
        "# https://www.kaggle.com/code/conniedeng/nlp-eron-dataset\n"
      ],
      "metadata": {
        "colab": {
          "base_uri": "https://localhost:8080/"
        },
        "id": "3gWGRy7mDkJy",
        "outputId": "bc888ed1-9224-469f-eb61-45b85d99258e"
      },
      "execution_count": 15,
      "outputs": [
        {
          "output_type": "execute_result",
          "data": {
            "text/plain": [
              "3102"
            ]
          },
          "metadata": {},
          "execution_count": 15
        }
      ]
    },
    {
      "cell_type": "code",
      "source": [
        "def split_row(row):\n",
        "  #splits row by \"\\n\"\n",
        "  return row.split(\"\\n\")"
      ],
      "metadata": {
        "id": "Xex94GysrZ3D"
      },
      "execution_count": 6,
      "outputs": []
    },
    {
      "cell_type": "code",
      "source": [
        "def tokenize(row):\n",
        "  #splits by white space and punct \n",
        "  return wordpunct_tokenize(row)"
      ],
      "metadata": {
        "id": "Zv0rAhQfs32u"
      },
      "execution_count": 7,
      "outputs": []
    },
    {
      "cell_type": "code",
      "source": [
        "def handle_money(row):\n",
        "  #puts $5.99 back from [\"$\",\"5\",\".\",\"99\"]\n",
        "  leng = len(row)\n",
        "  i = 0\n",
        "  while leng != 0 :\n",
        "    if row[i]=='$' and row[i+2].isnumeric():\n",
        "      row = row[:i+1] + row[(i+2):]\n",
        "      leng-=1\n",
        "\n",
        "    elif (row[i] == '.' and row[i+2].isnumeric() and row[i-2].isnumeric()):\n",
        "      row = row[0:i-1] + row[i:i+1] + row[i+2:]\n",
        "      leng-=2\n",
        "    i+=1\n",
        "    leng-=1\n",
        "\n",
        "  return row\n",
        "  "
      ],
      "metadata": {
        "id": "KaPdbzTDt8hX"
      },
      "execution_count": 8,
      "outputs": []
    },
    {
      "cell_type": "code",
      "source": [
        "def remove_punct(row):\n",
        "  #romoves punctuation marks \n",
        "  # [word for word in row if word.isalpha() or word[0] == \"$\" or word==\"!\"] \n",
        "\n",
        "  return [word for word in row if word.isalpha()] #check this thos \n"
      ],
      "metadata": {
        "id": "KOW_iddhKZif"
      },
      "execution_count": 19,
      "outputs": []
    },
    {
      "cell_type": "code",
      "source": [
        "stemmer = nltk.stem.porter.PorterStemmer()\n",
        "def stem_words(row):\n",
        "  #function that performs stemming \n",
        "  # removes word ending crudely -ing \n",
        "  return [stemmer.stem(i) for i in row]\n"
      ],
      "metadata": {
        "id": "O_MfO-43K49-"
      },
      "execution_count": 10,
      "outputs": []
    },
    {
      "cell_type": "code",
      "source": [
        "lemmatizer = nltk.stem.wordnet.WordNetLemmatizer()\n",
        "def lemmatize(row):\n",
        "  #performs lemmatization \n",
        "  # make a word a root \n",
        "  return [lemmatizer.lemmatize(i) for i in row]"
      ],
      "metadata": {
        "id": "cFU9diFRLL8c"
      },
      "execution_count": 12,
      "outputs": []
    },
    {
      "cell_type": "code",
      "source": [
        "a = [\"getting\", \"google\", \"meeting\",\"rocks\"]\n",
        "\n",
        "lemmatize(a)\n",
        "\n",
        "# stem_words(a)"
      ],
      "metadata": {
        "colab": {
          "base_uri": "https://localhost:8080/"
        },
        "id": "iYwj9I_yNOwW",
        "outputId": "0f6f2e94-be0b-4e34-8e7f-030514f38c24"
      },
      "execution_count": 27,
      "outputs": [
        {
          "output_type": "execute_result",
          "data": {
            "text/plain": [
              "['getting', 'google', 'meeting', 'rock']"
            ]
          },
          "metadata": {},
          "execution_count": 27
        }
      ]
    },
    {
      "cell_type": "code",
      "source": [
        "tokenizer = RegexpTokenizer('\\w+|\\$[\\d\\.]+|\\S+')\n",
        "\n",
        "def tokenize_with_money(row):\n",
        "  #dont split if theres money \n",
        "  return tokenizer.tokenize(row)\n"
      ],
      "metadata": {
        "id": "7XLgrj4Q_OeC"
      },
      "execution_count": 13,
      "outputs": []
    },
    {
      "cell_type": "code",
      "source": [
        "stop_words = nltk.corpus.stopwords.words('english')\n",
        "\n",
        "def remove_stop_words(row):\n",
        "  #removes stop words -> really frequent words  \n",
        "  return [i for i in row if i not in stop_words]"
      ],
      "metadata": {
        "id": "ssoxShzqJZN5"
      },
      "execution_count": 14,
      "outputs": []
    },
    {
      "cell_type": "code",
      "source": [
        "print(train_x[2])\n",
        "# a = split_row(train_x[0])\n",
        "# print(a)\n",
        "# \n",
        "a = handle_money(train_x[2])\n",
        "\n",
        "print(a)\n",
        "print(\"----------------------------------------------------------------------------------------------------------------------------------------------------------------------\")\n",
        "\n",
        "a = tokenize_with_money(a)\n",
        "print(a)\n",
        "print(\"----------------------------------------------------------------------------------------------------------------------------------------------------------------------\")\n",
        "\n",
        "a = remove_punct(a)\n",
        "print(a)\n",
        "print(\"----------------------------------------------------------------------------------------------------------------------------------------------------------------------\")\n",
        "\n",
        "a = remove_stop_words(a)\n",
        "print(a)\n",
        "print(\"----------------------------------------------------------------------------------------------------------------------------------------------------------------------\")\n",
        "\n",
        "\n",
        "a = stem_words(a)\n",
        "print(a)\n",
        "print(\"----------------------------------------------------------------------------------------------------------------------------------------------------------------------\")\n",
        "\n",
        "\n",
        "a = lemmatize(a)\n",
        "print(a)\n",
        "print(\"----------------------------------------------------------------------------------------------------------------------------------------------------------------------\")\n"
      ],
      "metadata": {
        "colab": {
          "base_uri": "https://localhost:8080/"
        },
        "id": "ZATFP1x5ulex",
        "outputId": "3c208599-40fe-4dfd-d4ed-94976e3a4bfe"
      },
      "execution_count": 267,
      "outputs": [
        {
          "output_type": "stream",
          "name": "stdout",
          "text": [
            "Subject: software\r\n",
            "microsoft windows xp professioznal 2002\r\n",
            "retail price : $ 270 . 99 our low pricie : $ 50 . 00 you save : $ 220 . 00\r\n",
            "adobe photoshkop 7 . 0\r\n",
            "retail price : $ 609 . 99 our low price : $ 60 . 00 you savue : $ 550 . 00\r\n",
            "microsoft office xp professional 2002\r\n",
            "retail price : $ 579 . 99 our low price : $ 60 . 00 you savxe : $ 510 . 00\r\n",
            "adobe illustrator 10 retaitl price : $ 270 . 99 our low price : $ 60 . 00 you savxe : $ 210 . 00\r\n",
            "corel draw graphics suite 11 rehtail price : $ 270 . 99 our low pricje : $ 60 . 00 you save : $ 210 . 00\r\n",
            "delphi 7\r\n",
            "retaifl price : $ 404 . 99 our low price : $ 60 . 00 you save : $ 335 . 00\r\n",
            "and more ! ! !\r\n",
            "why so cheap ?\r\n",
            "all the software is oem - meaninag that you don ' t get the box and the manual with your software . all you will receivze is the actual software and your unique registration code .\r\n",
            "all the softwarue is in the english language for pc . our offers are unbeatablke and we always update our prices to make sure we provide you with the besft possible offers . hurry up and place your ordner , because our supplies are limited .\r\n",
            "visimt us now ! http : / / cheap - drugs - here . biz / oeol 7 / ? affiliate _ id = 233763 & campaign _ id = 601\r\n",
            "fwunrt fmooetr ltby nyqkgbphb krgzgl vbbmigb zwftnqlp oaohkv icckmv rmcetdf wmlx lidfxvrnk tdrezc hbmvxft zjqdpnpd ldloti jbywub ozaqgcf czjj yvcbkprnc vbrekd fizzjnz kgfmkhmw rkqumd kgrnbt ggejkmi kyyj jepyoyklp wekjhw pajrtqy ybjlkvjj gvnwte ueqjbv vkcrccd uwut uwdhtzrrf mhbglw jdhkydx bvaeyvat nvorcx qvpwtx yniuzlb kkei lziqyfqqu mhlped kuauryt bthnutaz clzkex pvojiw xaablvb gnao otxenpenr qmdvju qafbwcc xdntfvhf jxzhbn\r\n",
            "\n",
            "Subject: software\r\n",
            "microsoft windows xp professioznal 2002\r\n",
            "retail price : $270.99 our low pricie : $50.00 you save : $220.00\r\n",
            "adobe photoshkop 7.0\r\n",
            "retail price : $609.99 our low price : $60.00 you savue : $550.00\r\n",
            "microsoft office xp professional 2002\r\n",
            "retail price : $579.99 our low price : $60.00 you savxe : $510.00\r\n",
            "adobe illustrator 10 retaitl price : $270.99 our low price : $60.00 you savxe : $210.00\r\n",
            "corel draw graphics suite 11 rehtail price : $270.99 our low pricje : $60.00 you save : $210.00\r\n",
            "delphi 7\r\n",
            "retaifl price : $404.99 our low price : $60.00 you save : $335.00\r\n",
            "and more ! ! !\r\n",
            "why so cheap ?\r\n",
            "all the software is oem - meaninag that you don ' t get the box and the manual with your software . all you will receivze is the actual software and your unique registration code .\r\n",
            "all the softwarue is in the english language for pc . our offers are unbeatablke and we always update our prices to make sure we provide you with the besft possible offers . hurry up and place your ordner , because our supplies are limited .\r\n",
            "visimt us now ! http : / / cheap - drugs - here . biz / oeol 7 / ? affiliate _ id = 233763 & campaign _ id = 601\r\n",
            "fwunrt fmooetr ltby nyqkgbphb krgzgl vbbmigb zwftnqlp oaohkv icckmv rmcetdf wmlx lidfxvrnk tdrezc hbmvxft zjqdpnpd ldloti jbywub ozaqgcf czjj yvcbkprnc vbrekd fizzjnz kgfmkhmw rkqumd kgrnbt ggejkmi kyyj jepyoyklp wekjhw pajrtqy ybjlkvjj gvnwte ueqjbv vkcrccd uwut uwdhtzrrf mhbglw jdhkydx bvaeyvat nvorcx qvpwtx yniuzlb kkei lziqyfqqu mhlped kuauryt bthnutaz clzkex pvojiw xaablvb gnao otxenpenr qmdvju qafbwcc xdntfvhf jxzhbn\r\n",
            "\n",
            "----------------------------------------------------------------------------------------------------------------------------------------------------------------------\n",
            "['Subject', ':', 'software', 'microsoft', 'windows', 'xp', 'professioznal', '2002', 'retail', 'price', ':', '$270.99', 'our', 'low', 'pricie', ':', '$50.00', 'you', 'save', ':', '$220.00', 'adobe', 'photoshkop', '7', '.0', 'retail', 'price', ':', '$609.99', 'our', 'low', 'price', ':', '$60.00', 'you', 'savue', ':', '$550.00', 'microsoft', 'office', 'xp', 'professional', '2002', 'retail', 'price', ':', '$579.99', 'our', 'low', 'price', ':', '$60.00', 'you', 'savxe', ':', '$510.00', 'adobe', 'illustrator', '10', 'retaitl', 'price', ':', '$270.99', 'our', 'low', 'price', ':', '$60.00', 'you', 'savxe', ':', '$210.00', 'corel', 'draw', 'graphics', 'suite', '11', 'rehtail', 'price', ':', '$270.99', 'our', 'low', 'pricje', ':', '$60.00', 'you', 'save', ':', '$210.00', 'delphi', '7', 'retaifl', 'price', ':', '$404.99', 'our', 'low', 'price', ':', '$60.00', 'you', 'save', ':', '$335.00', 'and', 'more', '!', '!', '!', 'why', 'so', 'cheap', '?', 'all', 'the', 'software', 'is', 'oem', '-', 'meaninag', 'that', 'you', 'don', \"'\", 't', 'get', 'the', 'box', 'and', 'the', 'manual', 'with', 'your', 'software', '.', 'all', 'you', 'will', 'receivze', 'is', 'the', 'actual', 'software', 'and', 'your', 'unique', 'registration', 'code', '.', 'all', 'the', 'softwarue', 'is', 'in', 'the', 'english', 'language', 'for', 'pc', '.', 'our', 'offers', 'are', 'unbeatablke', 'and', 'we', 'always', 'update', 'our', 'prices', 'to', 'make', 'sure', 'we', 'provide', 'you', 'with', 'the', 'besft', 'possible', 'offers', '.', 'hurry', 'up', 'and', 'place', 'your', 'ordner', ',', 'because', 'our', 'supplies', 'are', 'limited', '.', 'visimt', 'us', 'now', '!', 'http', ':', '/', '/', 'cheap', '-', 'drugs', '-', 'here', '.', 'biz', '/', 'oeol', '7', '/', '?', 'affiliate', '_', 'id', '=', '233763', '&', 'campaign', '_', 'id', '=', '601', 'fwunrt', 'fmooetr', 'ltby', 'nyqkgbphb', 'krgzgl', 'vbbmigb', 'zwftnqlp', 'oaohkv', 'icckmv', 'rmcetdf', 'wmlx', 'lidfxvrnk', 'tdrezc', 'hbmvxft', 'zjqdpnpd', 'ldloti', 'jbywub', 'ozaqgcf', 'czjj', 'yvcbkprnc', 'vbrekd', 'fizzjnz', 'kgfmkhmw', 'rkqumd', 'kgrnbt', 'ggejkmi', 'kyyj', 'jepyoyklp', 'wekjhw', 'pajrtqy', 'ybjlkvjj', 'gvnwte', 'ueqjbv', 'vkcrccd', 'uwut', 'uwdhtzrrf', 'mhbglw', 'jdhkydx', 'bvaeyvat', 'nvorcx', 'qvpwtx', 'yniuzlb', 'kkei', 'lziqyfqqu', 'mhlped', 'kuauryt', 'bthnutaz', 'clzkex', 'pvojiw', 'xaablvb', 'gnao', 'otxenpenr', 'qmdvju', 'qafbwcc', 'xdntfvhf', 'jxzhbn']\n",
            "----------------------------------------------------------------------------------------------------------------------------------------------------------------------\n",
            "['Subject', 'software', 'microsoft', 'windows', 'xp', 'professioznal', 'retail', 'price', '$270.99', 'our', 'low', 'pricie', '$50.00', 'you', 'save', '$220.00', 'adobe', 'photoshkop', 'retail', 'price', '$609.99', 'our', 'low', 'price', '$60.00', 'you', 'savue', '$550.00', 'microsoft', 'office', 'xp', 'professional', 'retail', 'price', '$579.99', 'our', 'low', 'price', '$60.00', 'you', 'savxe', '$510.00', 'adobe', 'illustrator', 'retaitl', 'price', '$270.99', 'our', 'low', 'price', '$60.00', 'you', 'savxe', '$210.00', 'corel', 'draw', 'graphics', 'suite', 'rehtail', 'price', '$270.99', 'our', 'low', 'pricje', '$60.00', 'you', 'save', '$210.00', 'delphi', 'retaifl', 'price', '$404.99', 'our', 'low', 'price', '$60.00', 'you', 'save', '$335.00', 'and', 'more', 'why', 'so', 'cheap', 'all', 'the', 'software', 'is', 'oem', 'meaninag', 'that', 'you', 'don', 't', 'get', 'the', 'box', 'and', 'the', 'manual', 'with', 'your', 'software', 'all', 'you', 'will', 'receivze', 'is', 'the', 'actual', 'software', 'and', 'your', 'unique', 'registration', 'code', 'all', 'the', 'softwarue', 'is', 'in', 'the', 'english', 'language', 'for', 'pc', 'our', 'offers', 'are', 'unbeatablke', 'and', 'we', 'always', 'update', 'our', 'prices', 'to', 'make', 'sure', 'we', 'provide', 'you', 'with', 'the', 'besft', 'possible', 'offers', 'hurry', 'up', 'and', 'place', 'your', 'ordner', 'because', 'our', 'supplies', 'are', 'limited', 'visimt', 'us', 'now', 'http', 'cheap', 'drugs', 'here', 'biz', 'oeol', 'affiliate', 'id', 'campaign', 'id', 'fwunrt', 'fmooetr', 'ltby', 'nyqkgbphb', 'krgzgl', 'vbbmigb', 'zwftnqlp', 'oaohkv', 'icckmv', 'rmcetdf', 'wmlx', 'lidfxvrnk', 'tdrezc', 'hbmvxft', 'zjqdpnpd', 'ldloti', 'jbywub', 'ozaqgcf', 'czjj', 'yvcbkprnc', 'vbrekd', 'fizzjnz', 'kgfmkhmw', 'rkqumd', 'kgrnbt', 'ggejkmi', 'kyyj', 'jepyoyklp', 'wekjhw', 'pajrtqy', 'ybjlkvjj', 'gvnwte', 'ueqjbv', 'vkcrccd', 'uwut', 'uwdhtzrrf', 'mhbglw', 'jdhkydx', 'bvaeyvat', 'nvorcx', 'qvpwtx', 'yniuzlb', 'kkei', 'lziqyfqqu', 'mhlped', 'kuauryt', 'bthnutaz', 'clzkex', 'pvojiw', 'xaablvb', 'gnao', 'otxenpenr', 'qmdvju', 'qafbwcc', 'xdntfvhf', 'jxzhbn']\n",
            "----------------------------------------------------------------------------------------------------------------------------------------------------------------------\n",
            "['Subject', 'software', 'microsoft', 'windows', 'xp', 'professioznal', 'retail', 'price', '$270.99', 'low', 'pricie', '$50.00', 'save', '$220.00', 'adobe', 'photoshkop', 'retail', 'price', '$609.99', 'low', 'price', '$60.00', 'savue', '$550.00', 'microsoft', 'office', 'xp', 'professional', 'retail', 'price', '$579.99', 'low', 'price', '$60.00', 'savxe', '$510.00', 'adobe', 'illustrator', 'retaitl', 'price', '$270.99', 'low', 'price', '$60.00', 'savxe', '$210.00', 'corel', 'draw', 'graphics', 'suite', 'rehtail', 'price', '$270.99', 'low', 'pricje', '$60.00', 'save', '$210.00', 'delphi', 'retaifl', 'price', '$404.99', 'low', 'price', '$60.00', 'save', '$335.00', 'cheap', 'software', 'oem', 'meaninag', 'get', 'box', 'manual', 'software', 'receivze', 'actual', 'software', 'unique', 'registration', 'code', 'softwarue', 'english', 'language', 'pc', 'offers', 'unbeatablke', 'always', 'update', 'prices', 'make', 'sure', 'provide', 'besft', 'possible', 'offers', 'hurry', 'place', 'ordner', 'supplies', 'limited', 'visimt', 'us', 'http', 'cheap', 'drugs', 'biz', 'oeol', 'affiliate', 'id', 'campaign', 'id', 'fwunrt', 'fmooetr', 'ltby', 'nyqkgbphb', 'krgzgl', 'vbbmigb', 'zwftnqlp', 'oaohkv', 'icckmv', 'rmcetdf', 'wmlx', 'lidfxvrnk', 'tdrezc', 'hbmvxft', 'zjqdpnpd', 'ldloti', 'jbywub', 'ozaqgcf', 'czjj', 'yvcbkprnc', 'vbrekd', 'fizzjnz', 'kgfmkhmw', 'rkqumd', 'kgrnbt', 'ggejkmi', 'kyyj', 'jepyoyklp', 'wekjhw', 'pajrtqy', 'ybjlkvjj', 'gvnwte', 'ueqjbv', 'vkcrccd', 'uwut', 'uwdhtzrrf', 'mhbglw', 'jdhkydx', 'bvaeyvat', 'nvorcx', 'qvpwtx', 'yniuzlb', 'kkei', 'lziqyfqqu', 'mhlped', 'kuauryt', 'bthnutaz', 'clzkex', 'pvojiw', 'xaablvb', 'gnao', 'otxenpenr', 'qmdvju', 'qafbwcc', 'xdntfvhf', 'jxzhbn']\n",
            "----------------------------------------------------------------------------------------------------------------------------------------------------------------------\n",
            "['subject', 'softwar', 'microsoft', 'window', 'xp', 'professiozn', 'retail', 'price', '$270.99', 'low', 'prici', '$50.00', 'save', '$220.00', 'adob', 'photoshkop', 'retail', 'price', '$609.99', 'low', 'price', '$60.00', 'savu', '$550.00', 'microsoft', 'offic', 'xp', 'profession', 'retail', 'price', '$579.99', 'low', 'price', '$60.00', 'savx', '$510.00', 'adob', 'illustr', 'retaitl', 'price', '$270.99', 'low', 'price', '$60.00', 'savx', '$210.00', 'corel', 'draw', 'graphic', 'suit', 'rehtail', 'price', '$270.99', 'low', 'pricj', '$60.00', 'save', '$210.00', 'delphi', 'retaifl', 'price', '$404.99', 'low', 'price', '$60.00', 'save', '$335.00', 'cheap', 'softwar', 'oem', 'meaninag', 'get', 'box', 'manual', 'softwar', 'receivz', 'actual', 'softwar', 'uniqu', 'registr', 'code', 'softwaru', 'english', 'languag', 'pc', 'offer', 'unbeatablk', 'alway', 'updat', 'price', 'make', 'sure', 'provid', 'besft', 'possibl', 'offer', 'hurri', 'place', 'ordner', 'suppli', 'limit', 'visimt', 'us', 'http', 'cheap', 'drug', 'biz', 'oeol', 'affili', 'id', 'campaign', 'id', 'fwunrt', 'fmooetr', 'ltbi', 'nyqkgbphb', 'krgzgl', 'vbbmigb', 'zwftnqlp', 'oaohkv', 'icckmv', 'rmcetdf', 'wmlx', 'lidfxvrnk', 'tdrezc', 'hbmvxft', 'zjqdpnpd', 'ldloti', 'jbywub', 'ozaqgcf', 'czjj', 'yvcbkprnc', 'vbrekd', 'fizzjnz', 'kgfmkhmw', 'rkqumd', 'kgrnbt', 'ggejkmi', 'kyyj', 'jepyoyklp', 'wekjhw', 'pajrtqi', 'ybjlkvjj', 'gvnwte', 'ueqjbv', 'vkcrccd', 'uwut', 'uwdhtzrrf', 'mhbglw', 'jdhkydx', 'bvaeyvat', 'nvorcx', 'qvpwtx', 'yniuzlb', 'kkei', 'lziqyfqqu', 'mhlped', 'kuauryt', 'bthnutaz', 'clzkex', 'pvojiw', 'xaablvb', 'gnao', 'otxenpenr', 'qmdvju', 'qafbwcc', 'xdntfvhf', 'jxzhbn']\n",
            "----------------------------------------------------------------------------------------------------------------------------------------------------------------------\n",
            "['subject', 'softwar', 'microsoft', 'window', 'xp', 'professiozn', 'retail', 'price', '$270.99', 'low', 'prici', '$50.00', 'save', '$220.00', 'adob', 'photoshkop', 'retail', 'price', '$609.99', 'low', 'price', '$60.00', 'savu', '$550.00', 'microsoft', 'offic', 'xp', 'profession', 'retail', 'price', '$579.99', 'low', 'price', '$60.00', 'savx', '$510.00', 'adob', 'illustr', 'retaitl', 'price', '$270.99', 'low', 'price', '$60.00', 'savx', '$210.00', 'corel', 'draw', 'graphic', 'suit', 'rehtail', 'price', '$270.99', 'low', 'pricj', '$60.00', 'save', '$210.00', 'delphi', 'retaifl', 'price', '$404.99', 'low', 'price', '$60.00', 'save', '$335.00', 'cheap', 'softwar', 'oem', 'meaninag', 'get', 'box', 'manual', 'softwar', 'receivz', 'actual', 'softwar', 'uniqu', 'registr', 'code', 'softwaru', 'english', 'languag', 'pc', 'offer', 'unbeatablk', 'alway', 'updat', 'price', 'make', 'sure', 'provid', 'besft', 'possibl', 'offer', 'hurri', 'place', 'ordner', 'suppli', 'limit', 'visimt', 'u', 'http', 'cheap', 'drug', 'biz', 'oeol', 'affili', 'id', 'campaign', 'id', 'fwunrt', 'fmooetr', 'ltbi', 'nyqkgbphb', 'krgzgl', 'vbbmigb', 'zwftnqlp', 'oaohkv', 'icckmv', 'rmcetdf', 'wmlx', 'lidfxvrnk', 'tdrezc', 'hbmvxft', 'zjqdpnpd', 'ldloti', 'jbywub', 'ozaqgcf', 'czjj', 'yvcbkprnc', 'vbrekd', 'fizzjnz', 'kgfmkhmw', 'rkqumd', 'kgrnbt', 'ggejkmi', 'kyyj', 'jepyoyklp', 'wekjhw', 'pajrtqi', 'ybjlkvjj', 'gvnwte', 'ueqjbv', 'vkcrccd', 'uwut', 'uwdhtzrrf', 'mhbglw', 'jdhkydx', 'bvaeyvat', 'nvorcx', 'qvpwtx', 'yniuzlb', 'kkei', 'lziqyfqqu', 'mhlped', 'kuauryt', 'bthnutaz', 'clzkex', 'pvojiw', 'xaablvb', 'gnao', 'otxenpenr', 'qmdvju', 'qafbwcc', 'xdntfvhf', 'jxzhbn']\n",
            "----------------------------------------------------------------------------------------------------------------------------------------------------------------------\n"
          ]
        }
      ]
    },
    {
      "cell_type": "code",
      "source": [
        "clean_train_x = []\n",
        "for i in train_x:\n",
        "\n",
        "  text = tokenize_with_money(i)\n",
        "\n",
        "  text = remove_punct(text)\n",
        "\n",
        "  text = remove_stop_words(text)\n",
        "\n",
        "  text = stem_words(text)\n",
        "\n",
        "  text = lemmatize(text)\n",
        "\n",
        "  clean_train_x.append(text)\n"
      ],
      "metadata": {
        "id": "4E018dbz4uui"
      },
      "execution_count": 48,
      "outputs": []
    },
    {
      "cell_type": "code",
      "source": [
        "print(\"Text before preprocessing: \\n\")\n",
        "print(train_x[0])\n",
        "print(\"----------------------------------------------------------------------------------------------------------------------------------------------------------------------\")\n",
        "print(\"Text after preprocessing: \\n\")\n",
        "print(clean_train_x[0])\n",
        "print(\"----------------------------------------------------------------------------------------------------------------------------------------------------------------------\")"
      ],
      "metadata": {
        "colab": {
          "base_uri": "https://localhost:8080/"
        },
        "id": "LOsXSKA3Mp_C",
        "outputId": "263fa89e-39e1-45db-be8b-b58d22247a92"
      },
      "execution_count": 33,
      "outputs": [
        {
          "output_type": "stream",
          "name": "stdout",
          "text": [
            "Text before preprocessing: \n",
            "\n",
            "Subject: thank you\r\n",
            "ami and daren , , , ,\r\n",
            "just wanted again to say thanks ! ! ! , for the great time at st . pete ' s beach ,\r\n",
            "fla .\r\n",
            "the company , food , fishing and yes , of coarse\r\n",
            "the drink or many drinks were great ! ! ! daren , can relate to the drinks .\r\n",
            "i enjoyed meeting everyone there .\r\n",
            "we appreciate your business and look forward to continue our business relation\r\n",
            "with enron in the future .\r\n",
            "sincerely ,\r\n",
            "tim\n",
            "----------------------------------------------------------------------------------------------------------------------------------------------------------------------\n",
            "Text after preprocessing: \n",
            "\n",
            "['subject', 'thank', 'ami', 'daren', 'want', 'say', 'thank', 'great', 'time', 'st', 'pete', 'beach', 'fla', 'compani', 'food', 'fish', 'ye', 'coars', 'drink', 'mani', 'drink', 'great', 'daren', 'relat', 'drink', 'enjoy', 'meet', 'everyon', 'appreci', 'busi', 'look', 'forward', 'continu', 'busi', 'relat', 'enron', 'futur', 'sincer', 'tim']\n",
            "----------------------------------------------------------------------------------------------------------------------------------------------------------------------\n"
          ]
        }
      ]
    },
    {
      "cell_type": "markdown",
      "source": [
        "# Training a standard Naive Bayes model "
      ],
      "metadata": {
        "id": "62EkfrNSDDZi"
      }
    },
    {
      "cell_type": "code",
      "source": [
        "#transforming to numeric form for MultinomialNB\n",
        "\n",
        "count_vector = CountVectorizer()\n",
        "\n",
        "clean_train_x = [\" \".join(i) for i in clean_train_x ] #turn to string for count_vector \n",
        "\n",
        "\n",
        "trans_x = count_vector.fit_transform(clean_train_x)\n",
        "\n",
        "trans_x_dense = np.array(trans_x.todense())\n",
        "\n",
        "Model1 = MultinomialNB().fit(trans_x_dense,train_y)"
      ],
      "metadata": {
        "id": "bVVD5uQxDC4g"
      },
      "execution_count": 49,
      "outputs": []
    },
    {
      "cell_type": "code",
      "source": [
        "trans_x[0][0]"
      ],
      "metadata": {
        "colab": {
          "base_uri": "https://localhost:8080/"
        },
        "id": "KHdi4bjGTqln",
        "outputId": "31a1fa0e-2c34-4b01-8da2-d9a1e3d868be"
      },
      "execution_count": 44,
      "outputs": [
        {
          "output_type": "execute_result",
          "data": {
            "text/plain": [
              "<1x28388 sparse matrix of type '<class 'numpy.int64'>'\n",
              "\twith 32 stored elements in Compressed Sparse Row format>"
            ]
          },
          "metadata": {},
          "execution_count": 44
        }
      ]
    },
    {
      "cell_type": "markdown",
      "source": [
        "## Naive Bayes model using 10 most frequent words as features "
      ],
      "metadata": {
        "id": "xNL_HvDLDTr-"
      }
    },
    {
      "cell_type": "code",
      "source": [],
      "metadata": {
        "id": "2sWD-0XnDNYf"
      },
      "execution_count": null,
      "outputs": []
    },
    {
      "cell_type": "markdown",
      "source": [
        "## Naive Bayes model using 100 most frequent words as features "
      ],
      "metadata": {
        "id": "GFQBM0mvDVXF"
      }
    },
    {
      "cell_type": "code",
      "source": [],
      "metadata": {
        "id": "JQadP6m3DW8Q"
      },
      "execution_count": null,
      "outputs": []
    },
    {
      "cell_type": "markdown",
      "source": [
        "## Naive Bayes model removing 100 most frequent words from features "
      ],
      "metadata": {
        "id": "8OYkzmeADXSf"
      }
    },
    {
      "cell_type": "code",
      "source": [],
      "metadata": {
        "id": "c4OlKHzbDfXa"
      },
      "execution_count": null,
      "outputs": []
    },
    {
      "cell_type": "markdown",
      "source": [
        "## Naive Bayes model using subject line as the feature set"
      ],
      "metadata": {
        "id": "55ba6XwwDjuW"
      }
    },
    {
      "cell_type": "code",
      "source": [],
      "metadata": {
        "id": "aAep9kIeDnLb"
      },
      "execution_count": null,
      "outputs": []
    },
    {
      "cell_type": "markdown",
      "source": [
        "# Evaluation using validation set"
      ],
      "metadata": {
        "id": "loNqoBygDvj-"
      }
    },
    {
      "cell_type": "markdown",
      "source": [
        "## Calculating the evaluation metrics"
      ],
      "metadata": {
        "id": "vXrPDXCRDyPj"
      }
    },
    {
      "cell_type": "code",
      "source": [],
      "metadata": {
        "id": "6WdjW_G3Dwzo"
      },
      "execution_count": null,
      "outputs": []
    },
    {
      "cell_type": "markdown",
      "source": [
        "## Comparing all 5 models "
      ],
      "metadata": {
        "id": "-ojjfOmHDxP7"
      }
    },
    {
      "cell_type": "code",
      "source": [],
      "metadata": {
        "id": "xgs1FOVmD3ea"
      },
      "execution_count": null,
      "outputs": []
    },
    {
      "cell_type": "markdown",
      "source": [
        "## Recommended model and reasons"
      ],
      "metadata": {
        "id": "NWlXiwfID4eR"
      }
    },
    {
      "cell_type": "code",
      "source": [],
      "metadata": {
        "id": "HkhnImSAD741"
      },
      "execution_count": null,
      "outputs": []
    },
    {
      "cell_type": "markdown",
      "source": [
        "# Evaluation using test set"
      ],
      "metadata": {
        "id": "twjWz8S2D8aO"
      }
    },
    {
      "cell_type": "code",
      "source": [],
      "metadata": {
        "id": "KO1zZytfECtS"
      },
      "execution_count": null,
      "outputs": []
    },
    {
      "cell_type": "markdown",
      "source": [
        "## Is recommendation still valid?"
      ],
      "metadata": {
        "id": "ChR2iLqsEDOT"
      }
    },
    {
      "cell_type": "code",
      "source": [],
      "metadata": {
        "id": "oE91jfWsEFh9"
      },
      "execution_count": null,
      "outputs": []
    },
    {
      "cell_type": "markdown",
      "source": [
        "# Implementation of 1 more variation to improve performance "
      ],
      "metadata": {
        "id": "_0kOaI7vEGFA"
      }
    },
    {
      "cell_type": "code",
      "source": [],
      "metadata": {
        "id": "bebIFA3bEOju"
      },
      "execution_count": null,
      "outputs": []
    },
    {
      "cell_type": "markdown",
      "source": [
        "## Evaluation of improved model"
      ],
      "metadata": {
        "id": "03venv1LEPGh"
      }
    },
    {
      "cell_type": "code",
      "source": [],
      "metadata": {
        "id": "3NnOGM9vERIi"
      },
      "execution_count": null,
      "outputs": []
    }
  ]
}